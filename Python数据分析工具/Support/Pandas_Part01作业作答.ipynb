{
 "cells": [
  {
   "cell_type": "code",
   "execution_count": null,
   "metadata": {
    "collapsed": true
   },
   "outputs": [],
   "source": [
    "\"\"\"\n",
    "【课程2.1  Pandas数据结构Series：基本概念及创建】 课程作业\n",
    "\n",
    "\"\"\""
   ]
  },
  {
   "cell_type": "code",
   "execution_count": 1,
   "metadata": {},
   "outputs": [
    {
     "name": "stdout",
     "output_type": "stream",
     "text": [
      "Jack     90.0\n",
      "Marry    92.0\n",
      "Tom      89.0\n",
      "Zack     65.0\n",
      "dtype: float64\n",
      "----------\n",
      "[ 76.41622482   5.72866651  73.35837127  91.66170259]\n",
      "Jack      76.416225\n",
      "Marray     5.728667\n",
      "Tom       73.358371\n",
      "Zack      91.661703\n",
      "dtype: float64\n"
     ]
    }
   ],
   "source": [
    "# 作业1：分别由字典、数组的方式，创建以下要求的Series\n",
    "\n",
    "import numpy as np\n",
    "import pandas as pd\n",
    "\n",
    "# 字典方式\n",
    "dic = {\"Jack\": 90.0, \"Marry\": 92.0, \"Tom\": 89.0, \"Zack\": 65.0}\n",
    "s = pd.Series(dic, dtype = np.float)\n",
    "print(s)\n",
    "print(\"----------\")\n",
    "\n",
    "# 数组方式\n",
    "arr = np.random.rand(4) * 100\n",
    "s1 = pd.Series(arr, index = [\"Jack\", \"Marray\", \"Tom\", \"Zack\"], dtype = float)\n",
    "print(arr)\n",
    "print(s1)"
   ]
  },
  {
   "cell_type": "code",
   "execution_count": null,
   "metadata": {
    "collapsed": true
   },
   "outputs": [],
   "source": [
    "\"\"\"\n",
    "【课程2.2  Pandas数据结构Series：索引】 课程作业\n",
    "\n",
    "\"\"\""
   ]
  },
  {
   "cell_type": "code",
   "execution_count": null,
   "metadata": {
    "collapsed": true
   },
   "outputs": [],
   "source": [
    "# 作业1：创建一个Series，包含10个元素，且每个值为0-100的均匀分布随机值，index为a-j，请分别筛选出：\n",
    "# ① 标签为b，c的值为多少\n",
    "# ② Series中第4到6个值是哪些？\n",
    "# ③ Series中大于50的值有哪些？\n"
   ]
  },
  {
   "cell_type": "code",
   "execution_count": 15,
   "metadata": {},
   "outputs": [
    {
     "name": "stdout",
     "output_type": "stream",
     "text": [
      "a    58.947170\n",
      "b    48.648045\n",
      "c    40.812891\n",
      "d     9.798967\n",
      "e    42.604837\n",
      "f     8.435255\n",
      "g    49.947756\n",
      "h    38.275252\n",
      "i    57.909088\n",
      "j    53.052113\n",
      "dtype: float64\n",
      "标签b的值：48.64804547404944, 标签c的值：40.81289124393378\n",
      "Series中第4到6个值是哪些：d     9.798967\n",
      "e    42.604837\n",
      "f     8.435255\n",
      "g    49.947756\n",
      "dtype: float64\n",
      "Series中大于50的值有哪些：a    58.947170\n",
      "i    57.909088\n",
      "j    53.052113\n",
      "dtype: float64\n"
     ]
    }
   ],
   "source": [
    "s = pd.Series(np.random.rand(10)*100, index = [\"a\", \"b\", \"c\", \"d\", \"e\", \"f\", \"g\", \"h\", \"i\", \"j\"])\n",
    "print(\"{}\".format(s))\n",
    "print(\"标签b的值：{}, 标签c的值：{}\".format(s[\"b\"], s[\"c\"]))\n",
    "\n",
    "print(\"Series中第4到6个值是哪些：{}\".format(s[\"d\":\"g\"]))\n",
    "print(\"Series中大于50的值有哪些：{}\".format(s[s>50]))"
   ]
  },
  {
   "cell_type": "code",
   "execution_count": null,
   "metadata": {
    "collapsed": true
   },
   "outputs": [],
   "source": [
    "\"\"\"\n",
    "【课程2.3  Pandas数据结构Series：基本技巧】 课程作业\n",
    "\n",
    "\"\"\""
   ]
  },
  {
   "cell_type": "code",
   "execution_count": 25,
   "metadata": {},
   "outputs": [
    {
     "name": "stdout",
     "output_type": "stream",
     "text": [
      "a    0\n",
      "b    1\n",
      "c    2\n",
      "d    3\n",
      "e    4\n",
      "f    5\n",
      "g    6\n",
      "h    7\n",
      "i    8\n",
      "j    9\n",
      "dtype: int64\n",
      "-------\n",
      "a    100\n",
      "c      2\n",
      "d      3\n",
      "e    100\n",
      "f    100\n",
      "g      6\n",
      "h      7\n",
      "i      8\n",
      "j      9\n",
      "dtype: int64\n"
     ]
    }
   ],
   "source": [
    "# 作业1：作业1：如图创建Series，并按照要求修改得到结果\n",
    "s = pd.Series(np.array(range(10)), index = list(\"abcdefghij\"))\n",
    "print(s)\n",
    "print(\"-------\")\n",
    "s_res = s.drop(\"b\")\n",
    "s_res[[\"a\", \"e\", \"f\"]] = 100\n",
    "\n",
    "print(s_res)"
   ]
  },
  {
   "cell_type": "code",
   "execution_count": null,
   "metadata": {
    "collapsed": true
   },
   "outputs": [],
   "source": [
    "'''\n",
    "【课程2.4  Pandas数据结构Dataframe：基本概念及创建】 课程作业\n",
    "\n",
    "'''"
   ]
  },
  {
   "cell_type": "code",
   "execution_count": 21,
   "metadata": {},
   "outputs": [
    {
     "name": "stdout",
     "output_type": "stream",
     "text": [
      "结果Dataframe为：\n",
      "    four  one  three  two\n",
      "a     4    1      3    2\n",
      "b     5    2      4    3\n",
      "c     6    3      5    4\n",
      "d     7    4      6    5\n",
      "e     8    5      7    6\n"
     ]
    }
   ],
   "source": [
    "# 作业1：用四种不同的方法，创建以下Dataframe（保证columns和index一致，值不做要求）\n",
    "\n",
    "df1 = pd.DataFrame({'one':[1,2,3,4,5],\n",
    "                   'two':[2,3,4,5,6],\n",
    "                   'three':[3,4,5,6,7],\n",
    "                   'four':[4,5,6,7,8]},\n",
    "                  index = list('abcde'))\n",
    "df2 = pd.DataFrame({'one':pd.Series([1,2,3,4,5],index = list('abcde')),\n",
    "                   'two':pd.Series([2,3,4,5,6],index = list('abcde')),\n",
    "                   'three':pd.Series([3,4,5,6,7],index = list('abcde')),\n",
    "                   'four':pd.Series([4,5,6,7,8],index = list('abcde'))})\n",
    "df3 = pd.DataFrame(np.arange(20).reshape(5,4), \n",
    "                   index = list('abcde'),\n",
    "                  columns = ['one','two','three','four'])\n",
    "df4 = pd.DataFrame([{'one':1,'two':2,'three':3,'four':4},\n",
    "                   {'one':2,'two':3,'three':4,'four':5},\n",
    "                   {'one':3,'two':4,'three':5,'four':6},\n",
    "                   {'one':4,'two':5,'three':6,'four':7},\n",
    "                   {'one':5,'two':6,'three':7,'four':8}],\n",
    "                  index = list('abcde'))\n",
    "print('结果Dataframe为：\\n',df4)"
   ]
  },
  {
   "cell_type": "code",
   "execution_count": null,
   "metadata": {
    "collapsed": true
   },
   "outputs": [],
   "source": [
    "\"\"\"\n",
    "【课程2.5  Pandas数据结构Dataframe：索引】 课程作业\n",
    "\n",
    "\"\"\"\n"
   ]
  },
  {
   "cell_type": "code",
   "execution_count": 17,
   "metadata": {},
   "outputs": [
    {
     "name": "stdout",
     "output_type": "stream",
     "text": [
      "① 索引得到b，c列的所有值:\n",
      "               b          c\n",
      "one     3.286047  34.125263\n",
      "two    50.053429  83.169203\n",
      "three  42.746097  18.258222\n",
      "four   72.391424  32.430972\n",
      "② 索引得到第三第四行的数据:\n",
      "               a          b          c          d\n",
      "three  99.789316  42.746097  18.258222  32.964284\n",
      "four   74.674054  72.391424  32.430972  75.622599\n",
      "③ 按顺序索引得到two，one行的值:\n",
      "             a          b          c          d\n",
      "two   5.035128  50.053429  83.169203  86.232393\n",
      "one  57.085258   3.286047  34.125263  35.627453\n",
      "④ 索引得到大于50的值:\n",
      "               a          b          c          d\n",
      "one    57.085258        NaN        NaN        NaN\n",
      "two          NaN  50.053429  83.169203  86.232393\n",
      "three  99.789316        NaN        NaN        NaN\n",
      "four   74.674054  72.391424        NaN  75.622599\n"
     ]
    }
   ],
   "source": [
    "# 作业1：如图创建Dataframe(4*4，值为0-100的随机数)，通过索引得到以下值\n",
    "# ① 索引得到b，c列的所有值\n",
    "# ② 索引得到第三第四行的数据\n",
    "# ③ 按顺序索引得到two，one行的值\n",
    "# ④ 索引得到大于50的值\n",
    "\n",
    "df = pd.DataFrame(np.random.rand(16).reshape(4,4)*100,\n",
    "                   index = ['one','two','three','four'],\n",
    "                   columns = ['a','b','c','d'])\n",
    "print(\"① 索引得到b，c列的所有值:\\n{}\".format(df[[\"b\", \"c\"]]))\n",
    "print(\"② 索引得到第三第四行的数据:\\n{}\".format(df.loc[[\"three\", \"four\"]]))\n",
    "print(\"③ 按顺序索引得到two，one行的值:\\n{}\".format(df.loc[[\"two\", \"one\"]]))\n",
    "print(\"④ 索引得到大于50的值:\\n{}\".format(df[df > 50]))"
   ]
  },
  {
   "cell_type": "code",
   "execution_count": null,
   "metadata": {
    "collapsed": true
   },
   "outputs": [],
   "source": [
    "\"\"\"\n",
    "【课程2.6  Pandas数据结构Dataframe：基本技巧】 课程作业\n",
    "\"\"\"\n"
   ]
  },
  {
   "cell_type": "code",
   "execution_count": 10,
   "metadata": {},
   "outputs": [
    {
     "name": "stdout",
     "output_type": "stream",
     "text": [
      "          v1         v2         v3\n",
      "c   6.821346   7.317248  31.931386\n",
      "b  76.550842  81.372422  51.916559\n",
      "a  40.895535  71.451795  74.104629\n",
      "          v1         v2         v3\n",
      "b  76.550842  81.372422  51.916559\n",
      "a  40.895535  71.451795  74.104629\n",
      "c   6.821346   7.317248  31.931386\n"
     ]
    }
   ],
   "source": [
    "# 作业1：创建一个3*3，值在0-100区间随机值的Dataframe（如图），分别按照index和第二列值大小，降序排序\n",
    "\n",
    "df = pd.DataFrame(np.random.rand(9).reshape(3,3)*100,\n",
    "                 index = [\"a\", \"b\", \"c\"],\n",
    "                 columns = [\"v1\", \"v2\", \"v3\"])\n",
    "print(df.sort_index(ascending = False))\n",
    "print(df.sort_values([\"v2\"], ascending=False))"
   ]
  },
  {
   "cell_type": "code",
   "execution_count": 20,
   "metadata": {},
   "outputs": [
    {
     "name": "stdout",
     "output_type": "stream",
     "text": [
      "          v1         v2\n",
      "a  80.754339  78.343731\n",
      "b  33.094076  31.601529\n",
      "c   5.487061   5.533804\n",
      "d  64.376114  16.519245\n",
      "e  36.212297  94.034705\n",
      "            a          b         c          d\n",
      "v1  80.754339  33.094076  5.487061  64.376114\n",
      "v2  78.343731  31.601529  5.533804  16.519245\n"
     ]
    }
   ],
   "source": [
    "# 作业2：创建一个5*2，值在0-100区间随机值的Dataframe（如图）df1，通过修改得到df2\n",
    "df = pd.DataFrame(np.random.rand(10).reshape(5,2)*100,\n",
    "                 index = [\"a\", \"b\", \"c\", \"d\", \"e\"],\n",
    "                 columns = [\"v1\", \"v2\"])\n",
    "print(df)\n",
    "df2 = df.drop(\"e\")\n",
    "print(df2.T)"
   ]
  }
 ],
 "metadata": {
  "kernelspec": {
   "display_name": "Python 3",
   "language": "python",
   "name": "python3"
  },
  "language_info": {
   "codemirror_mode": {
    "name": "ipython",
    "version": 3
   },
   "file_extension": ".py",
   "mimetype": "text/x-python",
   "name": "python",
   "nbconvert_exporter": "python",
   "pygments_lexer": "ipython3",
   "version": "3.6.3"
  }
 },
 "nbformat": 4,
 "nbformat_minor": 2
}
