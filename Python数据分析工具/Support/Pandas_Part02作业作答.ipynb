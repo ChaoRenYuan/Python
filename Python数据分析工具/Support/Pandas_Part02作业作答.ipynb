{
 "cells": [
  {
   "cell_type": "code",
   "execution_count": 2,
   "metadata": {
    "collapsed": true
   },
   "outputs": [],
   "source": [
    "\"\"\"\n",
    "【课程2.7  时间模块：datetime】 课程作业\n",
    "\"\"\""
   ]
  },
  {
   "cell_type": "code",
   "execution_count": 35,
   "metadata": {},
   "outputs": [
    {
     "name": "stdout",
     "output_type": "stream",
     "text": [
      "当前时间： 2018-03-14 21:06:32.627306\n",
      "-----------\n",
      "输出时间： 2017-05-01 12:30:00\n",
      "-----------\n",
      "输出时间： 2000-12-01 00:00:00\n",
      "-----------\n"
     ]
    }
   ],
   "source": [
    "# 作业1：请调用datetime模块，输出以下时间信息\n",
    "\n",
    "import datetime\n",
    "import pandas as pd\n",
    "import numpy as np\n",
    "\n",
    "now = datetime.datetime.now()\n",
    "print(\"当前时间：\",now)\n",
    "print(\"-----------\")\n",
    "\n",
    "time = datetime.datetime(2017,5,1,12,30,0)\n",
    "print(\"输出时间：\",time)\n",
    "print(\"-----------\")\n",
    "\n",
    "time1 = datetime.datetime(2000,12,1)\n",
    "print(\"输出时间：\",time1)\n",
    "print(\"-----------\")"
   ]
  },
  {
   "cell_type": "code",
   "execution_count": 13,
   "metadata": {},
   "outputs": [
    {
     "name": "stdout",
     "output_type": "stream",
     "text": [
      "2003-01-26 00:00:00\n"
     ]
    }
   ],
   "source": [
    "# 作业2：请创建时间变量‘2000年5月1日’，求出1000天之后是哪年哪月哪日？\n",
    "\n",
    "time1 = datetime.datetime(2000,5,1)\n",
    "print(time1 + datetime.timedelta(1000))"
   ]
  },
  {
   "cell_type": "code",
   "execution_count": null,
   "metadata": {
    "collapsed": true
   },
   "outputs": [],
   "source": [
    "\"\"\"\n",
    "【课程2.8  Pandas时刻数据：Timestamp】 课程作业\n",
    "\"\"\""
   ]
  },
  {
   "cell_type": "code",
   "execution_count": 2,
   "metadata": {},
   "outputs": [
    {
     "name": "stdout",
     "output_type": "stream",
     "text": [
      "创建时间列表为：\n",
      " ['2018-03-1', '2018-03-2', '2018-03-3', '2018-03-4', '2018-03-5', '2018-03-6', '2018-03-7', '2018-03-8', '2018-03-9', '2018-03-10', '2018-03-11', '2018-03-12', '2018-03-13', '2018-03-14', '2018-03-15', '2018-03-16', '2018-03-17', '2018-03-18', '2018-03-19', '2018-03-20', '2018-03-21', '2018-03-22', '2018-03-23', '2018-03-24', '2018-03-25', '2018-03-26', '2018-03-27', '2018-03-28', '2018-03-29', '2018-03-30', '2018-03-31']\n",
      "----------------\n",
      "转化成DatetimeIndex为：\n",
      " DatetimeIndex(['2018-03-01', '2018-03-02', '2018-03-03', '2018-03-04',\n",
      "               '2018-03-05', '2018-03-06', '2018-03-07', '2018-03-08',\n",
      "               '2018-03-09', '2018-03-10', '2018-03-11', '2018-03-12',\n",
      "               '2018-03-13', '2018-03-14', '2018-03-15', '2018-03-16',\n",
      "               '2018-03-17', '2018-03-18', '2018-03-19', '2018-03-20',\n",
      "               '2018-03-21', '2018-03-22', '2018-03-23', '2018-03-24',\n",
      "               '2018-03-25', '2018-03-26', '2018-03-27', '2018-03-28',\n",
      "               '2018-03-29', '2018-03-30', '2018-03-31'],\n",
      "              dtype='datetime64[ns]', freq=None)\n",
      "----------------\n",
      "月中为：\n",
      " 2018-03-16\n",
      "----------------\n"
     ]
    }
   ],
   "source": [
    "# 作业1：请通过迭代创建一个时间列表（如图，时间区间为任意一个月，这里可以用for语句）\n",
    "# 然后转化成DatetimeIndex，并print月中是多少号\n",
    "\n",
    "timeArr = []\n",
    "\n",
    "for i in range(31):\n",
    "    timeArr.append(\"2018-03-{}\".format(i+1))\n",
    "print(\"创建时间列表为：\\n\",timeArr)\n",
    "print(\"----------------\")\n",
    "\n",
    "t1 = pd.to_datetime(timeArr)\n",
    "print(\"转化成DatetimeIndex为：\\n\",t1)\n",
    "print(\"----------------\")\n",
    "\n",
    "count = len(timeArr)\n",
    "average = int((1 + count) / 2)\n",
    "print(\"月中为：\\n\",timeArr[average-1])\n",
    "print(\"----------------\")"
   ]
  },
  {
   "cell_type": "code",
   "execution_count": 38,
   "metadata": {},
   "outputs": [
    {
     "name": "stdout",
     "output_type": "stream",
     "text": [
      "读取txt文件为：\n",
      " ['20180101', '20180102', '20180103', '20180104', '20180105', '20180106', '20180107', '20180108', '20180109']\n",
      "-------------\n",
      "转化成DatetimeIndex为：\n",
      " DatetimeIndex(['2018-01-01', '2018-01-02', '2018-01-03', '2018-01-04',\n",
      "               '2018-01-05', '2018-01-06', '2018-01-07', '2018-01-08',\n",
      "               '2018-01-09'],\n",
      "              dtype='datetime64[ns]', freq=None)\n",
      "-------------\n"
     ]
    }
   ],
   "source": [
    "# 作业2：请如图创建一个包含时间日期的txt文件，通过open语句读取后转化成DatetimeIndex\n",
    "\n",
    "path = \"/Users/zorn/Desktop/timeTest.txt\"\n",
    "f = open(path, \"w\", encoding = \"utf8\")\n",
    "wArr = []\n",
    "for i in range(9):\n",
    "    wArr.append(\"2018010{}\".format(i+1))\n",
    "\n",
    "f.write(\",\".join(wArr))\n",
    "f.close()\n",
    "\n",
    "f = open(path, \"r\")\n",
    "readFile = f.read()\n",
    "st = readFile.split(\",\")\n",
    "print(\"读取txt文件为：\\n\",st)\n",
    "print(\"-------------\")\n",
    "\n",
    "print(\"转化成DatetimeIndex为：\\n\",pd.to_datetime(st))\n",
    "print(\"-------------\")"
   ]
  },
  {
   "cell_type": "code",
   "execution_count": null,
   "metadata": {
    "collapsed": true
   },
   "outputs": [],
   "source": [
    "\"\"\"\n",
    "【课程2.9  Pandas时间戳索引：DatetimeIndex】 课程作业\n",
    "\"\"\""
   ]
  },
  {
   "cell_type": "code",
   "execution_count": 64,
   "metadata": {},
   "outputs": [
    {
     "name": "stdout",
     "output_type": "stream",
     "text": [
      "时间序列1:\n",
      " 2017-01-01    0.529613\n",
      "2017-01-02    0.275011\n",
      "2017-01-03    0.601944\n",
      "2017-01-04    0.294871\n",
      "2017-01-05    0.785736\n",
      "Freq: D, dtype: float64\n",
      "---------------\n",
      "时间序列2:\n",
      " 2017-01-31    0.931476\n",
      "2017-04-30    0.640069\n",
      "2017-07-31    0.041024\n",
      "2017-10-31    0.347724\n",
      "Freq: 3M, dtype: float64\n",
      "---------------\n",
      "时间序列3:\n",
      "                        value1    value2    value3    value4\n",
      "2017-12-01 00:00:00  0.141112  0.288775  0.890503  0.466236\n",
      "2017-12-01 00:10:00  0.688959  0.005502  0.544855  0.532714\n",
      "2017-12-01 00:20:00  0.361789  0.830193  0.939408  0.185881\n",
      "2017-12-01 00:30:00  0.730591  0.816312  0.978256  0.795738\n",
      "---------------\n"
     ]
    }
   ],
   "source": [
    "# 作业1：请输出以下时间序列\n",
    "import pandas as pd\n",
    "import numpy as np\n",
    "\n",
    "ts = pd.Series(np.random.rand(5), index = pd.date_range(\"20170101\", \"20170105\"))\n",
    "print(\"时间序列1:\\n\",ts)\n",
    "print(\"---------------\")\n",
    "\n",
    "ts2 = pd.Series(np.random.rand(4), index = pd.date_range(start = \"2017\", end = \"2018\", freq = \"3M\"))\n",
    "print(\"时间序列2:\\n\",ts2)\n",
    "print(\"---------------\")\n",
    "tdf = pd.DataFrame(np.random.rand(16).reshape(4,4), index = pd.date_range(start = \"20171201\", periods = 4, freq = \"10MIN\"), columns = [\"value1\", \"value2\", \"value3\", \"value4\"])\n",
    "print(\"时间序列3:\\n\",tdf)\n",
    "print(\"---------------\")"
   ]
  },
  {
   "cell_type": "code",
   "execution_count": 70,
   "metadata": {},
   "outputs": [
    {
     "name": "stdout",
     "output_type": "stream",
     "text": [
      "创建时间序列ts1:\n",
      " 2017-05-01 12:00:00    0.836509\n",
      "2017-05-01 12:10:00    0.929574\n",
      "2017-05-01 12:20:00    0.958092\n",
      "2017-05-01 12:30:00    0.317194\n",
      "2017-05-01 12:40:00    0.869387\n",
      "Freq: 10T, dtype: float64\n",
      "-------------\n",
      "2017-05-01 12:00:00    0.836509\n",
      "2017-05-01 12:05:00    0.836509\n",
      "2017-05-01 12:10:00    0.929574\n",
      "2017-05-01 12:15:00    0.929574\n",
      "2017-05-01 12:20:00    0.958092\n",
      "2017-05-01 12:25:00    0.958092\n",
      "2017-05-01 12:30:00    0.317194\n",
      "2017-05-01 12:35:00    0.317194\n",
      "2017-05-01 12:40:00    0.869387\n",
      "Freq: 5T, dtype: float64\n"
     ]
    }
   ],
   "source": [
    "# 作业2：按要求创建时间序列ts1，并转换成ts2\n",
    "\n",
    "ts1 = pd.Series(np.random.rand(5), index = pd.date_range(start = \"20170501 12:00:00\", periods = 5, freq = \"10T\"))\n",
    "print(\"创建时间序列ts1:\\n\",ts1)\n",
    "print(\"-------------\")\n",
    "\n",
    "ts2 = ts1.asfreq(freq = \"5T\", method = \"ffill\")\n",
    "print(ts2)"
   ]
  },
  {
   "cell_type": "code",
   "execution_count": null,
   "metadata": {
    "collapsed": true
   },
   "outputs": [],
   "source": [
    "\"\"\"\n",
    "【课程2.10  Pandas时期：Period】 课程作业\n",
    "\"\"\""
   ]
  },
  {
   "cell_type": "code",
   "execution_count": 27,
   "metadata": {},
   "outputs": [
    {
     "name": "stdout",
     "output_type": "stream",
     "text": [
      "时间序列1:\n",
      " 2017-01    0.779699\n",
      "2017-02    0.818559\n",
      "2017-03    0.482024\n",
      "2017-04    0.194205\n",
      "2017-05    0.567274\n",
      "Freq: M, dtype: float64\n",
      "--------------\n",
      "时间序列2:\n",
      " 2017-01-01 00:00    0.306772\n",
      "2017-01-01 02:00    0.992587\n",
      "2017-01-01 04:00    0.527111\n",
      "2017-01-01 06:00    0.248765\n",
      "2017-01-01 08:00    0.228330\n",
      "Freq: 2H, dtype: float64\n",
      "--------------\n"
     ]
    }
   ],
   "source": [
    "# 作业1：请输出以下时间序列，使用pd.period_range()\n",
    "\n",
    "prng = pd.period_range(start = \"2017\", end = \"2018\", freq = \"M\")\n",
    "ts1 = pd.Series(np.random.rand(len(prng)), index = prng)\n",
    "print(\"时间序列1:\\n\",ts1.head())\n",
    "print(\"--------------\")\n",
    "\n",
    "prng1 = pd.period_range(start = \"2017-01-01\", end = \"2017-01-02\", freq = \"2H\")\n",
    "ts2 = pd.Series(np.random.rand(len(prng1)), index = prng1)\n",
    "print(\"时间序列2:\\n\",ts2.head())\n",
    "print(\"--------------\")"
   ]
  },
  {
   "cell_type": "code",
   "execution_count": null,
   "metadata": {
    "collapsed": true
   },
   "outputs": [],
   "source": [
    "\"\"\"\n",
    "【课程2.11  时间序列 - 索引及切片】 课程作业\n",
    "\"\"\""
   ]
  },
  {
   "cell_type": "code",
   "execution_count": 73,
   "metadata": {},
   "outputs": [
    {
     "name": "stdout",
     "output_type": "stream",
     "text": [
      "创建时间序列为：\n",
      "                         value1     value2     value3\n",
      "2017-12-01 00:00:00  79.177241  16.923431  29.221117\n",
      "2017-12-01 12:00:00  98.149288  14.769911  68.006464\n",
      "2017-12-02 00:00:00  98.231710  16.726062  58.536735\n",
      "2017-12-02 12:00:00  19.666938  51.332739  72.787606\n",
      "2017-12-03 00:00:00  51.872023  23.506206   3.987100\n",
      "2017-12-03 12:00:00  71.956307  87.809468   3.445608\n",
      "2017-12-04 00:00:00  52.343976  55.218776  25.558879\n",
      "2017-12-04 12:00:00  94.178715  76.192158  81.392978\n",
      "2017-12-05 00:00:00  91.311529  69.781541   1.495370\n",
      "2017-12-05 12:00:00  54.754415  74.885539  92.830912\n",
      "----------\n",
      "前4行的所有值为：\n",
      "                         value1     value2     value3\n",
      "2017-12-01 00:00:00  79.177241  16.923431  29.221117\n",
      "2017-12-01 12:00:00  98.149288  14.769911  68.006464\n",
      "2017-12-02 00:00:00  98.231710  16.726062  58.536735\n",
      "----------\n",
      "2017-12-04 - 2017-12-05的数据为：\n",
      "                         value1     value2     value3\n",
      "2017-12-04 00:00:00  52.343976  55.218776  25.558879\n",
      "2017-12-04 12:00:00  94.178715  76.192158  81.392978\n",
      "2017-12-05 00:00:00  91.311529  69.781541   1.495370\n",
      "2017-12-05 12:00:00  54.754415  74.885539  92.830912\n",
      "----------\n"
     ]
    }
   ],
   "source": [
    "# 作业1：如图创建时间序列(10*3，值为0-100的随机数)，通过索引得到以下值\n",
    "# ① 索引得到前4行的所有值\n",
    "# ② 索引得到2017-12-4 12:00:00的数据\n",
    "# ③ 索引得到2017-12-4 - 2017-12-5的数据\n",
    "\n",
    "rng = pd.date_range('20171201', periods = 10, freq = '12H')\n",
    "columnsArr = [\"value1\", \"value2\", \"value3\"]\n",
    "ts = pd.DataFrame(np.random.rand(10,3)*100, index = rng, columns = columnsArr)\n",
    "print(\"创建时间序列为：\\n\",ts)\n",
    "print(\"----------\")\n",
    "\n",
    "print(\"前4行的所有值为：\\n\",ts[:3])\n",
    "print(\"----------\")\n",
    "\n",
    "print(\"2017-12-04 - 2017-12-05的数据为：\\n\",ts[\"2017-12-04\": \"2017-12-05\"])\n",
    "print(\"----------\")"
   ]
  },
  {
   "cell_type": "code",
   "execution_count": 75,
   "metadata": {},
   "outputs": [],
   "source": [
    "\"\"\"\n",
    "【课程2.12  时间序列 - 重采样】 课程作业\n",
    "\"\"\""
   ]
  },
  {
   "cell_type": "code",
   "execution_count": null,
   "metadata": {
    "collapsed": true
   },
   "outputs": [],
   "source": [
    "# 作业1：按要求创建时间序列ts1，通过降采样和升采样，转换成ts2，ts3\n",
    "\n",
    "ts1 = pd.Series(np.random.rand(10),\n",
    "              index = pd.date_range('20170101',periods = 10, freq = 'D'))\n",
    "ts2 = ts1.resample('3D').mean()\n",
    "ts3 = ts1.resample('12H').ffill()\n",
    "print('创建时间序列ts1：\\n',ts1,'\\n------')\n",
    "print('转换成ts2：\\n',ts2,'\\n------')\n",
    "print('转换成ts3：\\n',ts3,'\\n------')"
   ]
  },
  {
   "cell_type": "code",
   "execution_count": null,
   "metadata": {
    "collapsed": true
   },
   "outputs": [],
   "source": []
  },
  {
   "cell_type": "code",
   "execution_count": null,
   "metadata": {
    "collapsed": true
   },
   "outputs": [],
   "source": []
  },
  {
   "cell_type": "code",
   "execution_count": null,
   "metadata": {
    "collapsed": true
   },
   "outputs": [],
   "source": []
  },
  {
   "cell_type": "code",
   "execution_count": null,
   "metadata": {
    "collapsed": true
   },
   "outputs": [],
   "source": []
  },
  {
   "cell_type": "code",
   "execution_count": null,
   "metadata": {
    "collapsed": true
   },
   "outputs": [],
   "source": []
  },
  {
   "cell_type": "code",
   "execution_count": null,
   "metadata": {
    "collapsed": true
   },
   "outputs": [],
   "source": []
  },
  {
   "cell_type": "code",
   "execution_count": null,
   "metadata": {
    "collapsed": true
   },
   "outputs": [],
   "source": []
  },
  {
   "cell_type": "code",
   "execution_count": null,
   "metadata": {
    "collapsed": true
   },
   "outputs": [],
   "source": []
  },
  {
   "cell_type": "code",
   "execution_count": null,
   "metadata": {
    "collapsed": true
   },
   "outputs": [],
   "source": []
  },
  {
   "cell_type": "code",
   "execution_count": null,
   "metadata": {
    "collapsed": true
   },
   "outputs": [],
   "source": []
  },
  {
   "cell_type": "code",
   "execution_count": null,
   "metadata": {
    "collapsed": true
   },
   "outputs": [],
   "source": []
  },
  {
   "cell_type": "code",
   "execution_count": null,
   "metadata": {
    "collapsed": true
   },
   "outputs": [],
   "source": []
  },
  {
   "cell_type": "code",
   "execution_count": null,
   "metadata": {
    "collapsed": true
   },
   "outputs": [],
   "source": []
  }
 ],
 "metadata": {
  "kernelspec": {
   "display_name": "Python 3",
   "language": "python",
   "name": "python3"
  },
  "language_info": {
   "codemirror_mode": {
    "name": "ipython",
    "version": 3
   },
   "file_extension": ".py",
   "mimetype": "text/x-python",
   "name": "python",
   "nbconvert_exporter": "python",
   "pygments_lexer": "ipython3",
   "version": "3.6.3"
  }
 },
 "nbformat": 4,
 "nbformat_minor": 2
}
