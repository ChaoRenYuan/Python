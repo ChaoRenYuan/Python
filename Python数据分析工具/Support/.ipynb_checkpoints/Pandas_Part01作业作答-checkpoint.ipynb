{
 "cells": [
  {
   "cell_type": "code",
   "execution_count": null,
   "metadata": {
    "collapsed": true
   },
   "outputs": [],
   "source": [
    "\"\"\"\n",
    "【课程2.1  Pandas数据结构Series：基本概念及创建】 课程作业\n",
    "\n",
    "\"\"\""
   ]
  },
  {
   "cell_type": "code",
   "execution_count": 2,
   "metadata": {},
   "outputs": [
    {
     "name": "stdout",
     "output_type": "stream",
     "text": [
      "Jack     90.0\n",
      "Marry    92.0\n",
      "Tom      89.0\n",
      "Zack     65.0\n",
      "dtype: float64\n",
      "----------\n",
      "[ 51.30296986  59.14290441  54.49065817  84.55159463]\n",
      "Jack      51.302970\n",
      "Marray    59.142904\n",
      "Tom       54.490658\n",
      "Zack      84.551595\n",
      "dtype: float64\n"
     ]
    }
   ],
   "source": [
    "# 作业1：分别由字典、数组的方式，创建以下要求的Series\n",
    "\n",
    "import numpy as np\n",
    "import pandas as pd\n",
    "\n",
    "# 字典方式\n",
    "dic = {\"Jack\": 90.0, \"Marry\": 92.0, \"Tom\": 89.0, \"Zack\": 65.0}\n",
    "s = pd.Series(dic, dtype = np.float)\n",
    "print(s)\n",
    "print(\"----------\")\n",
    "\n",
    "# 数组方式\n",
    "arr = np.random.rand(4) * 100\n",
    "s1 = pd.Series(arr, index = [\"Jack\", \"Marray\", \"Tom\", \"Zack\"], dtype = float)\n",
    "print(arr)\n",
    "print(s1)"
   ]
  },
  {
   "cell_type": "code",
   "execution_count": null,
   "metadata": {
    "collapsed": true
   },
   "outputs": [],
   "source": [
    "\"\"\"\n",
    "【课程2.2  Pandas数据结构Series：索引】 课程作业\n",
    "\n",
    "\"\"\""
   ]
  },
  {
   "cell_type": "code",
   "execution_count": null,
   "metadata": {
    "collapsed": true
   },
   "outputs": [],
   "source": [
    "# 作业1：创建一个Series，包含10个元素，且每个值为0-100的均匀分布随机值，index为a-j，请分别筛选出：\n",
    "# ① 标签为b，c的值为多少\n",
    "# ② Series中第4到6个值是哪些？\n",
    "# ③ Series中大于50的值有哪些？\n"
   ]
  },
  {
   "cell_type": "code",
   "execution_count": 15,
   "metadata": {},
   "outputs": [
    {
     "name": "stdout",
     "output_type": "stream",
     "text": [
      "a    58.947170\n",
      "b    48.648045\n",
      "c    40.812891\n",
      "d     9.798967\n",
      "e    42.604837\n",
      "f     8.435255\n",
      "g    49.947756\n",
      "h    38.275252\n",
      "i    57.909088\n",
      "j    53.052113\n",
      "dtype: float64\n",
      "标签b的值：48.64804547404944, 标签c的值：40.81289124393378\n",
      "Series中第4到6个值是哪些：d     9.798967\n",
      "e    42.604837\n",
      "f     8.435255\n",
      "g    49.947756\n",
      "dtype: float64\n",
      "Series中大于50的值有哪些：a    58.947170\n",
      "i    57.909088\n",
      "j    53.052113\n",
      "dtype: float64\n"
     ]
    }
   ],
   "source": [
    "s = pd.Series(np.random.rand(10)*100, index = [\"a\", \"b\", \"c\", \"d\", \"e\", \"f\", \"g\", \"h\", \"i\", \"j\"])\n",
    "print(\"{}\".format(s))\n",
    "print(\"标签b的值：{}, 标签c的值：{}\".format(s[\"b\"], s[\"c\"]))\n",
    "\n",
    "print(\"Series中第4到6个值是哪些：{}\".format(s[\"d\":\"g\"]))\n",
    "print(\"Series中大于50的值有哪些：{}\".format(s[s>50]))"
   ]
  },
  {
   "cell_type": "code",
   "execution_count": null,
   "metadata": {
    "collapsed": true
   },
   "outputs": [],
   "source": [
    "\"\"\"\n",
    "【课程2.3  Pandas数据结构Series：基本技巧】 课程作业\n",
    "\n",
    "\"\"\""
   ]
  },
  {
   "cell_type": "code",
   "execution_count": 25,
   "metadata": {},
   "outputs": [
    {
     "name": "stdout",
     "output_type": "stream",
     "text": [
      "a    0\n",
      "b    1\n",
      "c    2\n",
      "d    3\n",
      "e    4\n",
      "f    5\n",
      "g    6\n",
      "h    7\n",
      "i    8\n",
      "j    9\n",
      "dtype: int64\n",
      "-------\n",
      "a    100\n",
      "c      2\n",
      "d      3\n",
      "e    100\n",
      "f    100\n",
      "g      6\n",
      "h      7\n",
      "i      8\n",
      "j      9\n",
      "dtype: int64\n"
     ]
    }
   ],
   "source": [
    "# 作业1：作业1：如图创建Series，并按照要求修改得到结果\n",
    "s = pd.Series(np.array(range(10)), index = list(\"abcdefghij\"))\n",
    "print(s)\n",
    "print(\"-------\")\n",
    "s_res = s.drop(\"b\")\n",
    "s_res[[\"a\", \"e\", \"f\"]] = 100\n",
    "\n",
    "print(s_res)"
   ]
  },
  {
   "cell_type": "code",
   "execution_count": null,
   "metadata": {
    "collapsed": true
   },
   "outputs": [],
   "source": [
    "\"\"\"\n",
    "【课程2.6  Pandas数据结构Dataframe：索引】 课程作业\n",
    "\n",
    "\"\"\"\n"
   ]
  },
  {
   "cell_type": "code",
   "execution_count": 17,
   "metadata": {},
   "outputs": [
    {
     "name": "stdout",
     "output_type": "stream",
     "text": [
      "① 索引得到b，c列的所有值:\n",
      "               b          c\n",
      "one     3.286047  34.125263\n",
      "two    50.053429  83.169203\n",
      "three  42.746097  18.258222\n",
      "four   72.391424  32.430972\n",
      "② 索引得到第三第四行的数据:\n",
      "               a          b          c          d\n",
      "three  99.789316  42.746097  18.258222  32.964284\n",
      "four   74.674054  72.391424  32.430972  75.622599\n",
      "③ 按顺序索引得到two，one行的值:\n",
      "             a          b          c          d\n",
      "two   5.035128  50.053429  83.169203  86.232393\n",
      "one  57.085258   3.286047  34.125263  35.627453\n",
      "④ 索引得到大于50的值:\n",
      "               a          b          c          d\n",
      "one    57.085258        NaN        NaN        NaN\n",
      "two          NaN  50.053429  83.169203  86.232393\n",
      "three  99.789316        NaN        NaN        NaN\n",
      "four   74.674054  72.391424        NaN  75.622599\n"
     ]
    }
   ],
   "source": [
    "# 作业1：如图创建Dataframe(4*4，值为0-100的随机数)，通过索引得到以下值\n",
    "# ① 索引得到b，c列的所有值\n",
    "# ② 索引得到第三第四行的数据\n",
    "# ③ 按顺序索引得到two，one行的值\n",
    "# ④ 索引得到大于50的值\n",
    "\n",
    "df = pd.DataFrame(np.random.rand(16).reshape(4,4)*100,\n",
    "                   index = ['one','two','three','four'],\n",
    "                   columns = ['a','b','c','d'])\n",
    "print(\"① 索引得到b，c列的所有值:\\n{}\".format(df[[\"b\", \"c\"]]))\n",
    "print(\"② 索引得到第三第四行的数据:\\n{}\".format(df.loc[[\"three\", \"four\"]]))\n",
    "print(\"③ 按顺序索引得到two，one行的值:\\n{}\".format(df.loc[[\"two\", \"one\"]]))\n",
    "print(\"④ 索引得到大于50的值:\\n{}\".format(df[df > 50]))"
   ]
  },
  {
   "cell_type": "code",
   "execution_count": null,
   "metadata": {
    "collapsed": true
   },
   "outputs": [],
   "source": []
  },
  {
   "cell_type": "code",
   "execution_count": null,
   "metadata": {
    "collapsed": true
   },
   "outputs": [],
   "source": []
  },
  {
   "cell_type": "code",
   "execution_count": null,
   "metadata": {
    "collapsed": true
   },
   "outputs": [],
   "source": []
  },
  {
   "cell_type": "code",
   "execution_count": null,
   "metadata": {
    "collapsed": true
   },
   "outputs": [],
   "source": []
  },
  {
   "cell_type": "code",
   "execution_count": null,
   "metadata": {
    "collapsed": true
   },
   "outputs": [],
   "source": []
  },
  {
   "cell_type": "code",
   "execution_count": null,
   "metadata": {
    "collapsed": true
   },
   "outputs": [],
   "source": []
  },
  {
   "cell_type": "code",
   "execution_count": null,
   "metadata": {
    "collapsed": true
   },
   "outputs": [],
   "source": []
  }
 ],
 "metadata": {
  "kernelspec": {
   "display_name": "Python 3",
   "language": "python",
   "name": "python3"
  },
  "language_info": {
   "codemirror_mode": {
    "name": "ipython",
    "version": 3
   },
   "file_extension": ".py",
   "mimetype": "text/x-python",
   "name": "python",
   "nbconvert_exporter": "python",
   "pygments_lexer": "ipython3",
   "version": "3.6.3"
  }
 },
 "nbformat": 4,
 "nbformat_minor": 2
}
