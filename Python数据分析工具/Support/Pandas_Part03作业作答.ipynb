{
 "cells": [
  {
   "cell_type": "code",
   "execution_count": null,
   "metadata": {
    "collapsed": true
   },
   "outputs": [],
   "source": [
    "\"\"\"\n",
    "【课程2.13  数值计算和统计基础】 课程作业\n",
    "\"\"\""
   ]
  },
  {
   "cell_type": "code",
   "execution_count": 6,
   "metadata": {},
   "outputs": [
    {
     "name": "stdout",
     "output_type": "stream",
     "text": [
      "创建DataFrame为：\n",
      "         key1       key2\n",
      "0  78.934828  82.233021\n",
      "1  94.130107  42.801726\n",
      "2  55.529474  88.428982\n",
      "3  74.889368  34.918971\n",
      "4  64.816234  69.439043\n",
      "---------------\n",
      "df[\"key1\"]的均值为：\n",
      " 73.66000218112461\n",
      "---------------\n",
      "df[\"key1\"]的中位数为：\n",
      " 74.88936781900908\n",
      "---------------\n",
      "df[\"key2\"]的均值为：\n",
      " 63.56434858222578\n",
      "---------------\n",
      "df[\"key2\"]的中位数为：\n",
      " 69.43904337699601\n",
      "---------------\n",
      "df的累积和为：\n",
      "         key1       key2  key1_cumsum  key2_cumsum\n",
      "0  78.934828  82.233021    78.934828    82.233021\n",
      "1  94.130107  42.801726   173.064935   125.034746\n",
      "2  55.529474  88.428982   228.594409   213.463729\n",
      "3  74.889368  34.918971   303.483777   248.382700\n",
      "4  64.816234  69.439043   368.300011   317.821743\n",
      "---------------\n"
     ]
    }
   ],
   "source": [
    "# 作业1：如图创建一个Dataframe（5*2，值为0-100的随机值），并分别计算key1和key2的均值、中位数、累积和\n",
    "\n",
    "import numpy as np\n",
    "import pandas as pd\n",
    "\n",
    "arr = np.random.rand(10).reshape(5,2)*100\n",
    "df = pd.DataFrame(arr, columns = [\"key1\", \"key2\"])\n",
    "print(\"创建DataFrame为：\\n\", df)\n",
    "print(\"---------------\")\n",
    "print(\"df[\\\"key1\\\"]的均值为：\\n\", df[\"key1\"].mean())\n",
    "print(\"---------------\")\n",
    "print(\"df[\\\"key1\\\"]的中位数为：\\n\", df[\"key1\"].median())\n",
    "print(\"---------------\")\n",
    "print(\"df[\\\"key2\\\"]的均值为：\\n\", df[\"key2\"].mean())\n",
    "print(\"---------------\")\n",
    "print(\"df[\\\"key2\\\"]的中位数为：\\n\", df[\"key2\"].median())\n",
    "print(\"---------------\")\n",
    "\n",
    "df[\"key1_cumsum\"] = df[\"key1\"].cumsum()\n",
    "df[\"key2_cumsum\"] = df[\"key2\"].cumsum()\n",
    "print(\"df的累积和为：\\n\", df)\n",
    "print(\"---------------\")"
   ]
  },
  {
   "cell_type": "code",
   "execution_count": 30,
   "metadata": {},
   "outputs": [
    {
     "name": "stdout",
     "output_type": "stream",
     "text": [
      "请随机输入一组元素，用逗号（英文逗号）隔开:\n",
      "1,2,3\n",
      "-----------\n",
      "该数组是唯一值数组\n"
     ]
    }
   ],
   "source": [
    "# 作业2：写出一个输入元素直接生成数组的代码块，然后创建一个函数,\n",
    "# 该函数功能用于判断一个Series是否是唯一值数组，返回“是”和“不是”\n",
    "\n",
    "arr = input(\"请随机输入一组元素，用逗号（英文逗号）隔开:\\n\")\n",
    "print(\"-----------\")\n",
    "sArr = pd.Series(arr.split(\",\"))\n",
    "if len(sArr.unique()) == len(sArr):\n",
    "    print(\"该数组是唯一值数组\")\n",
    "else:\n",
    "    print(\"该数组不是唯一值数组\")"
   ]
  },
  {
   "cell_type": "code",
   "execution_count": null,
   "metadata": {
    "collapsed": true
   },
   "outputs": [],
   "source": [
    "\"\"\"\n",
    "【课程2.14  文本数据】 课程作业\n",
    "\"\"\""
   ]
  },
  {
   "cell_type": "code",
   "execution_count": 34,
   "metadata": {},
   "outputs": [
    {
     "name": "stdout",
     "output_type": "stream",
     "text": [
      "创建Dataframe为：\n",
      "   gender    name math english art\n",
      "0      M    Jack   90      92  89\n",
      "1      M     Tom   89      78  88\n",
      "2      F   Marry   90      92  95\n",
      "3      M    Zack   78      88  76\n",
      "4      F  Heheda   60      60  67 \n",
      "------\n",
      "修改后为：\n",
      "   gender    name math english art\n",
      "0      M    Jack   90      92  89\n",
      "1      M     Tom   89      78  88\n",
      "2      F   Marry   90      92  95\n",
      "3      M    Zack   78      88  76\n",
      "4      F  Heheda   60      60  67 \n",
      "------\n"
     ]
    }
   ],
   "source": [
    "# 作业1：如图创建一个Dataframe，并分别通过字符串常用方法得到3个Series或得到新的Dataframe：\n",
    "# ① name字段首字母全部大写\n",
    "# ② gender字段去除所有空格\n",
    "# ③ score字段按照-拆分，分别是math，english，art三个学分\n",
    "\n",
    "df = pd.DataFrame({'name': ['jack','tom','Marry','zack','heheda'],\n",
    "                  'gender': ['M ','M','   F','  M ','  F'],\n",
    "                  'score': ['90-92-89','89-78-88','90-92-95','78-88-76','60-60-67']})\n",
    "df['name'] = df['name'].str.capitalize()\n",
    "df['gender'] = df['gender'].str.strip()\n",
    "df['math'] = df['score'].str.split('-', expand=True)[0]\n",
    "df['english'] = df['score'].str.split('-', expand=True)[1]\n",
    "df['art'] = df['score'].str.split('-', expand=True)[2]\n",
    "del df['score']\n",
    "print('创建Dataframe为：\\n',df,'\\n------')\n",
    "print('修改后为：\\n',df,'\\n------')"
   ]
  },
  {
   "cell_type": "code",
   "execution_count": null,
   "metadata": {
    "collapsed": true
   },
   "outputs": [],
   "source": [
    "\"\"\"\n",
    "【课程2.15  合并 merge、join】 课程作业\n",
    "\"\"\""
   ]
  },
  {
   "cell_type": "code",
   "execution_count": 75,
   "metadata": {},
   "outputs": [
    {
     "name": "stdout",
     "output_type": "stream",
     "text": [
      "创建df1为：\n",
      "   key   values1\n",
      "0   a  0.548503\n",
      "1   b  0.784296\n",
      "2   c  0.454678 \n",
      "------\n",
      "创建df2为：\n",
      "   key   values2\n",
      "0   b  0.371111\n",
      "1   c  0.511554\n",
      "2   d  0.418865 \n",
      "------\n",
      "合并df3为：\n",
      "   key   values1   values2\n",
      "0   a  0.548503       NaN\n",
      "1   b  0.784296  0.371111\n",
      "2   c  0.454678  0.511554\n",
      "3   d       NaN  0.418865 \n",
      "------\n"
     ]
    }
   ],
   "source": [
    "# 作业1：按要求创建Dataframe df1、df2，并合并成df3\n",
    "\n",
    "df1 = pd.DataFrame({'key':['a','b','c'],\n",
    "                   'values1':np.random.rand(3)})\n",
    "df2 = pd.DataFrame({'key':['b','c','d'],\n",
    "                   'values2':np.random.rand(3)})\n",
    "df3 = pd.merge(df1,df2,on='key',how='outer')\n",
    "\n",
    "print('创建df1为：\\n',df1,'\\n------')\n",
    "print('创建df2为：\\n',df2,'\\n------')\n",
    "print('合并df3为：\\n',df3,'\\n------')"
   ]
  },
  {
   "cell_type": "code",
   "execution_count": 77,
   "metadata": {},
   "outputs": [
    {
     "name": "stdout",
     "output_type": "stream",
     "text": [
      "创建df1为：\n",
      "   lkey   values1\n",
      "0    a  0.637991\n",
      "1    b  0.213103\n",
      "2    c  0.344186 \n",
      "------\n",
      "创建df2为：\n",
      "   rkey   values2\n",
      "0    b  0.093879\n",
      "1    c  0.877235\n",
      "2    d  0.346897 \n",
      "------\n",
      "合并df3为：\n",
      "   lkey   values1 rkey   values2\n",
      "0    a  0.637991  NaN       NaN\n",
      "1    b  0.213103    b  0.093879\n",
      "2    c  0.344186    c  0.877235 \n",
      "------\n"
     ]
    }
   ],
   "source": [
    "# 作业2：按要求创建Dataframe df1、df2，并合并成df3\n",
    "\n",
    "df1 = pd.DataFrame({\"lkey\": list(\"abc\"),\n",
    "                   \"values1\": np.random.rand(3)})\n",
    "df2 = pd.DataFrame({\"rkey\": list(\"bcd\"),\n",
    "                   \"values2\": np.random.rand(3)})\n",
    "df3 = pd.merge(df1, df2, left_on='lkey', right_on='rkey', how='left')\n",
    "\n",
    "print('创建df1为：\\n',df1,'\\n------')\n",
    "print('创建df2为：\\n',df2,'\\n------')\n",
    "print('合并df3为：\\n',df3,'\\n------')"
   ]
  },
  {
   "cell_type": "code",
   "execution_count": 78,
   "metadata": {},
   "outputs": [
    {
     "name": "stdout",
     "output_type": "stream",
     "text": [
      "创建df1为：\n",
      "   key   values1\n",
      "0   a  0.142839\n",
      "1   b  0.571393\n",
      "2   c  0.300401 \n",
      "------\n",
      "创建df2为：\n",
      "     values2  values3\n",
      "b  0.843036        5\n",
      "c  0.164893        6\n",
      "d  0.758744        7 \n",
      "------\n",
      "合并df3为：\n",
      "   key   values1   values2  values3\n",
      "1   b  0.571393  0.843036        5\n",
      "2   c  0.300401  0.164893        6 \n",
      "------\n"
     ]
    }
   ],
   "source": [
    "# 作业3：按要求创建Dataframe df1、df2，并合并成df3\n",
    "\n",
    "df1 = pd.DataFrame({'key':['a','b','c'],\n",
    "                   'values1':np.random.rand(3)})\n",
    "df2 = pd.DataFrame({'values2':np.random.rand(3),\n",
    "                   'values3':[5,6,7]},\n",
    "                  index = ['b','c','d'])\n",
    "df3 = pd.merge(df1, df2, left_on='key', right_index=True)\n",
    "\n",
    "print('创建df1为：\\n',df1,'\\n------')\n",
    "print('创建df2为：\\n',df2,'\\n------')\n",
    "print('合并df3为：\\n',df3,'\\n------')"
   ]
  },
  {
   "cell_type": "code",
   "execution_count": null,
   "metadata": {
    "collapsed": true
   },
   "outputs": [],
   "source": [
    "'''\n",
    "【课程2.16  连接与修补 concat、combine_first】 课程作业\n",
    "\n",
    "'''"
   ]
  },
  {
   "cell_type": "code",
   "execution_count": 3,
   "metadata": {},
   "outputs": [
    {
     "name": "stdout",
     "output_type": "stream",
     "text": [
      "创建df1为：\n",
      "     values1   values2\n",
      "a  0.793393  0.778852\n",
      "b  0.124681  0.254247\n",
      "c  0.599930  0.283357\n",
      "d  0.020005  0.734037 \n",
      "------\n",
      "创建df2为：\n",
      "     values1   values2\n",
      "e  0.810503  0.248616\n",
      "f  0.767792  0.136883\n",
      "g  0.773069  0.919065\n",
      "h  0.256364  0.492011 \n",
      "------\n",
      "连接df3为：\n",
      "     values1   values2\n",
      "a  0.793393  0.778852\n",
      "b  0.124681  0.254247\n",
      "c  0.599930  0.283357\n",
      "d  0.020005  0.734037\n",
      "e  0.810503  0.248616\n",
      "f  0.767792  0.136883\n",
      "g  0.773069  0.919065\n",
      "h  0.256364  0.492011 \n",
      "------\n"
     ]
    }
   ],
   "source": [
    "# 作业1：按要求创建Dataframe df1、df2，并连接成df3\n",
    "\n",
    "df1 = pd.DataFrame(np.random.rand(4,2),\n",
    "                  index = list('abcd'),\n",
    "                  columns = ['values1','values2'])\n",
    "df2 = pd.DataFrame(np.random.rand(4,2),\n",
    "                  index = list('efgh'),\n",
    "                  columns = ['values1','values2'])\n",
    "df3 = pd.concat([df1,df2])\n",
    "\n",
    "print('创建df1为：\\n',df1,'\\n------')\n",
    "print('创建df2为：\\n',df2,'\\n------')\n",
    "print('连接df3为：\\n',df3,'\\n------')"
   ]
  },
  {
   "cell_type": "code",
   "execution_count": 4,
   "metadata": {},
   "outputs": [
    {
     "name": "stdout",
     "output_type": "stream",
     "text": [
      "创建df1为：\n",
      "     values1   values2\n",
      "a  0.794875  0.063126\n",
      "b       NaN  0.275159\n",
      "c       NaN  0.448270\n",
      "d  0.058980  0.093994 \n",
      "------\n",
      "创建df2为：\n",
      "    values1  values2\n",
      "a        0        1\n",
      "b        2        3\n",
      "c        4        5\n",
      "d        6        7 \n",
      "------\n"
     ]
    }
   ],
   "source": [
    "# 作业2：按要求创建Dataframe df1、df2，并用df2的值修补df1，生成df3\n",
    "\n",
    "df1 = pd.DataFrame(np.random.rand(4,2),\n",
    "                  index = list('abcd'),\n",
    "                  columns = ['values1','values2'])\n",
    "df1['values1'].loc[['b','c']] = np.nan\n",
    "df2 = pd.DataFrame(np.arange(8).reshape(4,2),\n",
    "                  index = list('abcd'),\n",
    "                  columns = ['values1','values2'])\n",
    "df3 = df1.combine_first(df2)\n",
    "\n",
    "print('创建df1为：\\n',df1,'\\n------')\n",
    "print('创建df2为：\\n',df2,'\\n------')"
   ]
  },
  {
   "cell_type": "code",
   "execution_count": null,
   "metadata": {
    "collapsed": true
   },
   "outputs": [],
   "source": [
    "'''\n",
    "【课程2.18 数据分组】 课程作业\n",
    "\n",
    "'''"
   ]
  },
  {
   "cell_type": "code",
   "execution_count": 5,
   "metadata": {},
   "outputs": [
    {
     "name": "stdout",
     "output_type": "stream",
     "text": [
      "创建df为：\n",
      "        A  B   C         D         E\n",
      "0    one  h  10  0.649748  0.157248\n",
      "1    two  h  12  0.995350  0.965091\n",
      "2  three  h  14  0.246293  0.390882\n",
      "3    one  h  16 -0.438973  0.936838\n",
      "4    two  f  18  0.098788  0.099158\n",
      "5  three  f  20  2.124914  0.581440\n",
      "6    one  f  22  0.994674  0.226652\n",
      "7    two  f  24  0.190131  0.333571 \n",
      "------\n",
      "以A分组，求出C,D的分组平均值为：\n",
      "         C         D         E\n",
      "A                            \n",
      "one    16  0.401817  0.440246\n",
      "three  17  1.185604  0.486161\n",
      "two    18  0.428089  0.465940 \n",
      "------\n",
      "以A,B分组，求出D,E的分组求和为：\n",
      "           C         D         E\n",
      "A     B                        \n",
      "one   f  22  0.994674  0.226652\n",
      "      h  26  0.210776  1.094086\n",
      "three f  20  2.124914  0.581440\n",
      "      h  14  0.246293  0.390882\n",
      "two   f  42  0.288918  0.432729\n",
      "      h  12  0.995350  0.965091 \n",
      "------\n",
      "以A分组，筛选出分组后的第一组数据为：\n",
      " {'one': Int64Index([0, 3, 6], dtype='int64'), 'three': Int64Index([2, 5], dtype='int64'), 'two': Int64Index([1, 4, 7], dtype='int64')} \n",
      "------\n",
      "按照数值类型分组为：\n",
      "    int64   float64  object\n",
      "0     10  0.806997    oneh\n",
      "1     12  1.960440    twoh\n",
      "2     14  0.637176  threeh\n",
      "3     16  0.497865    oneh\n",
      "4     18  0.197945    twof\n",
      "5     20  2.706354  threef\n",
      "6     22  1.221326    onef\n",
      "7     24  0.523702    twof \n",
      "------\n",
      "将C,D作为一组分出来，并计算求和为：\n",
      "            r\n",
      "0  10.649748\n",
      "1  12.995350\n",
      "2  14.246293\n",
      "3  15.561027\n",
      "4  18.098788\n",
      "5  22.124914\n",
      "6  22.994674\n",
      "7  24.190131 \n",
      "------\n",
      "以B分组，求出每组的均值，求和，最大值，最小值：\n",
      "      C                       D                                       E  \\\n",
      "  mean sum amax amin      mean       sum      amax      amin      mean   \n",
      "B                                                                        \n",
      "f   21  84   24   18  0.852127  3.408506  2.124914  0.098788  0.310205   \n",
      "h   13  52   16   10  0.363105  1.452419  0.995350 -0.438973  0.612515   \n",
      "\n",
      "                                 \n",
      "        sum      amax      amin  \n",
      "B                                \n",
      "f  1.240820  0.581440  0.099158  \n",
      "h  2.450059  0.965091  0.157248   \n",
      "------\n"
     ]
    }
   ],
   "source": [
    "# 作业1：按要求创建Dataframe df，并通过分组得到以下结果\n",
    "# ① 以A分组，求出C,D的分组平均值\n",
    "# ② 以A,B分组，求出D,E的分组求和\n",
    "# ③ 以A分组，得到所有分组，以字典显示\n",
    "# ④ 按照数值类型分组，求和\n",
    "# ⑤ 将C,D作为一组分出来，并计算求和\n",
    "# ⑥ 以B分组，求出每组的均值，求和，最大值，最小值\n",
    "\n",
    "df = pd.DataFrame({'A' : ['one', 'two', 'three', 'one','two', 'three', 'one', 'two'],\n",
    "                   'B' : ['h', 'h', 'h', 'h', 'f', 'f', 'f', 'f'],\n",
    "                   'C' : np.arange(10,26,2),\n",
    "                   'D' : np.random.randn(8),\n",
    "                   'E':np.random.rand(8)})\n",
    "\n",
    "\n",
    "print('创建df为：\\n',df,'\\n------')\n",
    "print('以A分组，求出C,D的分组平均值为：\\n',df.groupby('A').mean(),'\\n------')\n",
    "print('以A,B分组，求出D,E的分组求和为：\\n',df.groupby(['A','B']).sum(),'\\n------')\n",
    "print('以A分组，筛选出分组后的第一组数据为：\\n',df.groupby('A').groups,'\\n------')\n",
    "print('按照数值类型分组为：\\n',df.groupby(df.dtypes,axis=1).sum(),'\\n------')\n",
    "print('将C,D作为一组分出来，并计算求和为：\\n',df.groupby({'C':'r','D':'r'},axis=1).sum(),'\\n------')\n",
    "print('以B分组，求出每组的均值，求和，最大值，最小值：\\n',df.groupby('B').agg([np.mean,np.sum,np.max,np.min]),'\\n------')"
   ]
  },
  {
   "cell_type": "code",
   "execution_count": null,
   "metadata": {
    "collapsed": true
   },
   "outputs": [],
   "source": [
    "\"\"\"\n",
    "【课程2.19  分组转换及一般性“拆分-应用-合并”】 课程作业\n",
    "\"\"\""
   ]
  },
  {
   "cell_type": "code",
   "execution_count": 23,
   "metadata": {},
   "outputs": [
    {
     "name": "stdout",
     "output_type": "stream",
     "text": [
      "创建df为：\n",
      "       data1     data2 key\n",
      "0  0.452562  0.986987   a\n",
      "1  0.091903  0.092792   a\n",
      "2  0.545220  0.585490   b\n",
      "3  0.817403  0.618787   b\n",
      "4  0.422542  0.207294   a\n",
      "5  0.430726  0.523285   b\n",
      "6  0.893024  0.784052   a\n",
      "7  0.345994  0.690794   b \n",
      "----------\n",
      "求和且合并之后结果为：\n",
      "       data1     data2 key  data1_mean  data2_mean\n",
      "0  0.452562  0.986987   a    0.465008    0.517781\n",
      "1  0.091903  0.092792   a    0.465008    0.517781\n",
      "2  0.545220  0.585490   b    0.534836    0.604589\n",
      "3  0.817403  0.618787   b    0.534836    0.604589\n",
      "4  0.422542  0.207294   a    0.465008    0.517781\n",
      "5  0.430726  0.523285   b    0.534836    0.604589\n",
      "6  0.893024  0.784052   a    0.465008    0.517781\n",
      "7  0.345994  0.690794   b    0.534836    0.604589 \n",
      "------\n"
     ]
    }
   ],
   "source": [
    "# 作业1：按要求创建Dataframe df，通过key分组求和，并将求和结果并在原df中\n",
    "\n",
    "df = pd.DataFrame({\"data1\": np.random.rand(8),\n",
    "                  \"data2\": np.random.rand(8),\n",
    "                  \"key\": list(\"aabbabab\")})\n",
    "df_sum = df.groupby(\"key\").sum() \n",
    "print(\"创建df为：\\n\",df,\"\\n----------\")\n",
    "df_ = df.groupby('key').transform(np.mean)\n",
    "print('求和且合并之后结果为：\\n',df.join(df_,rsuffix='_mean'),'\\n------')"
   ]
  },
  {
   "cell_type": "code",
   "execution_count": null,
   "metadata": {
    "collapsed": true
   },
   "outputs": [],
   "source": [
    "'''\n",
    "【课程2.20  透视表及交叉表】 课程作业\n",
    "\n",
    "'''"
   ]
  },
  {
   "cell_type": "code",
   "execution_count": 24,
   "metadata": {},
   "outputs": [
    {
     "name": "stdout",
     "output_type": "stream",
     "text": [
      "创建df为：\n",
      "        A  B   C         D         E\n",
      "0    one  h  10 -0.773772  0.462176\n",
      "1    two  h  12  2.133793  0.672142\n",
      "2  three  h  14 -1.372875  0.634992\n",
      "3    one  h  16  0.184681  0.194391\n",
      "4    two  f  18 -1.420557  0.760111\n",
      "5  three  f  20  1.461882  0.828075\n",
      "6    one  f  22 -0.191028  0.765054\n",
      "7    two  f  24 -0.396764  0.869049 \n",
      "------\n",
      "以A列聚合，求出C,D的平均值为：\n",
      "         C         D\n",
      "A                  \n",
      "one    16 -0.260040\n",
      "three  17  0.044504\n",
      "two    18  0.105491 \n",
      "------\n",
      "以A,B列聚合，求出D,E的均值、求和为：\n",
      "              mean                 sum          \n",
      "                D         E         D         E\n",
      "A     B                                        \n",
      "one   f -0.191028  0.765054 -0.191028  0.765054\n",
      "      h -0.294545  0.328283 -0.589091  0.656567\n",
      "three f  1.461882  0.828075  1.461882  0.828075\n",
      "      h -1.372875  0.634992 -1.372875  0.634992\n",
      "two   f -0.908661  0.814580 -1.817321  1.629160\n",
      "      h  2.133793  0.672142  2.133793  0.672142 \n",
      "------\n",
      "以B聚合，计算A列的元素频率为：\n",
      " A  one  three  two\n",
      "B                 \n",
      "f    1      1    2\n",
      "h    2      1    1 \n",
      "------\n"
     ]
    }
   ],
   "source": [
    "# 作业1：按要求创建Dataframe df，并通过数据透视表得到以下结果\n",
    "# ① 以A列聚合，求出C,D的平均值\n",
    "# ② 以A,B列聚合，求出D,E的均值、求和\n",
    "# ③ 以B聚合，计算A列的元素频率\n",
    "\n",
    "df = pd.DataFrame({'A' : ['one', 'two', 'three', 'one','two', 'three', 'one', 'two'],\n",
    "                   'B' : ['h', 'h', 'h', 'h', 'f', 'f', 'f', 'f'],\n",
    "                   'C' : np.arange(10,26,2),\n",
    "                   'D' : np.random.randn(8),\n",
    "                   'E':np.random.rand(8)})\n",
    "\n",
    "\n",
    "print('创建df为：\\n',df,'\\n------')\n",
    "print('以A列聚合，求出C,D的平均值为：\\n',pd.pivot_table(df,values=['C','D'],index='A',aggfunc=np.mean),'\\n------')\n",
    "print('以A,B列聚合，求出D,E的均值、求和为：\\n',pd.pivot_table(df,values=['D','E'],index=['A','B'],aggfunc=[np.mean,np.sum]),'\\n------')\n",
    "print('以B聚合，计算A列的元素频率为：\\n',pd.crosstab(df['B'],df['A']),'\\n------')"
   ]
  },
  {
   "cell_type": "code",
   "execution_count": null,
   "metadata": {
    "collapsed": true
   },
   "outputs": [],
   "source": []
  },
  {
   "cell_type": "code",
   "execution_count": null,
   "metadata": {
    "collapsed": true
   },
   "outputs": [],
   "source": []
  },
  {
   "cell_type": "code",
   "execution_count": null,
   "metadata": {
    "collapsed": true
   },
   "outputs": [],
   "source": []
  },
  {
   "cell_type": "code",
   "execution_count": null,
   "metadata": {
    "collapsed": true
   },
   "outputs": [],
   "source": []
  },
  {
   "cell_type": "code",
   "execution_count": null,
   "metadata": {
    "collapsed": true
   },
   "outputs": [],
   "source": []
  },
  {
   "cell_type": "code",
   "execution_count": null,
   "metadata": {
    "collapsed": true
   },
   "outputs": [],
   "source": []
  }
 ],
 "metadata": {
  "kernelspec": {
   "display_name": "Python 3",
   "language": "python",
   "name": "python3"
  },
  "language_info": {
   "codemirror_mode": {
    "name": "ipython",
    "version": 3
   },
   "file_extension": ".py",
   "mimetype": "text/x-python",
   "name": "python",
   "nbconvert_exporter": "python",
   "pygments_lexer": "ipython3",
   "version": "3.6.3"
  }
 },
 "nbformat": 4,
 "nbformat_minor": 2
}
