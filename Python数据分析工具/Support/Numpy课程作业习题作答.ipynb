{
 "cells": [
  {
   "cell_type": "code",
   "execution_count": 2,
   "metadata": {},
   "outputs": [
    {
     "name": "stdout",
     "output_type": "stream",
     "text": [
      "[1 2 'a' 'hello' list([1, 2, 3]) {'two': 200, 'one': 100}] <class 'numpy.ndarray'>\n",
      "(6,)\n",
      "[['0' '1' '2' '3' '4' '5']\n",
      " ['a' 'b' 'c' 'd' 'e' 'f']\n",
      " ['True' 'False' 'True' 'False' 'True' 'True']] <class 'numpy.ndarray'> <U21\n",
      "(3, 6)\n"
     ]
    }
   ],
   "source": [
    "\"\"\"\n",
    "# 【课程1.1  Numpy基础数据结构】 课程作业\n",
    "\"\"\"\n",
    "\n",
    "# 作业1：分别按照要求，生成一个一维数组、二维数组，并且查看其shape\n",
    "\n",
    "import numpy as np\n",
    "\n",
    "ar1 = np.array([1, 2, \"a\", \"hello\", [1,2,3], {\"two\":200, \"one\":100}])\n",
    "print(ar1, type(ar1))\n",
    "print(ar1.shape)\n",
    "\n",
    "# ar2 = np.array([[0, 1, 2, 3, 4, 5], [\"a\", \"b\", \"c\", \"d\", \"e\", \"f\"], [True, False, True, False, True, True]])\n",
    "ar2 = np.array([list(range(6)), list(\"abcdef\"), [True, False, True, False, True, True]])\n",
    "print(ar2, type(ar2), ar2.dtype)\n",
    "print(ar2.shape)"
   ]
  },
  {
   "cell_type": "code",
   "execution_count": 19,
   "metadata": {},
   "outputs": [
    {
     "name": "stdout",
     "output_type": "stream",
     "text": [
      "[ 5  6  7  8  9 10 11 12 13 14]\n"
     ]
    }
   ],
   "source": [
    "# 作业2：生成一个一维数组，起始值为5，终点值为15，样本数为10个\n",
    "\n",
    "ar1 = np.arange(5, 15, 1)\n",
    "print(ar1)"
   ]
  },
  {
   "cell_type": "code",
   "execution_count": 15,
   "metadata": {},
   "outputs": [
    {
     "name": "stdout",
     "output_type": "stream",
     "text": [
      "[[ 0.  0.  0.  0.]\n",
      " [ 0.  0.  0.  0.]\n",
      " [ 0.  0.  0.  0.]\n",
      " [ 0.  0.  0.  0.]]\n",
      "[[ 1.  1.  1.]\n",
      " [ 1.  1.  1.]]\n",
      "[[1 0 0]\n",
      " [0 1 0]\n",
      " [0 0 1]]\n"
     ]
    }
   ],
   "source": [
    "# 作业3：按照要求创建以下数组\n",
    "\n",
    "ar2 = np.zeros((4, 4))\n",
    "print(ar2)\n",
    "\n",
    "ar3 = np.ones((2, 3))\n",
    "print(ar3)\n",
    "\n",
    "ar4 = np.eye(3, dtype = int)\n",
    "print(ar4)"
   ]
  },
  {
   "cell_type": "code",
   "execution_count": null,
   "metadata": {
    "collapsed": true
   },
   "outputs": [],
   "source": [
    "\"\"\"\n",
    "# 【课程1.2  Numpy通用函数】 课程作业\n",
    "\"\"\"\n",
    "\n",
    "\n",
    "# 作业1：创建一个20个元素的数组，分别改变成两个形状：(4,5),(5,6) （提示：超出范围用resize）\n",
    "\n",
    "ar1 = np.arange(20)\n",
    "print(ar1.reshape((4,5)))\n",
    "print(\"--------------\")\n",
    "\n",
    "print(np.resize(ar1, (5,6)))\n",
    "print(\"--------------\")"
   ]
  },
  {
   "cell_type": "code",
   "execution_count": 28,
   "metadata": {},
   "outputs": [
    {
     "name": "stdout",
     "output_type": "stream",
     "text": [
      "[['0' '1' '2' '3']\n",
      " ['4' '5' '6' '7']\n",
      " ['8' '9' '10' '11']\n",
      " ['12' '13' '14' '15']] <U21\n"
     ]
    }
   ],
   "source": [
    "# 作业2：创建一个(4,4)的数组，把其元素类型改为字符型\n",
    "ar1 = np.arange(16).reshape((4,4))\n",
    "ar2 = ar1.astype(np.str)\n",
    "print(ar2, ar2.dtype)"
   ]
  },
  {
   "cell_type": "code",
   "execution_count": 39,
   "metadata": {},
   "outputs": [
    {
     "name": "stdout",
     "output_type": "stream",
     "text": [
      "创建数组为：\n",
      "[[ 0  1  2  3]\n",
      " [ 4  5  6  7]\n",
      " [ 8  9 10 11]\n",
      " [12 13 14 15]]\n",
      "--------------\n",
      "计算后的数组为：\n",
      "[[100 110 120 130]\n",
      " [140 150 160 170]\n",
      " [180 190 200 210]\n",
      " [220 230 240 250]]\n",
      "--------------\n",
      "result的均值为：\n",
      "175.0\n",
      "--------------\n",
      "result求和为：\n",
      "2800\n",
      "--------------\n"
     ]
    }
   ],
   "source": [
    "# 作业3：根据要求创建数组，运用数组的运算方法得到结果：result = ar * 10 +100，并求出result的均值及求和\n",
    "\n",
    "ar = np.arange(16).reshape((4,4))\n",
    "print(\"创建数组为：\\n%s\" %ar)\n",
    "print(\"--------------\")\n",
    "\n",
    "result = ar * 10 + 100\n",
    "print(\"计算后的数组为：\\n%s\" %result)\n",
    "print(\"--------------\")\n",
    "\n",
    "print(\"result的均值为：\\n%s\" %result.mean())\n",
    "print(\"--------------\")\n",
    "\n",
    "print(\"result求和为：\\n%s\" %result.sum())\n",
    "print(\"--------------\")"
   ]
  },
  {
   "cell_type": "code",
   "execution_count": 46,
   "metadata": {},
   "outputs": [
    {
     "name": "stdout",
     "output_type": "stream",
     "text": [
      "[[ 0  1  2  3  4]\n",
      " [ 5  6  7  8  9]\n",
      " [10 11 12 13 14]\n",
      " [15 16 17 18 19]\n",
      " [20 21 22 23 24]]\n",
      "-------------\n",
      "[20 21 22 23 24]\n",
      "[[3 4]\n",
      " [8 9]]\n",
      "17\n"
     ]
    }
   ],
   "source": [
    "\"\"\"\n",
    "# 【课程1.3  Numpy索引及切片】 课程作业\n",
    "\"\"\"\n",
    "\n",
    "# 作业1：按照要求创建数组，通过索引，其ar[4]、ar[:2,3:]、ar[3][2]分别是多少\n",
    "\n",
    "ar = np.arange(25).reshape(5,5)\n",
    "print(ar)\n",
    "print(\"-------------\")\n",
    "print(ar[4])\n",
    "print(ar[:2,3:])\n",
    "print(ar[3][2])"
   ]
  },
  {
   "cell_type": "code",
   "execution_count": 54,
   "metadata": {},
   "outputs": [
    {
     "name": "stdout",
     "output_type": "stream",
     "text": [
      "[[0 1 2 3 4]\n",
      " [5 6 7 8 9]]\n",
      "-------------\n",
      "[6 7 8 9]\n"
     ]
    }
   ],
   "source": [
    "# 作业2：按照要求创建数组，筛选出元素值大于5的值并生成新的数组\n",
    "\n",
    "ar = np.arange(10).reshape(2,5)\n",
    "print(ar)\n",
    "print(\"-------------\")\n",
    "m = ar > 5\n",
    "b = ar[m].copy()\n",
    "print(b)\n"
   ]
  },
  {
   "cell_type": "code",
   "execution_count": 64,
   "metadata": {},
   "outputs": [
    {
     "name": "stdout",
     "output_type": "stream",
     "text": [
      "[[  0.   1.   2.   3.   4.]\n",
      " [  5.   6.   7.   8.   9.]\n",
      " [ 10.  11.  12.  13.  14.]\n",
      " [ 15.  16.  17.  18.  19.]\n",
      " [ 20.  21.  22.  23.  24.]]\n",
      "-------------\n",
      "[[  1.   1.   2.   3.   4.]\n",
      " [  0.   1.   7.   8.   9.]\n",
      " [ 10.  11.  12.  13.  14.]\n",
      " [ 15.  16.  17.  18.  19.]\n",
      " [ 20.  21.  22.  23.  24.]]\n"
     ]
    }
   ],
   "source": [
    "\"\"\"\n",
    "【课程1.4  Numpy随机数】 课程作业\n",
    "\"\"\"\n",
    "\n",
    "# 作业1：请按照要求创建数组ar，再将ar[:2,:2]的值改为[0,2)的随机数\n",
    "ar = np.arange(25,dtype=float).reshape((5,5))\n",
    "print(ar)\n",
    "print(\"-------------\")\n",
    "ar2 = ar[:2,:2]\n",
    "ar3 = np.random.randint(0,2,ar2.shape)\n",
    "ar[:2,:2] = ar3\n",
    "print(ar)"
   ]
  },
  {
   "cell_type": "code",
   "execution_count": 68,
   "metadata": {},
   "outputs": [
    {
     "data": {
      "text/plain": [
       "<matplotlib.collections.PathCollection at 0x10c71c7b8>"
      ]
     },
     "execution_count": 68,
     "metadata": {},
     "output_type": "execute_result"
    },
    {
     "data": {
      "image/png": "[encoded data removed]",
      "text/plain": [
       "<matplotlib.figure.Figure at 0x107701be0>"
      ]
     },
     "metadata": {},
     "output_type": "display_data"
    }
   ],
   "source": [
    "# 作业2： 创建2个包含10个元素的正太分布一维数组\n",
    "import matplotlib.pyplot as plt   # 导入matplotlib模块，用于图表辅助分析\n",
    "% matplotlib inline\n",
    "# 魔法函数，每次运行自动生成图表\n",
    "\n",
    "s1 = np.random.randn(10)\n",
    "s2 = np.random.randn(10)\n",
    "plt.scatter(s1, s2)"
   ]
  },
  {
   "cell_type": "code",
   "execution_count": null,
   "metadata": {
    "collapsed": true
   },
   "outputs": [],
   "source": [
    "\"\"\"\n",
    "【课程1.5  Numpy数据的输入输出】 课程作业\n",
    "\"\"\"\n"
   ]
  },
  {
   "cell_type": "code",
   "execution_count": 89,
   "metadata": {},
   "outputs": [
    {
     "name": "stdout",
     "output_type": "stream",
     "text": [
      "[[20 19 74 52 55 15 58 85 97 54]\n",
      " [74 61 35 21 41 37 65 90 33 19]\n",
      " [75 18 81 84 88 19 17 28 73 46]\n",
      " [89 69 60 20  8 11  1 10 96 81]\n",
      " [45 89 14 62  2 11 35 12 36 34]\n",
      " [50 34 16 65 71 44 25  5  2 59]\n",
      " [16  0 54 31 83 24 72 64 64 78]\n",
      " [59 14 89 40 93 70 52 27 68  4]\n",
      " [ 0 24 19 50 22 78 57 70 53 48]\n",
      " [ 5 64 90 46  8 79 15 32  5 47]]\n",
      "---------------\n",
      "[[ 20.  19.  74.  52.  55.  15.  58.  85.  97.  54.]\n",
      " [ 74.  61.  35.  21.  41.  37.  65.  90.  33.  19.]\n",
      " [ 75.  18.  81.  84.  88.  19.  17.  28.  73.  46.]\n",
      " [ 89.  69.  60.  20.   8.  11.   1.  10.  96.  81.]\n",
      " [ 45.  89.  14.  62.   2.  11.  35.  12.  36.  34.]\n",
      " [ 50.  34.  16.  65.  71.  44.  25.   5.   2.  59.]\n",
      " [ 16.   0.  54.  31.  83.  24.  72.  64.  64.  78.]\n",
      " [ 59.  14.  89.  40.  93.  70.  52.  27.  68.   4.]\n",
      " [  0.  24.  19.  50.  22.  78.  57.  70.  53.  48.]\n",
      " [  5.  64.  90.  46.   8.  79.  15.  32.   5.  47.]]\n"
     ]
    }
   ],
   "source": [
    "# 作业1：创建一个10*10的整数随机数组，取值范围为0-100，并存为txt文件，用逗号分开\n",
    "\n",
    "ar = np.random.randint(0,100,(10,10))\n",
    "print(ar)\n",
    "print(\"---------------\")\n",
    "\n",
    "file = \"/Users/zorn/Desktop/homework.txt\"\n",
    "np.savetxt(file, ar, delimiter = \",\", fmt = \"%i\")\n",
    "print(np.loadtxt(file, delimiter = \",\"))"
   ]
  },
  {
   "cell_type": "code",
   "execution_count": null,
   "metadata": {
    "collapsed": true
   },
   "outputs": [],
   "source": []
  },
  {
   "cell_type": "code",
   "execution_count": null,
   "metadata": {
    "collapsed": true
   },
   "outputs": [],
   "source": []
  },
  {
   "cell_type": "code",
   "execution_count": null,
   "metadata": {
    "collapsed": true
   },
   "outputs": [],
   "source": []
  },
  {
   "cell_type": "code",
   "execution_count": null,
   "metadata": {
    "collapsed": true
   },
   "outputs": [],
   "source": []
  },
  {
   "cell_type": "code",
   "execution_count": null,
   "metadata": {
    "collapsed": true
   },
   "outputs": [],
   "source": []
  },
  {
   "cell_type": "code",
   "execution_count": null,
   "metadata": {
    "collapsed": true
   },
   "outputs": [],
   "source": []
  },
  {
   "cell_type": "code",
   "execution_count": null,
   "metadata": {
    "collapsed": true
   },
   "outputs": [],
   "source": []
  },
  {
   "cell_type": "code",
   "execution_count": null,
   "metadata": {
    "collapsed": true
   },
   "outputs": [],
   "source": []
  },
  {
   "cell_type": "code",
   "execution_count": null,
   "metadata": {
    "collapsed": true
   },
   "outputs": [],
   "source": []
  },
  {
   "cell_type": "code",
   "execution_count": null,
   "metadata": {
    "collapsed": true
   },
   "outputs": [],
   "source": []
  },
  {
   "cell_type": "code",
   "execution_count": null,
   "metadata": {
    "collapsed": true
   },
   "outputs": [],
   "source": []
  },
  {
   "cell_type": "code",
   "execution_count": null,
   "metadata": {
    "collapsed": true
   },
   "outputs": [],
   "source": []
  },
  {
   "cell_type": "code",
   "execution_count": null,
   "metadata": {
    "collapsed": true
   },
   "outputs": [],
   "source": []
  }
 ],
 "metadata": {
  "kernelspec": {
   "display_name": "Python 3",
   "language": "python",
   "name": "python3"
  },
  "language_info": {
   "codemirror_mode": {
    "name": "ipython",
    "version": 3
   },
   "file_extension": ".py",
   "mimetype": "text/x-python",
   "name": "python",
   "nbconvert_exporter": "python",
   "pygments_lexer": "ipython3",
   "version": "3.6.3"
  }
 },
 "nbformat": 4,
 "nbformat_minor": 2
}
