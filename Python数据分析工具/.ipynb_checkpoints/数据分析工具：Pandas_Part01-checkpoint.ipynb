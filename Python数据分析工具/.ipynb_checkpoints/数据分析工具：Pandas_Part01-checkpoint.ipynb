{
 "cells": [
  {
   "cell_type": "code",
   "execution_count": null,
   "metadata": {
    "collapsed": true
   },
   "outputs": [],
   "source": [
    "'''\n",
    "【课程2.1】  Pandas数据结构Series：基本概念及创建\n",
    "\n",
    "\"一维数组\"Serise\n",
    "\n",
    "'''"
   ]
  },
  {
   "cell_type": "code",
   "execution_count": 2,
   "metadata": {},
   "outputs": [
    {
     "name": "stdout",
     "output_type": "stream",
     "text": [
      "0    0.075867\n",
      "1    0.540696\n",
      "2    0.352330\n",
      "3    0.881907\n",
      "4    0.557027\n",
      "dtype: float64\n",
      "<class 'pandas.core.series.Series'>\n",
      "RangeIndex(start=0, stop=5, step=1) <class 'pandas.core.indexes.range.RangeIndex'>\n",
      "[ 0.07586703  0.54069553  0.35232985  0.88190722  0.55702736] <class 'numpy.ndarray'>\n"
     ]
    }
   ],
   "source": [
    "# Series 数据结构\n",
    "# Series 是带有标签的一组数组，可以保存任何数据类型（整数，字符串，浮点数，python对象等），轴标签统称为索引\n",
    "\n",
    "import numpy as np\n",
    "import pandas as pd\n",
    "# 导入numpy、pandas模块\n",
    "\n",
    "s = pd.Series(np.random.rand(5))\n",
    "print(s)\n",
    "print(type(s))\n",
    "# 查看数据、数据类型\n",
    "\n",
    "\n",
    "print(s.index, type(s.index))\n",
    "print(s.values, type(s.values))\n",
    "# .index查看series索引，类型为rangeindex\n",
    "# .values查看series值，类型是ndarray\n",
    "\n",
    "# 核心：series相当于ndarray，是一个自带索引index的数组 -> 一维数组 + 对应索引\n",
    "# 所以当只看series的值的时候，就是一个ndarray\n",
    "# series和ndarray较相似，索引切片功能差别不大\n",
    "# series和dict相比，series更像一个有顺序的字典（dict本身不存在顺序），其索引原理与字典相似（一个用key，一个用index)\n"
   ]
  },
  {
   "cell_type": "code",
   "execution_count": 22,
   "metadata": {},
   "outputs": [
    {
     "name": "stdout",
     "output_type": "stream",
     "text": [
      "4    4\n",
      "5    5\n",
      "a    1\n",
      "b    2\n",
      "c    3\n",
      "dtype: int64\n"
     ]
    }
   ],
   "source": [
    "# Series 创建方法一：由字典创建，字典的key就是index，values就是values\n",
    "\n",
    "dic = {\"a\": 1, \"b\": 2, \"c\": 3, \"4\": 4, \"5\":5}\n",
    "s = pd.Series(dic)\n",
    "print(s)\n",
    "dic = {'a':1 ,'b':'hello' , 'c':3, '4':4, '5':5}\n",
    "# 注意：key肯定是字符串，假如values类型不止一个会怎么样？-> dic = {'a':1 ,'b':'hello' , 'c':3, '4':4, '5':5}"
   ]
  },
  {
   "cell_type": "code",
   "execution_count": 25,
   "metadata": {},
   "outputs": [
    {
     "name": "stdout",
     "output_type": "stream",
     "text": [
      "[-1.02694698  0.87887104  0.32315567  2.22775189  0.5681097 ]\n",
      "0   -1.026947\n",
      "1    0.878871\n",
      "2    0.323156\n",
      "3    2.227752\n",
      "4    0.568110\n",
      "dtype: float64\n",
      "a    -1.02695\n",
      "b    0.878871\n",
      "c    0.323156\n",
      "d     2.22775\n",
      "e     0.56811\n",
      "dtype: object\n"
     ]
    }
   ],
   "source": [
    "# Series 创建方法二：由数组创建（一维数组）\n",
    "\n",
    "arr = np.random.randn(5)\n",
    "s = pd.Series(arr)\n",
    "print(arr)\n",
    "print(s)\n",
    "# 默认index是从0开始，步长为1的数字\n",
    "\n",
    "s = pd.Series(arr, index = [\"a\", \"b\", \"c\", \"d\", \"e\"], dtype = np.object)\n",
    "print(s)\n",
    "# index参数：设置index，长度保持一致\n",
    "# dtype参数：设置数值类型"
   ]
  },
  {
   "cell_type": "code",
   "execution_count": 26,
   "metadata": {},
   "outputs": [
    {
     "name": "stdout",
     "output_type": "stream",
     "text": [
      "0    10\n",
      "1    10\n",
      "2    10\n",
      "3    10\n",
      "dtype: int64\n"
     ]
    }
   ],
   "source": [
    "# Series 创建方法三：由标量创建\n",
    "\n",
    "s = pd.Series(10, index = range(4))\n",
    "print(s)\n",
    "# 如果data是标量值，则必须提供索引。该值会重复，来匹配索引的长度"
   ]
  },
  {
   "cell_type": "code",
   "execution_count": 32,
   "metadata": {},
   "outputs": [
    {
     "name": "stdout",
     "output_type": "stream",
     "text": [
      "0    0.921083\n",
      "1    0.221778\n",
      "2   -0.898440\n",
      "3   -1.328778\n",
      "4    1.106824\n",
      "dtype: float64\n",
      "---------\n",
      "0    0.234609\n",
      "1   -1.024634\n",
      "2   -0.738751\n",
      "3    2.016070\n",
      "4    2.274898\n",
      "Name: test, dtype: float64\n",
      "None test <class 'str'>\n",
      "---------\n",
      "0    0.234609\n",
      "1   -1.024634\n",
      "2   -0.738751\n",
      "3    2.016070\n",
      "4    2.274898\n",
      "Name: hehehe, dtype: float64\n",
      "hehehe test\n"
     ]
    }
   ],
   "source": [
    "# Series 名称属性：name\n",
    "\n",
    "s1 = pd.Series(np.random.randn(5))\n",
    "print(s1)\n",
    "print(\"---------\")\n",
    "s2 = pd.Series(np.random.randn(5), name = \"test\")\n",
    "print(s2)\n",
    "print(s1.name, s2.name, type(s2.name))\n",
    "print(\"---------\")\n",
    "# name为Series的一个参数，创建一个数组的名称\n",
    "# .name方法：输出数组的名称，输出格式为str，如果没用定义输出名称，输出为None\n",
    "\n",
    "s3 = s2.rename(\"hehehe\")\n",
    "print(s3)\n",
    "print(s3.name, s2.name)\n",
    "# .rename()重命名一个数组的名称，并且新指向一个数组，原数组不变"
   ]
  },
  {
   "cell_type": "code",
   "execution_count": null,
   "metadata": {
    "collapsed": true
   },
   "outputs": [],
   "source": [
    "'''\n",
    "【课程2.2】  Pandas数据结构Series：索引\n",
    "\n",
    "位置下标 / 标签索引 / 切片索引 / 布尔型索引\n",
    "\n",
    "'''"
   ]
  },
  {
   "cell_type": "code",
   "execution_count": 16,
   "metadata": {},
   "outputs": [
    {
     "name": "stdout",
     "output_type": "stream",
     "text": [
      "0    0.560968\n",
      "1    0.493516\n",
      "2    0.062140\n",
      "3    0.312413\n",
      "4    0.904077\n",
      "dtype: float64\n",
      "0.560967922803 <class 'numpy.float64'> float64\n",
      "0.5609679228028187 <class 'float'>\n"
     ]
    }
   ],
   "source": [
    "# 位置下标，类似序列\n",
    "\n",
    "s = pd.Series(np.random.rand(5))\n",
    "print(s)\n",
    "print(s[0], type(s[0]), s[0].dtype)\n",
    "print(float(s[0]), type(float(s[0])))\n",
    "# print(s[-1])\n",
    "# 位置下标从0开始\n",
    "# 输出结果为numpy.float格式\n",
    "# 可以通过float()函数转换为python float 格式\n",
    "# numpy.float与float占用字节不同 \n",
    "# s[-1]结果如何？"
   ]
  },
  {
   "cell_type": "code",
   "execution_count": 22,
   "metadata": {},
   "outputs": [
    {
     "name": "stdout",
     "output_type": "stream",
     "text": [
      "a    0.213776\n",
      "b    0.182475\n",
      "c    0.099063\n",
      "d    0.048114\n",
      "e    0.347225\n",
      "dtype: float64\n",
      "0.213776129301 <class 'numpy.float64'> float64\n",
      "a    0.213776\n",
      "b    0.182475\n",
      "e    0.347225\n",
      "dtype: float64 <class 'pandas.core.series.Series'>\n"
     ]
    }
   ],
   "source": [
    "# 标签索引\n",
    "\n",
    "s = pd.Series(np.random.rand(5), index = [\"a\", \"b\", \"c\", \"d\", \"e\"])\n",
    "print(s)\n",
    "print(s[\"a\"], type(s[\"a\"]), s[\"a\"].dtype)\n",
    "# 方法类似下标索引，用[]表示，内写上index，注意index是字符串\n",
    "\n",
    "sci = s[[\"a\", \"b\", \"e\"]]\n",
    "print(sci, type(sci))\n",
    "# 如果需要选择多个标签的值，用[[]]来表示（相当于[]中包含一个列表）\n",
    "# 多标签索引结果是新的数组"
   ]
  },
  {
   "cell_type": "code",
   "execution_count": 27,
   "metadata": {},
   "outputs": [
    {
     "name": "stdout",
     "output_type": "stream",
     "text": [
      "1    0.111338\n",
      "2    0.028638\n",
      "3    0.646714\n",
      "dtype: float64 0.358315313479\n",
      "a    0.691003\n",
      "b    0.334908\n",
      "c    0.383004\n",
      "dtype: float64 0.383004452952\n",
      "a    0.691003\n",
      "b    0.334908\n",
      "c    0.383004\n",
      "dtype: float64 0.455667154779\n",
      "-------------\n",
      "a    0.691003\n",
      "b    0.334908\n",
      "c    0.383004\n",
      "d    0.455667\n",
      "dtype: float64\n",
      "a    0.691003\n",
      "c    0.383004\n",
      "e    0.767322\n",
      "dtype: float64\n"
     ]
    }
   ],
   "source": [
    "# 切片索引\n",
    "\n",
    "s1 = pd.Series(np.random.rand(5))\n",
    "s2 = pd.Series(np.random.rand(5), index = [\"a\", \"b\", \"c\", \"d\", \"e\"])\n",
    "print(s1[1:4], s1[4])\n",
    "print(s2[\"a\":\"c\"], s2[\"c\"])\n",
    "print(s2[0:3], s2[3])\n",
    "print(\"-------------\")\n",
    "# 注意：用index做切片是末端包含\n",
    "\n",
    "print(s2[:-1])\n",
    "print(s2[::2])\n",
    "# 下标索引做切片，和list写法一样"
   ]
  },
  {
   "cell_type": "code",
   "execution_count": 35,
   "metadata": {},
   "outputs": [
    {
     "name": "stdout",
     "output_type": "stream",
     "text": [
      "0    96.5709\n",
      "1    72.6577\n",
      "2      12.75\n",
      "4       None\n",
      "dtype: object\n",
      "0     True\n",
      "1     True\n",
      "2    False\n",
      "4    False\n",
      "dtype: bool <class 'pandas.core.series.Series'> bool\n",
      "0    False\n",
      "1    False\n",
      "2    False\n",
      "4     True\n",
      "dtype: bool <class 'pandas.core.series.Series'> bool\n",
      "0     True\n",
      "1     True\n",
      "2     True\n",
      "4    False\n",
      "dtype: bool <class 'pandas.core.series.Series'> bool\n",
      "-------------\n",
      "0    96.5709\n",
      "1    72.6577\n",
      "dtype: object\n",
      "0    96.5709\n",
      "1    72.6577\n",
      "2      12.75\n",
      "dtype: object\n"
     ]
    }
   ],
   "source": [
    "# 布尔型索引\n",
    "\n",
    "s = pd.Series(np.random.rand(3)*100)\n",
    "s[4] = None # 添加一个空值\n",
    "print(s)\n",
    "bs1 = s > 50\n",
    "bs2 = s.isnull()\n",
    "bs3 = s.notnull()\n",
    "print(bs1, type(bs1), bs1.dtype)\n",
    "print(bs2, type(bs2), bs2.dtype)\n",
    "print(bs3, type(bs3), bs2.dtype)\n",
    "print(\"-------------\")\n",
    "# 数组做判断之后，返回的是一个由布尔值组成的新的数组\n",
    "# .isnull() / .notnull() 判断是否为空值 (None代表空值，NaN代表有问题的数值，两个都会识别为空值)\n",
    "\n",
    "print(s[s > 50])\n",
    "print(s[bs3])\n",
    "# 布尔型索引方法：用[判断条件]表示，其中判断条件可以是 一个语句，或者是 一个布尔型数组！"
   ]
  },
  {
   "cell_type": "code",
   "execution_count": null,
   "metadata": {
    "collapsed": true
   },
   "outputs": [],
   "source": [
    "'''\n",
    "【课程2.3】  Pandas数据结构Series：基本技巧\n",
    "\n",
    "数据查看 / 重新索引 / 对齐 / 添加、修改、删除值\n",
    "\n",
    "'''"
   ]
  },
  {
   "cell_type": "code",
   "execution_count": 38,
   "metadata": {},
   "outputs": [
    {
     "name": "stdout",
     "output_type": "stream",
     "text": [
      "0    0.277002\n",
      "1    0.317063\n",
      "2    0.811060\n",
      "3    0.765574\n",
      "4    0.593932\n",
      "5    0.739993\n",
      "6    0.086348\n",
      "7    0.982307\n",
      "8    0.364677\n",
      "9    0.258351\n",
      "dtype: float64\n",
      "45    0.743516\n",
      "46    0.411566\n",
      "47    0.851413\n",
      "48    0.848713\n",
      "49    0.212264\n",
      "dtype: float64\n"
     ]
    }
   ],
   "source": [
    "# 数据查看\n",
    "\n",
    "s = pd.Series(np.random.rand(50))\n",
    "print(s.head(10))\n",
    "print(s.tail())\n",
    "# .head()查看头部数据\n",
    "# .tail()查看尾部数据\n",
    "# 默认查看5条"
   ]
  },
  {
   "cell_type": "code",
   "execution_count": 42,
   "metadata": {},
   "outputs": [
    {
     "name": "stdout",
     "output_type": "stream",
     "text": [
      "a    0.572551\n",
      "b    0.509950\n",
      "c    0.850255\n",
      "dtype: float64\n",
      "a    0.572551\n",
      "b    0.509950\n",
      "c    0.850255\n",
      "d         NaN\n",
      "dtype: float64\n",
      "c    0.850255\n",
      "b    0.509950\n",
      "a    0.572551\n",
      "d    0.000000\n",
      "dtype: float64\n"
     ]
    }
   ],
   "source": [
    "# 重新索引reindex\n",
    "# .reindex将会根据索引重新排序，如果当前索引不存在，则引入缺失值\n",
    "\n",
    "s = pd.Series(np.random.rand(3), index = ['a','b','c'])\n",
    "print(s)\n",
    "s1 = s.reindex(['a','b','c', \"d\"])\n",
    "print(s1)\n",
    "# .reindex()中也是写列表\n",
    "# 这里\"d\"索引不存在，所以值为NaN\n",
    "\n",
    "s2 = s.reindex(list(\"cbad\"), fill_value = 0)\n",
    "print(s2)\n",
    "# fill_value参数：填充缺失值的值"
   ]
  },
  {
   "cell_type": "code",
   "execution_count": 48,
   "metadata": {},
   "outputs": [
    {
     "name": "stdout",
     "output_type": "stream",
     "text": [
      "Jack     0.196502\n",
      "Marry    0.539981\n",
      "Tom      0.113609\n",
      "dtype: float64\n",
      "Wang     0.944202\n",
      "Jack     0.743035\n",
      "Marry    0.659737\n",
      "dtype: float64\n",
      "Jack     0.939537\n",
      "Marry    1.199718\n",
      "Tom           NaN\n",
      "Wang          NaN\n",
      "dtype: float64\n"
     ]
    }
   ],
   "source": [
    "# Series对齐\n",
    "\n",
    "s1 = pd.Series(np.random.rand(3), index = ['Jack','Marry','Tom'])\n",
    "s2 = pd.Series(np.random.rand(3), index = ['Wang','Jack','Marry'])\n",
    "print(s1)\n",
    "print(s2)\n",
    "print(s1 + s2)\n",
    "# Series 和 ndarray之间的主要区别是： Series上的操作会根据标签自动对齐\n",
    "# index顺序不会影响数值计算，以标签来计算\n",
    "# 空值和任何值计算结果仍为空值\n",
    "# PS:上面的结果是相同的index就会相加，比如s1[\"Jack\"] + s2[\"Jack\"]是这个意思"
   ]
  },
  {
   "cell_type": "code",
   "execution_count": 51,
   "metadata": {},
   "outputs": [
    {
     "name": "stdout",
     "output_type": "stream",
     "text": [
      "n    0.236251\n",
      "g    0.431352\n",
      "j    0.786431\n",
      "u    0.214351\n",
      "r    0.807724\n",
      "dtype: float64\n",
      "g    0.431352\n",
      "j    0.786431\n",
      "u    0.214351\n",
      "r    0.807724\n",
      "dtype: float64\n",
      "n    0.236251\n",
      "u    0.214351\n",
      "r    0.807724\n",
      "dtype: float64\n",
      "n    0.236251\n",
      "g    0.431352\n",
      "j    0.786431\n",
      "u    0.214351\n",
      "r    0.807724\n",
      "dtype: float64\n"
     ]
    }
   ],
   "source": [
    "# 删除：.drop\n",
    "\n",
    "s = pd.Series(np.random.rand(5), index = list(\"ngjur\"))\n",
    "print(s)\n",
    "s1 = s.drop(\"n\")\n",
    "s2 = s.drop([\"g\", \"j\"])\n",
    "print(s1)\n",
    "print(s2)\n",
    "print(s)\n",
    "# drop删除元素之后返回副本（inplace = False）"
   ]
  },
  {
   "cell_type": "code",
   "execution_count": 56,
   "metadata": {},
   "outputs": [
    {
     "name": "stdout",
     "output_type": "stream",
     "text": [
      "0    0.969831\n",
      "1    0.782475\n",
      "2    0.775078\n",
      "3    0.178143\n",
      "4    0.058379\n",
      "dtype: float64\n",
      "n    0.507924\n",
      "g    0.192238\n",
      "j    0.401397\n",
      "u    0.513251\n",
      "r    0.871474\n",
      "dtype: float64\n",
      "0      0.969831\n",
      "1      0.782475\n",
      "2      0.775078\n",
      "3      0.178143\n",
      "4      0.058379\n",
      "5    100.000000\n",
      "dtype: float64\n",
      "n      0.507924\n",
      "g      0.192238\n",
      "j      0.401397\n",
      "u      0.513251\n",
      "r      0.871474\n",
      "a    200.000000\n",
      "dtype: float64\n",
      "---------\n",
      "0      0.969831\n",
      "1      0.782475\n",
      "2      0.775078\n",
      "3      0.178143\n",
      "4      0.058379\n",
      "5    100.000000\n",
      "n      0.507924\n",
      "g      0.192238\n",
      "j      0.401397\n",
      "u      0.513251\n",
      "r      0.871474\n",
      "a    200.000000\n",
      "dtype: float64\n"
     ]
    }
   ],
   "source": [
    "# 添加\n",
    "\n",
    "s1 = pd.Series(np.random.rand(5))\n",
    "s2 = pd.Series(np.random.rand(5), index = list(\"ngjur\"))\n",
    "print(s1)\n",
    "print(s2)\n",
    "s1[5] = 100\n",
    "s2[\"a\"] = 200\n",
    "print(s1)\n",
    "print(s2)\n",
    "print(\"---------\")\n",
    "# 直接通过下标索引/标签index添加值\n",
    "\n",
    "s3 = s1.append(s2)\n",
    "print(s3)\n",
    "# 通过.append方法，直接添加一个数组\n",
    "# .append方法生成一个新的数组，不改变之前的数组"
   ]
  },
  {
   "cell_type": "code",
   "execution_count": 59,
   "metadata": {},
   "outputs": [
    {
     "name": "stdout",
     "output_type": "stream",
     "text": [
      "a    0.406925\n",
      "b    0.024699\n",
      "c    0.284828\n",
      "dtype: float64\n",
      "a    100.0\n",
      "b    200.0\n",
      "c    200.0\n",
      "dtype: float64\n"
     ]
    }
   ],
   "source": [
    "# 修改\n",
    "\n",
    "s = pd.Series(np.random.rand(3), index = list(\"abc\"))\n",
    "print(s)\n",
    "s[\"a\"] = 100\n",
    "s[[\"b\", \"c\"]] = 200\n",
    "print(s)\n",
    "# 通过索引直接修改，类似序列"
   ]
  },
  {
   "cell_type": "code",
   "execution_count": null,
   "metadata": {
    "collapsed": true
   },
   "outputs": [],
   "source": [
    "'''\n",
    "【课程2.4】  Pandas数据结构Dataframe：基本概念及创建\n",
    "\n",
    "\"二维数组\"Dataframe：是一个表格型的数据结构，包含一组有序的列，其列的值类型可以是数值、字符串、布尔值等。\n",
    "\n",
    "Dataframe中的数据以一个或多个二维块存放，不是列表、字典或一维数组结构。\n",
    "\n",
    "'''\n"
   ]
  },
  {
   "cell_type": "code",
   "execution_count": 12,
   "metadata": {},
   "outputs": [
    {
     "name": "stdout",
     "output_type": "stream",
     "text": [
      "   age gender  name\n",
      "0   18      m  Jack\n",
      "1   19      m   Tom\n",
      "2   20      w  Mary\n",
      "<class 'pandas.core.frame.DataFrame'>\n",
      "RangeIndex(start=0, stop=3, step=1) \n",
      "该数据类型为： <class 'pandas.core.indexes.range.RangeIndex'>\n",
      "Index(['age', 'gender', 'name'], dtype='object') \n",
      "该数据类型为： <class 'pandas.core.indexes.base.Index'>\n",
      "[[18 'm' 'Jack']\n",
      " [19 'm' 'Tom']\n",
      " [20 'w' 'Mary']] \n",
      "该数据类型为： <class 'numpy.ndarray'>\n"
     ]
    }
   ],
   "source": [
    "# Dataframe 数据结构\n",
    "# Dataframe是一个表格型的数据结构，“带有标签的二维数组”。\n",
    "# Dataframe带有index（行标签）和columns（列标签）\n",
    "\n",
    "data = {\"name\": ['Jack','Tom','Mary'], \n",
    "        \"age\": [18,19,20],\n",
    "        \"gender\": [\"m\",\"m\",\"w\"]\n",
    "       }\n",
    "frame = pd.DataFrame(data)\n",
    "print(frame)\n",
    "print(type(frame))\n",
    "print(frame.index,\"\\n该数据类型为：\",type(frame.index))\n",
    "print(frame.columns,'\\n该数据类型为：',type(frame.columns))\n",
    "print(frame.values,'\\n该数据类型为：',type(frame.values))\n",
    "# 查看数据，数据类型为dataframe\n",
    "# .index查看行标签\n",
    "# .columns查看列标签\n",
    "# .values查看值，数据类型为ndarray"
   ]
  },
  {
   "cell_type": "code",
   "execution_count": 24,
   "metadata": {},
   "outputs": [
    {
     "name": "stdout",
     "output_type": "stream",
     "text": [
      "{'a': [1, 2, 3], 'b': [3, 4, 5], 'c': [5, 6, 7]}\n",
      "{'one': array([ 0.70824335,  0.84011347,  0.6113807 ]), 'two': array([ 0.70723487,  0.12187474,  0.84577133])}\n",
      "   a  b  c\n",
      "0  1  3  5\n",
      "1  2  4  6\n",
      "2  3  5  7\n",
      "        one       two\n",
      "0  0.708243  0.707235\n",
      "1  0.840113  0.121875\n",
      "2  0.611381  0.845771\n",
      "   b  c  a    d\n",
      "0  3  5  1  NaN\n",
      "1  4  6  2  NaN\n",
      "2  5  7  3  NaN\n",
      "   b  c\n",
      "0  3  5\n",
      "1  4  6\n",
      "2  5  7\n",
      "         one       two\n",
      "f1  0.708243  0.707235\n",
      "f2  0.840113  0.121875\n",
      "f3  0.611381  0.845771\n"
     ]
    }
   ],
   "source": [
    "# Dataframe 创建方法一：由数组/list组成的字典\n",
    "# 创建方法:pandas.Dataframe()\n",
    "\n",
    "data1 = {\"a\": [1,2,3],\n",
    "         \"b\": [3,4,5],\n",
    "         \"c\": [5,6,7]\n",
    "        }\n",
    "data2 = {\"one\": np.random.rand(3),\n",
    "         \"two\": np.random.rand(3) # 这里如果尝试  'two':np.random.rand(4) 会怎么样？\n",
    "        }\n",
    "print(data1)\n",
    "print(data2)\n",
    "\n",
    "df1 = pd.DataFrame(data1)\n",
    "df2 = pd.DataFrame(data2)\n",
    "print(df1)\n",
    "print(df2)\n",
    "# 由数组/list组成的字典 创建Dataframe，columns为字典key，index为默认数字标签\n",
    "# 字典的值的长度必须保持一致！\n",
    "\n",
    "df1 = pd.DataFrame(data1, columns = ['b','c','a','d'])\n",
    "print(df1)\n",
    "df1 = pd.DataFrame(data1, columns = ['b','c'])\n",
    "print(df1)\n",
    "# columns参数：可以重新指定列的顺序，格式为list，如果现有数据中没有该列（比如'd'），则产生NaN值\n",
    "# 如果columns重新指定时候，列的数量可以少于原数据\n",
    "\n",
    "df2 = pd.DataFrame(data2, index = ['f1','f2','f3'])  # 这里如果尝试  index = ['f1','f2','f3','f4'] 会怎么样？\n",
    "print(df2)\n",
    "# index参数：重新定义index，格式为list，长度必须保持一致"
   ]
  },
  {
   "cell_type": "code",
   "execution_count": 27,
   "metadata": {},
   "outputs": [
    {
     "name": "stdout",
     "output_type": "stream",
     "text": [
      "{'one': 0    0.256007\n",
      "1    0.937857\n",
      "dtype: float64, 'two': 0    0.390475\n",
      "1    0.548695\n",
      "2    0.853570\n",
      "dtype: float64}\n",
      "{'one': a    0.111607\n",
      "b    0.344046\n",
      "dtype: float64, 'two': a    0.405647\n",
      "b    0.998031\n",
      "c    0.019877\n",
      "dtype: float64}\n",
      "        one       two\n",
      "0  0.256007  0.390475\n",
      "1  0.937857  0.548695\n",
      "2       NaN  0.853570\n",
      "        one       two\n",
      "a  0.111607  0.405647\n",
      "b  0.344046  0.998031\n",
      "c       NaN  0.019877\n"
     ]
    }
   ],
   "source": [
    "# DataFrame 创建方法二：由Series组成的字典\n",
    "\n",
    "data1 = {\"one\": pd.Series(np.random.rand(2)),\n",
    "         \"two\": pd.Series(np.random.rand(3)) # 没有设置index的Series\n",
    "        }\n",
    "data2 = {\"one\": pd.Series(np.random.rand(2), index = [\"a\", \"b\"]),\n",
    "         \"two\": pd.Series(np.random.rand(3), index = [\"a\", \"b\", \"c\"])  # 设置了index的Series\n",
    "        }\n",
    "print(data1)\n",
    "print(data2)\n",
    "df1 = pd.DataFrame(data1)\n",
    "df2 = pd.DataFrame(data2)\n",
    "print(df1)\n",
    "print(df2)\n",
    "# 由Seris组成的字典 创建Dataframe，columns为字典key，index为Series的标签（如果Series没有指定标签，则是默认数字标签）\n",
    "# Series可以长度不一样，生成的Dataframe会出现NaN值"
   ]
  },
  {
   "cell_type": "code",
   "execution_count": 31,
   "metadata": {},
   "outputs": [
    {
     "name": "stdout",
     "output_type": "stream",
     "text": [
      "[[ 0.04827809  0.18889651  0.64144429]\n",
      " [ 0.98297813  0.96843902  0.19228992]\n",
      " [ 0.70065193  0.83740653  0.28605327]]\n",
      "          0         1         2\n",
      "0  0.048278  0.188897  0.641444\n",
      "1  0.982978  0.968439  0.192290\n",
      "2  0.700652  0.837407  0.286053\n",
      "        one       two     three\n",
      "a  0.048278  0.188897  0.641444\n",
      "b  0.982978  0.968439  0.192290\n",
      "c  0.700652  0.837407  0.286053\n"
     ]
    }
   ],
   "source": [
    "# DataFrame 创建方法三：通过二维数组直接创建\n",
    "\n",
    "ar = np.random.rand(9).reshape(3,3)\n",
    "print(ar)\n",
    "df1 = pd.DataFrame(ar)\n",
    "df2 = pd.DataFrame(ar, index = ['a', 'b', 'c'], columns = ['one','two','three']) # 可以尝试一下index或columns长度不等于已有数组的情况\n",
    "print(df1)\n",
    "print(df2)\n",
    "# 通过二维数组直接创建Dataframe，得到一样形状的结果数据，如果不指定index和columns，两者均返回默认数字格式\n",
    "# index和colunms指定长度与原数组保持一致"
   ]
  },
  {
   "cell_type": "code",
   "execution_count": 33,
   "metadata": {},
   "outputs": [
    {
     "name": "stdout",
     "output_type": "stream",
     "text": [
      "[{'one': 1, 'two': 2}, {'one': 5, 'two': 10, 'three': 20}]\n",
      "   one  three  two\n",
      "0    1    NaN    2\n",
      "1    5   20.0   10\n",
      "   one  three  two\n",
      "a    1    NaN    2\n",
      "b    5   20.0   10\n",
      "   one  two\n",
      "0    1    2\n",
      "1    5   10\n"
     ]
    }
   ],
   "source": [
    "# Dataframe 创建方法四：由字典组成的列表\n",
    "\n",
    "data = [{\"one\": 1, \"two\": 2}, {'one': 5, 'two': 10, 'three': 20}]\n",
    "print(data)\n",
    "df1 = pd.DataFrame(data)\n",
    "df2 = pd.DataFrame(data, index = [\"a\", \"b\"])\n",
    "df3 = pd.DataFrame(data, columns = [\"one\", \"two\"])\n",
    "print(df1)\n",
    "print(df2)\n",
    "print(df3)"
   ]
  },
  {
   "cell_type": "code",
   "execution_count": 35,
   "metadata": {},
   "outputs": [
    {
     "name": "stdout",
     "output_type": "stream",
     "text": [
      "         Jack  Marry   Tom\n",
      "art        78     92   NaN\n",
      "english    89     95  67.0\n",
      "math       90     82  78.0\n",
      "         Jack   Tom  Bob\n",
      "art        78   NaN  NaN\n",
      "english    89  67.0  NaN\n",
      "math       90  78.0  NaN\n",
      "   Jack  Marry  Tom\n",
      "a   NaN    NaN  NaN\n",
      "b   NaN    NaN  NaN\n",
      "c   NaN    NaN  NaN\n"
     ]
    }
   ],
   "source": [
    "# Dataframe 创建方法五：由字典组成的字典\n",
    "\n",
    "data = {'Jack':{'math':90,'english':89,'art':78},\n",
    "       'Marry':{'math':82,'english':95,'art':92},\n",
    "       'Tom':{'math':78,'english':67}}\n",
    "df1 = pd.DataFrame(data)\n",
    "print(df1)\n",
    "# 由字典组成的字典创建Dataframe，columns为字典的key，index为子字典的key\n",
    "\n",
    "df2 = pd.DataFrame(data, columns = ['Jack','Tom','Bob'])\n",
    "df3 = pd.DataFrame(data, index = ['a','b','c'])\n",
    "print(df2)\n",
    "print(df3)\n",
    "# columns参数可以增加和减少现有列，如出现新的列，值为NaN\n",
    "# index在这里和之前不同，并不能改变原有index，如果指向新的标签，值为NaN （非常重要！）"
   ]
  },
  {
   "cell_type": "code",
   "execution_count": null,
   "metadata": {
    "collapsed": true
   },
   "outputs": [],
   "source": []
  },
  {
   "cell_type": "code",
   "execution_count": null,
   "metadata": {
    "collapsed": true
   },
   "outputs": [],
   "source": []
  },
  {
   "cell_type": "code",
   "execution_count": null,
   "metadata": {
    "collapsed": true
   },
   "outputs": [],
   "source": []
  },
  {
   "cell_type": "code",
   "execution_count": null,
   "metadata": {
    "collapsed": true
   },
   "outputs": [],
   "source": []
  },
  {
   "cell_type": "code",
   "execution_count": null,
   "metadata": {
    "collapsed": true
   },
   "outputs": [],
   "source": []
  },
  {
   "cell_type": "code",
   "execution_count": null,
   "metadata": {
    "collapsed": true
   },
   "outputs": [],
   "source": []
  },
  {
   "cell_type": "code",
   "execution_count": null,
   "metadata": {
    "collapsed": true
   },
   "outputs": [],
   "source": []
  },
  {
   "cell_type": "code",
   "execution_count": null,
   "metadata": {
    "collapsed": true
   },
   "outputs": [],
   "source": []
  },
  {
   "cell_type": "code",
   "execution_count": null,
   "metadata": {
    "collapsed": true
   },
   "outputs": [],
   "source": []
  },
  {
   "cell_type": "code",
   "execution_count": null,
   "metadata": {
    "collapsed": true
   },
   "outputs": [],
   "source": []
  },
  {
   "cell_type": "code",
   "execution_count": null,
   "metadata": {
    "collapsed": true
   },
   "outputs": [],
   "source": []
  }
 ],
 "metadata": {
  "kernelspec": {
   "display_name": "Python 3",
   "language": "python",
   "name": "python3"
  },
  "language_info": {
   "codemirror_mode": {
    "name": "ipython",
    "version": 3
   },
   "file_extension": ".py",
   "mimetype": "text/x-python",
   "name": "python",
   "nbconvert_exporter": "python",
   "pygments_lexer": "ipython3",
   "version": "3.6.3"
  }
 },
 "nbformat": 4,
 "nbformat_minor": 2
}
