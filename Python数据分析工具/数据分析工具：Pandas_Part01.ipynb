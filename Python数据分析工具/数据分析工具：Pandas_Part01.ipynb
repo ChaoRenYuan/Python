{
 "cells": [
  {
   "cell_type": "code",
   "execution_count": null,
   "metadata": {
    "collapsed": true
   },
   "outputs": [],
   "source": [
    "'''\n",
    "【课程2.1】  Pandas数据结构Series：基本概念及创建\n",
    "\n",
    "\"一维数组\"Serise\n",
    "\n",
    "'''"
   ]
  },
  {
   "cell_type": "code",
   "execution_count": 2,
   "metadata": {},
   "outputs": [
    {
     "name": "stdout",
     "output_type": "stream",
     "text": [
      "0    0.139659\n",
      "1    0.296819\n",
      "2    0.305464\n",
      "3    0.177713\n",
      "4    0.241560\n",
      "dtype: float64\n",
      "<class 'pandas.core.series.Series'>\n",
      "RangeIndex(start=0, stop=5, step=1) <class 'pandas.core.indexes.range.RangeIndex'>\n",
      "[ 0.13965911  0.29681901  0.30546434  0.17771312  0.24155965] <class 'numpy.ndarray'>\n"
     ]
    }
   ],
   "source": [
    "# Series 数据结构\n",
    "# Series 是带有标签的一组数组，可以保存任何数据类型（整数，字符串，浮点数，python对象等），轴标签统称为索引\n",
    "\n",
    "import numpy as np\n",
    "import pandas as pd\n",
    "# 导入numpy、pandas模块\n",
    "\n",
    "s = pd.Series(np.random.rand(5))\n",
    "print(s)\n",
    "print(type(s))\n",
    "# 查看数据、数据类型\n",
    "\n",
    "\n",
    "print(s.index, type(s.index))\n",
    "print(s.values, type(s.values))\n",
    "# .index查看series索引，类型为rangeindex\n",
    "# .values查看series值，类型是ndarray\n",
    "\n",
    "# 核心：series相当于ndarray，是一个自带索引index的数组 -> 一维数组 + 对应索引\n",
    "# 所以当只看series的值的时候，就是一个ndarray\n",
    "# series和ndarray较相似，索引切片功能差别不大\n",
    "# series和dict相比，series更像一个有顺序的字典（dict本身不存在顺序），其索引原理与字典相似（一个用key，一个用index)\n"
   ]
  },
  {
   "cell_type": "code",
   "execution_count": 22,
   "metadata": {},
   "outputs": [
    {
     "name": "stdout",
     "output_type": "stream",
     "text": [
      "4    4\n",
      "5    5\n",
      "a    1\n",
      "b    2\n",
      "c    3\n",
      "dtype: int64\n"
     ]
    }
   ],
   "source": [
    "# Series 创建方法一：由字典创建，字典的key就是index，values就是values\n",
    "\n",
    "dic = {\"a\": 1, \"b\": 2, \"c\": 3, \"4\": 4, \"5\":5}\n",
    "s = pd.Series(dic)\n",
    "print(s)\n",
    "dic = {'a':1 ,'b':'hello' , 'c':3, '4':4, '5':5}\n",
    "# 注意：key肯定是字符串，假如values类型不止一个会怎么样？-> dic = {'a':1 ,'b':'hello' , 'c':3, '4':4, '5':5}"
   ]
  },
  {
   "cell_type": "code",
   "execution_count": 25,
   "metadata": {},
   "outputs": [
    {
     "name": "stdout",
     "output_type": "stream",
     "text": [
      "[-1.02694698  0.87887104  0.32315567  2.22775189  0.5681097 ]\n",
      "0   -1.026947\n",
      "1    0.878871\n",
      "2    0.323156\n",
      "3    2.227752\n",
      "4    0.568110\n",
      "dtype: float64\n",
      "a    -1.02695\n",
      "b    0.878871\n",
      "c    0.323156\n",
      "d     2.22775\n",
      "e     0.56811\n",
      "dtype: object\n"
     ]
    }
   ],
   "source": [
    "# Series 创建方法二：由数组创建（一维数组）\n",
    "\n",
    "arr = np.random.randn(5)\n",
    "s = pd.Series(arr)\n",
    "print(arr)\n",
    "print(s)\n",
    "# 默认index是从0开始，步长为1的数字\n",
    "\n",
    "s = pd.Series(arr, index = [\"a\", \"b\", \"c\", \"d\", \"e\"], dtype = np.object)\n",
    "print(s)\n",
    "# index参数：设置index，长度保持一致\n",
    "# dtype参数：设置数值类型"
   ]
  },
  {
   "cell_type": "code",
   "execution_count": 26,
   "metadata": {},
   "outputs": [
    {
     "name": "stdout",
     "output_type": "stream",
     "text": [
      "0    10\n",
      "1    10\n",
      "2    10\n",
      "3    10\n",
      "dtype: int64\n"
     ]
    }
   ],
   "source": [
    "# Series 创建方法三：由标量创建\n",
    "\n",
    "s = pd.Series(10, index = range(4))\n",
    "print(s)\n",
    "# 如果data是标量值，则必须提供索引。该值会重复，来匹配索引的长度"
   ]
  },
  {
   "cell_type": "code",
   "execution_count": 32,
   "metadata": {},
   "outputs": [
    {
     "name": "stdout",
     "output_type": "stream",
     "text": [
      "0    0.921083\n",
      "1    0.221778\n",
      "2   -0.898440\n",
      "3   -1.328778\n",
      "4    1.106824\n",
      "dtype: float64\n",
      "---------\n",
      "0    0.234609\n",
      "1   -1.024634\n",
      "2   -0.738751\n",
      "3    2.016070\n",
      "4    2.274898\n",
      "Name: test, dtype: float64\n",
      "None test <class 'str'>\n",
      "---------\n",
      "0    0.234609\n",
      "1   -1.024634\n",
      "2   -0.738751\n",
      "3    2.016070\n",
      "4    2.274898\n",
      "Name: hehehe, dtype: float64\n",
      "hehehe test\n"
     ]
    }
   ],
   "source": [
    "# Series 名称属性：name\n",
    "\n",
    "s1 = pd.Series(np.random.randn(5))\n",
    "print(s1)\n",
    "print(\"---------\")\n",
    "s2 = pd.Series(np.random.randn(5), name = \"test\")\n",
    "print(s2)\n",
    "print(s1.name, s2.name, type(s2.name))\n",
    "print(\"---------\")\n",
    "# name为Series的一个参数，创建一个数组的名称\n",
    "# .name方法：输出数组的名称，输出格式为str，如果没用定义输出名称，输出为None\n",
    "\n",
    "s3 = s2.rename(\"hehehe\")\n",
    "print(s3)\n",
    "print(s3.name, s2.name)\n",
    "# .rename()重命名一个数组的名称，并且新指向一个数组，原数组不变"
   ]
  },
  {
   "cell_type": "code",
   "execution_count": null,
   "metadata": {
    "collapsed": true
   },
   "outputs": [],
   "source": [
    "'''\n",
    "【课程2.2】  Pandas数据结构Series：索引\n",
    "\n",
    "位置下标 / 标签索引 / 切片索引 / 布尔型索引\n",
    "\n",
    "'''"
   ]
  },
  {
   "cell_type": "code",
   "execution_count": 16,
   "metadata": {},
   "outputs": [
    {
     "name": "stdout",
     "output_type": "stream",
     "text": [
      "0    0.560968\n",
      "1    0.493516\n",
      "2    0.062140\n",
      "3    0.312413\n",
      "4    0.904077\n",
      "dtype: float64\n",
      "0.560967922803 <class 'numpy.float64'> float64\n",
      "0.5609679228028187 <class 'float'>\n"
     ]
    }
   ],
   "source": [
    "# 位置下标，类似序列\n",
    "\n",
    "s = pd.Series(np.random.rand(5))\n",
    "print(s)\n",
    "print(s[0], type(s[0]), s[0].dtype)\n",
    "print(float(s[0]), type(float(s[0])))\n",
    "# print(s[-1])\n",
    "# 位置下标从0开始\n",
    "# 输出结果为numpy.float格式\n",
    "# 可以通过float()函数转换为python float 格式\n",
    "# numpy.float与float占用字节不同 \n",
    "# s[-1]结果如何？"
   ]
  },
  {
   "cell_type": "code",
   "execution_count": 22,
   "metadata": {},
   "outputs": [
    {
     "name": "stdout",
     "output_type": "stream",
     "text": [
      "a    0.213776\n",
      "b    0.182475\n",
      "c    0.099063\n",
      "d    0.048114\n",
      "e    0.347225\n",
      "dtype: float64\n",
      "0.213776129301 <class 'numpy.float64'> float64\n",
      "a    0.213776\n",
      "b    0.182475\n",
      "e    0.347225\n",
      "dtype: float64 <class 'pandas.core.series.Series'>\n"
     ]
    }
   ],
   "source": [
    "# 标签索引\n",
    "\n",
    "s = pd.Series(np.random.rand(5), index = [\"a\", \"b\", \"c\", \"d\", \"e\"])\n",
    "print(s)\n",
    "print(s[\"a\"], type(s[\"a\"]), s[\"a\"].dtype)\n",
    "# 方法类似下标索引，用[]表示，内写上index，注意index是字符串\n",
    "\n",
    "sci = s[[\"a\", \"b\", \"e\"]]\n",
    "print(sci, type(sci))\n",
    "# 如果需要选择多个标签的值，用[[]]来表示（相当于[]中包含一个列表）\n",
    "# 多标签索引结果是新的数组"
   ]
  },
  {
   "cell_type": "code",
   "execution_count": 27,
   "metadata": {},
   "outputs": [
    {
     "name": "stdout",
     "output_type": "stream",
     "text": [
      "1    0.111338\n",
      "2    0.028638\n",
      "3    0.646714\n",
      "dtype: float64 0.358315313479\n",
      "a    0.691003\n",
      "b    0.334908\n",
      "c    0.383004\n",
      "dtype: float64 0.383004452952\n",
      "a    0.691003\n",
      "b    0.334908\n",
      "c    0.383004\n",
      "dtype: float64 0.455667154779\n",
      "-------------\n",
      "a    0.691003\n",
      "b    0.334908\n",
      "c    0.383004\n",
      "d    0.455667\n",
      "dtype: float64\n",
      "a    0.691003\n",
      "c    0.383004\n",
      "e    0.767322\n",
      "dtype: float64\n"
     ]
    }
   ],
   "source": [
    "# 切片索引\n",
    "\n",
    "s1 = pd.Series(np.random.rand(5))\n",
    "s2 = pd.Series(np.random.rand(5), index = [\"a\", \"b\", \"c\", \"d\", \"e\"])\n",
    "print(s1[1:4], s1[4])\n",
    "print(s2[\"a\":\"c\"], s2[\"c\"])\n",
    "print(s2[0:3], s2[3])\n",
    "print(\"-------------\")\n",
    "# 注意：用index做切片是末端包含\n",
    "\n",
    "print(s2[:-1])\n",
    "print(s2[::2])\n",
    "# 下标索引做切片，和list写法一样"
   ]
  },
  {
   "cell_type": "code",
   "execution_count": 35,
   "metadata": {},
   "outputs": [
    {
     "name": "stdout",
     "output_type": "stream",
     "text": [
      "0    96.5709\n",
      "1    72.6577\n",
      "2      12.75\n",
      "4       None\n",
      "dtype: object\n",
      "0     True\n",
      "1     True\n",
      "2    False\n",
      "4    False\n",
      "dtype: bool <class 'pandas.core.series.Series'> bool\n",
      "0    False\n",
      "1    False\n",
      "2    False\n",
      "4     True\n",
      "dtype: bool <class 'pandas.core.series.Series'> bool\n",
      "0     True\n",
      "1     True\n",
      "2     True\n",
      "4    False\n",
      "dtype: bool <class 'pandas.core.series.Series'> bool\n",
      "-------------\n",
      "0    96.5709\n",
      "1    72.6577\n",
      "dtype: object\n",
      "0    96.5709\n",
      "1    72.6577\n",
      "2      12.75\n",
      "dtype: object\n"
     ]
    }
   ],
   "source": [
    "# 布尔型索引\n",
    "\n",
    "s = pd.Series(np.random.rand(3)*100)\n",
    "s[4] = None # 添加一个空值\n",
    "print(s)\n",
    "bs1 = s > 50\n",
    "bs2 = s.isnull()\n",
    "bs3 = s.notnull()\n",
    "print(bs1, type(bs1), bs1.dtype)\n",
    "print(bs2, type(bs2), bs2.dtype)\n",
    "print(bs3, type(bs3), bs2.dtype)\n",
    "print(\"-------------\")\n",
    "# 数组做判断之后，返回的是一个由布尔值组成的新的数组\n",
    "# .isnull() / .notnull() 判断是否为空值 (None代表空值，NaN代表有问题的数值，两个都会识别为空值)\n",
    "\n",
    "print(s[s > 50])\n",
    "print(s[bs3])\n",
    "# 布尔型索引方法：用[判断条件]表示，其中判断条件可以是 一个语句，或者是 一个布尔型数组！"
   ]
  },
  {
   "cell_type": "code",
   "execution_count": null,
   "metadata": {
    "collapsed": true
   },
   "outputs": [],
   "source": [
    "'''\n",
    "【课程2.3】  Pandas数据结构Series：基本技巧\n",
    "\n",
    "数据查看 / 重新索引 / 对齐 / 添加、修改、删除值\n",
    "\n",
    "'''"
   ]
  },
  {
   "cell_type": "code",
   "execution_count": 38,
   "metadata": {},
   "outputs": [
    {
     "name": "stdout",
     "output_type": "stream",
     "text": [
      "0    0.277002\n",
      "1    0.317063\n",
      "2    0.811060\n",
      "3    0.765574\n",
      "4    0.593932\n",
      "5    0.739993\n",
      "6    0.086348\n",
      "7    0.982307\n",
      "8    0.364677\n",
      "9    0.258351\n",
      "dtype: float64\n",
      "45    0.743516\n",
      "46    0.411566\n",
      "47    0.851413\n",
      "48    0.848713\n",
      "49    0.212264\n",
      "dtype: float64\n"
     ]
    }
   ],
   "source": [
    "# 数据查看\n",
    "\n",
    "s = pd.Series(np.random.rand(50))\n",
    "print(s.head(10))\n",
    "print(s.tail())\n",
    "# .head()查看头部数据\n",
    "# .tail()查看尾部数据\n",
    "# 默认查看5条"
   ]
  },
  {
   "cell_type": "code",
   "execution_count": 42,
   "metadata": {},
   "outputs": [
    {
     "name": "stdout",
     "output_type": "stream",
     "text": [
      "a    0.572551\n",
      "b    0.509950\n",
      "c    0.850255\n",
      "dtype: float64\n",
      "a    0.572551\n",
      "b    0.509950\n",
      "c    0.850255\n",
      "d         NaN\n",
      "dtype: float64\n",
      "c    0.850255\n",
      "b    0.509950\n",
      "a    0.572551\n",
      "d    0.000000\n",
      "dtype: float64\n"
     ]
    }
   ],
   "source": [
    "# 重新索引reindex\n",
    "# .reindex将会根据索引重新排序，如果当前索引不存在，则引入缺失值\n",
    "\n",
    "s = pd.Series(np.random.rand(3), index = ['a','b','c'])\n",
    "print(s)\n",
    "s1 = s.reindex(['a','b','c', \"d\"])\n",
    "print(s1)\n",
    "# .reindex()中也是写列表\n",
    "# 这里\"d\"索引不存在，所以值为NaN\n",
    "\n",
    "s2 = s.reindex(list(\"cbad\"), fill_value = 0)\n",
    "print(s2)\n",
    "# fill_value参数：填充缺失值的值"
   ]
  },
  {
   "cell_type": "code",
   "execution_count": 48,
   "metadata": {},
   "outputs": [
    {
     "name": "stdout",
     "output_type": "stream",
     "text": [
      "Jack     0.196502\n",
      "Marry    0.539981\n",
      "Tom      0.113609\n",
      "dtype: float64\n",
      "Wang     0.944202\n",
      "Jack     0.743035\n",
      "Marry    0.659737\n",
      "dtype: float64\n",
      "Jack     0.939537\n",
      "Marry    1.199718\n",
      "Tom           NaN\n",
      "Wang          NaN\n",
      "dtype: float64\n"
     ]
    }
   ],
   "source": [
    "# Series对齐\n",
    "\n",
    "s1 = pd.Series(np.random.rand(3), index = ['Jack','Marry','Tom'])\n",
    "s2 = pd.Series(np.random.rand(3), index = ['Wang','Jack','Marry'])\n",
    "print(s1)\n",
    "print(s2)\n",
    "print(s1 + s2)\n",
    "# Series 和 ndarray之间的主要区别是： Series上的操作会根据标签自动对齐\n",
    "# index顺序不会影响数值计算，以标签来计算\n",
    "# 空值和任何值计算结果仍为空值\n",
    "# PS:上面的结果是相同的index就会相加，比如s1[\"Jack\"] + s2[\"Jack\"]是这个意思"
   ]
  },
  {
   "cell_type": "code",
   "execution_count": 51,
   "metadata": {},
   "outputs": [
    {
     "name": "stdout",
     "output_type": "stream",
     "text": [
      "n    0.236251\n",
      "g    0.431352\n",
      "j    0.786431\n",
      "u    0.214351\n",
      "r    0.807724\n",
      "dtype: float64\n",
      "g    0.431352\n",
      "j    0.786431\n",
      "u    0.214351\n",
      "r    0.807724\n",
      "dtype: float64\n",
      "n    0.236251\n",
      "u    0.214351\n",
      "r    0.807724\n",
      "dtype: float64\n",
      "n    0.236251\n",
      "g    0.431352\n",
      "j    0.786431\n",
      "u    0.214351\n",
      "r    0.807724\n",
      "dtype: float64\n"
     ]
    }
   ],
   "source": [
    "# 删除：.drop\n",
    "\n",
    "s = pd.Series(np.random.rand(5), index = list(\"ngjur\"))\n",
    "print(s)\n",
    "s1 = s.drop(\"n\")\n",
    "s2 = s.drop([\"g\", \"j\"])\n",
    "print(s1)\n",
    "print(s2)\n",
    "print(s)\n",
    "# drop删除元素之后返回副本（inplace = False）"
   ]
  },
  {
   "cell_type": "code",
   "execution_count": 56,
   "metadata": {},
   "outputs": [
    {
     "name": "stdout",
     "output_type": "stream",
     "text": [
      "0    0.969831\n",
      "1    0.782475\n",
      "2    0.775078\n",
      "3    0.178143\n",
      "4    0.058379\n",
      "dtype: float64\n",
      "n    0.507924\n",
      "g    0.192238\n",
      "j    0.401397\n",
      "u    0.513251\n",
      "r    0.871474\n",
      "dtype: float64\n",
      "0      0.969831\n",
      "1      0.782475\n",
      "2      0.775078\n",
      "3      0.178143\n",
      "4      0.058379\n",
      "5    100.000000\n",
      "dtype: float64\n",
      "n      0.507924\n",
      "g      0.192238\n",
      "j      0.401397\n",
      "u      0.513251\n",
      "r      0.871474\n",
      "a    200.000000\n",
      "dtype: float64\n",
      "---------\n",
      "0      0.969831\n",
      "1      0.782475\n",
      "2      0.775078\n",
      "3      0.178143\n",
      "4      0.058379\n",
      "5    100.000000\n",
      "n      0.507924\n",
      "g      0.192238\n",
      "j      0.401397\n",
      "u      0.513251\n",
      "r      0.871474\n",
      "a    200.000000\n",
      "dtype: float64\n"
     ]
    }
   ],
   "source": [
    "# 添加\n",
    "\n",
    "s1 = pd.Series(np.random.rand(5))\n",
    "s2 = pd.Series(np.random.rand(5), index = list(\"ngjur\"))\n",
    "print(s1)\n",
    "print(s2)\n",
    "s1[5] = 100\n",
    "s2[\"a\"] = 200\n",
    "print(s1)\n",
    "print(s2)\n",
    "print(\"---------\")\n",
    "# 直接通过下标索引/标签index添加值\n",
    "\n",
    "s3 = s1.append(s2)\n",
    "print(s3)\n",
    "# 通过.append方法，直接添加一个数组\n",
    "# .append方法生成一个新的数组，不改变之前的数组"
   ]
  },
  {
   "cell_type": "code",
   "execution_count": 59,
   "metadata": {},
   "outputs": [
    {
     "name": "stdout",
     "output_type": "stream",
     "text": [
      "a    0.406925\n",
      "b    0.024699\n",
      "c    0.284828\n",
      "dtype: float64\n",
      "a    100.0\n",
      "b    200.0\n",
      "c    200.0\n",
      "dtype: float64\n"
     ]
    }
   ],
   "source": [
    "# 修改\n",
    "\n",
    "s = pd.Series(np.random.rand(3), index = list(\"abc\"))\n",
    "print(s)\n",
    "s[\"a\"] = 100\n",
    "s[[\"b\", \"c\"]] = 200\n",
    "print(s)\n",
    "# 通过索引直接修改，类似序列"
   ]
  },
  {
   "cell_type": "code",
   "execution_count": null,
   "metadata": {
    "collapsed": true
   },
   "outputs": [],
   "source": [
    "'''\n",
    "【课程2.4】  Pandas数据结构Dataframe：基本概念及创建\n",
    "\n",
    "\"二维数组\"Dataframe：是一个表格型的数据结构，包含一组有序的列，其列的值类型可以是数值、字符串、布尔值等。\n",
    "\n",
    "Dataframe中的数据以一个或多个二维块存放，不是列表、字典或一维数组结构。\n",
    "\n",
    "'''\n"
   ]
  },
  {
   "cell_type": "code",
   "execution_count": 12,
   "metadata": {},
   "outputs": [
    {
     "name": "stdout",
     "output_type": "stream",
     "text": [
      "   age gender  name\n",
      "0   18      m  Jack\n",
      "1   19      m   Tom\n",
      "2   20      w  Mary\n",
      "<class 'pandas.core.frame.DataFrame'>\n",
      "RangeIndex(start=0, stop=3, step=1) \n",
      "该数据类型为： <class 'pandas.core.indexes.range.RangeIndex'>\n",
      "Index(['age', 'gender', 'name'], dtype='object') \n",
      "该数据类型为： <class 'pandas.core.indexes.base.Index'>\n",
      "[[18 'm' 'Jack']\n",
      " [19 'm' 'Tom']\n",
      " [20 'w' 'Mary']] \n",
      "该数据类型为： <class 'numpy.ndarray'>\n"
     ]
    }
   ],
   "source": [
    "# Dataframe 数据结构\n",
    "# Dataframe是一个表格型的数据结构，“带有标签的二维数组”。\n",
    "# Dataframe带有index（行标签）和columns（列标签）\n",
    "\n",
    "data = {\"name\": ['Jack','Tom','Mary'], \n",
    "        \"age\": [18,19,20],\n",
    "        \"gender\": [\"m\",\"m\",\"w\"]\n",
    "       }\n",
    "frame = pd.DataFrame(data)\n",
    "print(frame)\n",
    "print(type(frame))\n",
    "print(frame.index,\"\\n该数据类型为：\",type(frame.index))\n",
    "print(frame.columns,'\\n该数据类型为：',type(frame.columns))\n",
    "print(frame.values,'\\n该数据类型为：',type(frame.values))\n",
    "# 查看数据，数据类型为dataframe\n",
    "# .index查看行标签\n",
    "# .columns查看列标签\n",
    "# .values查看值，数据类型为ndarray"
   ]
  },
  {
   "cell_type": "code",
   "execution_count": 24,
   "metadata": {},
   "outputs": [
    {
     "name": "stdout",
     "output_type": "stream",
     "text": [
      "{'a': [1, 2, 3], 'b': [3, 4, 5], 'c': [5, 6, 7]}\n",
      "{'one': array([ 0.70824335,  0.84011347,  0.6113807 ]), 'two': array([ 0.70723487,  0.12187474,  0.84577133])}\n",
      "   a  b  c\n",
      "0  1  3  5\n",
      "1  2  4  6\n",
      "2  3  5  7\n",
      "        one       two\n",
      "0  0.708243  0.707235\n",
      "1  0.840113  0.121875\n",
      "2  0.611381  0.845771\n",
      "   b  c  a    d\n",
      "0  3  5  1  NaN\n",
      "1  4  6  2  NaN\n",
      "2  5  7  3  NaN\n",
      "   b  c\n",
      "0  3  5\n",
      "1  4  6\n",
      "2  5  7\n",
      "         one       two\n",
      "f1  0.708243  0.707235\n",
      "f2  0.840113  0.121875\n",
      "f3  0.611381  0.845771\n"
     ]
    }
   ],
   "source": [
    "# Dataframe 创建方法一：由数组/list组成的字典\n",
    "# 创建方法:pandas.Dataframe()\n",
    "\n",
    "data1 = {\"a\": [1,2,3],\n",
    "         \"b\": [3,4,5],\n",
    "         \"c\": [5,6,7]\n",
    "        }\n",
    "data2 = {\"one\": np.random.rand(3),\n",
    "         \"two\": np.random.rand(3) # 这里如果尝试  'two':np.random.rand(4) 会怎么样？\n",
    "        }\n",
    "print(data1)\n",
    "print(data2)\n",
    "\n",
    "df1 = pd.DataFrame(data1)\n",
    "df2 = pd.DataFrame(data2)\n",
    "print(df1)\n",
    "print(df2)\n",
    "# 由数组/list组成的字典 创建Dataframe，columns为字典key，index为默认数字标签\n",
    "# 字典的值的长度必须保持一致！\n",
    "\n",
    "df1 = pd.DataFrame(data1, columns = ['b','c','a','d'])\n",
    "print(df1)\n",
    "df1 = pd.DataFrame(data1, columns = ['b','c'])\n",
    "print(df1)\n",
    "# columns参数：可以重新指定列的顺序，格式为list，如果现有数据中没有该列（比如'd'），则产生NaN值\n",
    "# 如果columns重新指定时候，列的数量可以少于原数据\n",
    "\n",
    "df2 = pd.DataFrame(data2, index = ['f1','f2','f3'])  # 这里如果尝试  index = ['f1','f2','f3','f4'] 会怎么样？\n",
    "print(df2)\n",
    "# index参数：重新定义index，格式为list，长度必须保持一致"
   ]
  },
  {
   "cell_type": "code",
   "execution_count": 27,
   "metadata": {},
   "outputs": [
    {
     "name": "stdout",
     "output_type": "stream",
     "text": [
      "{'one': 0    0.256007\n",
      "1    0.937857\n",
      "dtype: float64, 'two': 0    0.390475\n",
      "1    0.548695\n",
      "2    0.853570\n",
      "dtype: float64}\n",
      "{'one': a    0.111607\n",
      "b    0.344046\n",
      "dtype: float64, 'two': a    0.405647\n",
      "b    0.998031\n",
      "c    0.019877\n",
      "dtype: float64}\n",
      "        one       two\n",
      "0  0.256007  0.390475\n",
      "1  0.937857  0.548695\n",
      "2       NaN  0.853570\n",
      "        one       two\n",
      "a  0.111607  0.405647\n",
      "b  0.344046  0.998031\n",
      "c       NaN  0.019877\n"
     ]
    }
   ],
   "source": [
    "# DataFrame 创建方法二：由Series组成的字典\n",
    "\n",
    "data1 = {\"one\": pd.Series(np.random.rand(2)),\n",
    "         \"two\": pd.Series(np.random.rand(3)) # 没有设置index的Series\n",
    "        }\n",
    "data2 = {\"one\": pd.Series(np.random.rand(2), index = [\"a\", \"b\"]),\n",
    "         \"two\": pd.Series(np.random.rand(3), index = [\"a\", \"b\", \"c\"])  # 设置了index的Series\n",
    "        }\n",
    "print(data1)\n",
    "print(data2)\n",
    "df1 = pd.DataFrame(data1)\n",
    "df2 = pd.DataFrame(data2)\n",
    "print(df1)\n",
    "print(df2)\n",
    "# 由Seris组成的字典 创建Dataframe，columns为字典key，index为Series的标签（如果Series没有指定标签，则是默认数字标签）\n",
    "# Series可以长度不一样，生成的Dataframe会出现NaN值"
   ]
  },
  {
   "cell_type": "code",
   "execution_count": 31,
   "metadata": {},
   "outputs": [
    {
     "name": "stdout",
     "output_type": "stream",
     "text": [
      "[[ 0.04827809  0.18889651  0.64144429]\n",
      " [ 0.98297813  0.96843902  0.19228992]\n",
      " [ 0.70065193  0.83740653  0.28605327]]\n",
      "          0         1         2\n",
      "0  0.048278  0.188897  0.641444\n",
      "1  0.982978  0.968439  0.192290\n",
      "2  0.700652  0.837407  0.286053\n",
      "        one       two     three\n",
      "a  0.048278  0.188897  0.641444\n",
      "b  0.982978  0.968439  0.192290\n",
      "c  0.700652  0.837407  0.286053\n"
     ]
    }
   ],
   "source": [
    "# DataFrame 创建方法三：通过二维数组直接创建\n",
    "\n",
    "ar = np.random.rand(9).reshape(3,3)\n",
    "print(ar)\n",
    "df1 = pd.DataFrame(ar)\n",
    "df2 = pd.DataFrame(ar, index = ['a', 'b', 'c'], columns = ['one','two','three']) # 可以尝试一下index或columns长度不等于已有数组的情况\n",
    "print(df1)\n",
    "print(df2)\n",
    "# 通过二维数组直接创建Dataframe，得到一样形状的结果数据，如果不指定index和columns，两者均返回默认数字格式\n",
    "# index和colunms指定长度与原数组保持一致"
   ]
  },
  {
   "cell_type": "code",
   "execution_count": 33,
   "metadata": {},
   "outputs": [
    {
     "name": "stdout",
     "output_type": "stream",
     "text": [
      "[{'one': 1, 'two': 2}, {'one': 5, 'two': 10, 'three': 20}]\n",
      "   one  three  two\n",
      "0    1    NaN    2\n",
      "1    5   20.0   10\n",
      "   one  three  two\n",
      "a    1    NaN    2\n",
      "b    5   20.0   10\n",
      "   one  two\n",
      "0    1    2\n",
      "1    5   10\n"
     ]
    }
   ],
   "source": [
    "# Dataframe 创建方法四：由字典组成的列表\n",
    "\n",
    "data = [{\"one\": 1, \"two\": 2}, {'one': 5, 'two': 10, 'three': 20}]\n",
    "print(data)\n",
    "df1 = pd.DataFrame(data)\n",
    "df2 = pd.DataFrame(data, index = [\"a\", \"b\"])\n",
    "df3 = pd.DataFrame(data, columns = [\"one\", \"two\"])\n",
    "print(df1)\n",
    "print(df2)\n",
    "print(df3)"
   ]
  },
  {
   "cell_type": "code",
   "execution_count": 35,
   "metadata": {},
   "outputs": [
    {
     "name": "stdout",
     "output_type": "stream",
     "text": [
      "         Jack  Marry   Tom\n",
      "art        78     92   NaN\n",
      "english    89     95  67.0\n",
      "math       90     82  78.0\n",
      "         Jack   Tom  Bob\n",
      "art        78   NaN  NaN\n",
      "english    89  67.0  NaN\n",
      "math       90  78.0  NaN\n",
      "   Jack  Marry  Tom\n",
      "a   NaN    NaN  NaN\n",
      "b   NaN    NaN  NaN\n",
      "c   NaN    NaN  NaN\n"
     ]
    }
   ],
   "source": [
    "# Dataframe 创建方法五：由字典组成的字典\n",
    "\n",
    "data = {'Jack':{'math':90,'english':89,'art':78},\n",
    "       'Marry':{'math':82,'english':95,'art':92},\n",
    "       'Tom':{'math':78,'english':67}}\n",
    "df1 = pd.DataFrame(data)\n",
    "print(df1)\n",
    "# 由字典组成的字典创建Dataframe，columns为字典的key，index为子字典的key\n",
    "\n",
    "df2 = pd.DataFrame(data, columns = ['Jack','Tom','Bob'])\n",
    "df3 = pd.DataFrame(data, index = ['a','b','c'])\n",
    "print(df2)\n",
    "print(df3)\n",
    "# columns参数可以增加和减少现有列，如出现新的列，值为NaN\n",
    "# index在这里和之前不同，并不能改变原有index，如果指向新的标签，值为NaN （非常重要！）"
   ]
  },
  {
   "cell_type": "code",
   "execution_count": null,
   "metadata": {
    "collapsed": true
   },
   "outputs": [],
   "source": [
    "'''\n",
    "【课程2.5】  Pandas数据结构Dataframe：索引\n",
    "\n",
    "Dataframe既有行索引也有列索引，可以被看做由Series组成的字典（共用一个索引）\n",
    "\n",
    "选择列 / 选择行 / 切片 / 布尔判断\n",
    "\n",
    "'''"
   ]
  },
  {
   "cell_type": "code",
   "execution_count": 9,
   "metadata": {},
   "outputs": [
    {
     "name": "stdout",
     "output_type": "stream",
     "text": [
      "[[ 63.50353304   6.22276106  21.06900955  76.67003853]\n",
      " [ 59.16521657   3.98573124  37.33884169  57.30312365]\n",
      " [ 30.90508412  17.15797723  39.66060664  15.32482961]]\n",
      "               a          b          c          d\n",
      "one    63.503533   6.222761  21.069010  76.670039\n",
      "two    59.165217   3.985731  37.338842  57.303124\n",
      "three  30.905084  17.157977  39.660607  15.324830\n",
      "one      63.503533\n",
      "two      59.165217\n",
      "three    30.905084\n",
      "Name: a, dtype: float64 <class 'pandas.core.series.Series'>\n",
      "               a          c\n",
      "one    63.503533  21.069010\n",
      "two    59.165217  37.338842\n",
      "three  30.905084  39.660607 <class 'pandas.core.frame.DataFrame'>\n",
      "-----------\n",
      "a    63.503533\n",
      "b     6.222761\n",
      "c    21.069010\n",
      "d    76.670039\n",
      "Name: one, dtype: float64 <class 'pandas.core.series.Series'>\n",
      "             a         b          c          d\n",
      "one  63.503533  6.222761  21.069010  76.670039\n",
      "two  59.165217  3.985731  37.338842  57.303124 <class 'pandas.core.frame.DataFrame'>\n"
     ]
    }
   ],
   "source": [
    "# 选择行与列\n",
    "ar = np.random.rand(12).reshape(3,4)*100\n",
    "print(ar)\n",
    "df = pd.DataFrame(ar,\n",
    "                 index = [\"one\", \"two\", \"three\"],\n",
    "                  columns = [\"a\", \"b\", \"c\", \"d\"])\n",
    "print(df)\n",
    "\n",
    "data1 = df[\"a\"]\n",
    "data2 = df[[\"a\", \"c\"]]\n",
    "print(data1, type(data1))\n",
    "print(data2, type(data2))\n",
    "print(\"-----------\")\n",
    "# 按照列名选择列，只选择一列输出Series，选择多列输出DataFrame\n",
    "\n",
    "data3 = df.loc[\"one\"]\n",
    "data4 = df.loc[[\"one\", \"two\"]]\n",
    "print(data3, type(data3))\n",
    "print(data4, type(data4))\n",
    "# 按照index选择行，只选择一行输出Series，选择多行输出DataFrame"
   ]
  },
  {
   "cell_type": "code",
   "execution_count": 17,
   "metadata": {},
   "outputs": [
    {
     "name": "stdout",
     "output_type": "stream",
     "text": [
      "               a          b          c          d\n",
      "one    76.026925  89.789335  58.415334   6.344813\n",
      "two    26.291941  33.279379  37.060433   8.470353\n",
      "three  15.717342   7.927987  20.894725  76.144591\n",
      "-----------\n",
      "one      76.026925\n",
      "two      26.291941\n",
      "three    15.717342\n",
      "Name: a, dtype: float64\n",
      "               b          c\n",
      "one    89.789335  58.415334\n",
      "two    33.279379  37.060433\n",
      "three   7.927987  20.894725\n",
      "             a          b          c         d\n",
      "one  76.026925  89.789335  58.415334  6.344813 <class 'pandas.core.frame.DataFrame'>\n"
     ]
    }
   ],
   "source": [
    "# df[] - 选择列\n",
    "# 一般用于选择列，也可以选择行\n",
    "ar = np.random.rand(12).reshape(3,4)*100\n",
    "df = pd.DataFrame(ar, index = [\"one\", \"two\", \"three\"],\n",
    "                 columns = [\"a\", \"b\", \"c\", \"d\"])\n",
    "print(df)\n",
    "print(\"-----------\")\n",
    "\n",
    "data1 = df[\"a\"]\n",
    "data2 = df[[\"b\", \"c\"]] # 尝试输入 data2 = df[[\"b\", \"c\", \"e\"]]\n",
    "print(data1)\n",
    "print(data2)\n",
    "# df[]默认选择列，[]中写列名（所以一般数据colunms都会单独制定，不会用默认数字列名，以免和index冲突）\n",
    "# 单选列为Series，print结果为Series格式\n",
    "# 多选列为Dataframe，print结果为Dataframe格式\n",
    "\n",
    "data3 = df[:1]\n",
    "# data3 = df[0]\n",
    "# data3 = df[\"one\"]\n",
    "print(data3, type(data3))\n",
    "# df[]中为数字时，默认选择行，且只能进行切片的选择，不能单独选择（df[0]）\n",
    "# 输出结果为DataFrame，即便只选择一行\n",
    "# df[]不能通过索引标签名来选择行(df[\"one\"])\n",
    "\n",
    "# 核心笔记：df[col]一般用于选择列，[]中写列名"
   ]
  },
  {
   "cell_type": "code",
   "execution_count": 26,
   "metadata": {},
   "outputs": [
    {
     "name": "stdout",
     "output_type": "stream",
     "text": [
      "               a          b          c          d\n",
      "one    52.465113  86.281971  25.259648  92.348702\n",
      "two    21.347353  56.761597  85.332899   2.086910\n",
      "three  63.373646  70.323855  93.542567  35.891443\n",
      "four   19.261374  90.798023  51.888678  98.924609\n",
      "           a          b          c          d\n",
      "0  19.836684  24.861981  56.724701  34.278317\n",
      "1  54.478773  25.102152  66.756217  37.069234\n",
      "2  94.054666  68.340560   0.140962  81.306833\n",
      "3  75.141880  62.802344  15.074228  19.534709\n",
      "--------------\n",
      "a    52.465113\n",
      "b    86.281971\n",
      "c    25.259648\n",
      "d    92.348702\n",
      "Name: one, dtype: float64\n",
      "a    54.478773\n",
      "b    25.102152\n",
      "c    66.756217\n",
      "d    37.069234\n",
      "Name: 1, dtype: float64\n",
      "单标签索引\n",
      "-----\n",
      "               a          b          c          d\n",
      "two    21.347353  56.761597  85.332899   2.086910\n",
      "three  63.373646  70.323855  93.542567  35.891443\n",
      "five         NaN        NaN        NaN        NaN\n",
      "           a          b          c          d\n",
      "3  75.141880  62.802344  15.074228  19.534709\n",
      "2  94.054666  68.340560   0.140962  81.306833\n",
      "1  54.478773  25.102152  66.756217  37.069234\n",
      "多标签索引\n",
      "-----\n",
      "               a          b          c          d\n",
      "one    52.465113  86.281971  25.259648  92.348702\n",
      "two    21.347353  56.761597  85.332899   2.086910\n",
      "three  63.373646  70.323855  93.542567  35.891443\n",
      "           a          b          c          d\n",
      "1  54.478773  25.102152  66.756217  37.069234\n",
      "2  94.054666  68.340560   0.140962  81.306833\n",
      "3  75.141880  62.802344  15.074228  19.534709\n",
      "切片索引\n"
     ]
    }
   ],
   "source": [
    "# df.loc[] - 按index选择行\n",
    "\n",
    "df1 = pd.DataFrame(np.random.rand(16).reshape(4,4)*100,\n",
    "                   index = ['one','two','three','four'],\n",
    "                   columns = ['a','b','c','d'])\n",
    "df2 = pd.DataFrame(np.random.rand(16).reshape(4,4)*100,\n",
    "                   columns = ['a','b','c','d'])\n",
    "print(df1)\n",
    "print(df2)\n",
    "print(\"--------------\")\n",
    "\n",
    "data1 = df1.loc[\"one\"]\n",
    "data2 = df2.loc[1]\n",
    "print(data1)\n",
    "print(data2)\n",
    "print('单标签索引\\n-----')\n",
    "# 单个标签索引，返回Series\n",
    "\n",
    "data3 = df1.loc[[\"two\", \"three\", \"five\"]]\n",
    "data4 = df2.loc[[3,2,1]]\n",
    "print(data3)\n",
    "print(data4)\n",
    "print('多标签索引\\n-----')\n",
    "# 多个标签索引，如果标签不存在，则返回NaN\n",
    "# 顺序可变\n",
    "\n",
    "data5 = df1.loc[\"one\":\"three\"]\n",
    "data6 = df2.loc[1:3]\n",
    "print(data5)\n",
    "print(data6)\n",
    "print(\"切片索引\")\n",
    "# 可以做切片对象\n",
    "# 末端 包含\n",
    "\n",
    "# 核心笔记：df.loc[label]主要针对index选择行，同时支持指定index，及默认数字index"
   ]
  },
  {
   "cell_type": "code",
   "execution_count": 38,
   "metadata": {},
   "outputs": [
    {
     "name": "stdout",
     "output_type": "stream",
     "text": [
      "               a          b          c          d\n",
      "one    99.100526  64.968520   6.794771  10.798195\n",
      "two    46.475771  29.261976   6.635119  79.770463\n",
      "three  94.393053  64.560589  46.401562  75.801925\n",
      "four   17.245993   1.866107  14.171236  64.873416\n",
      "----------\n",
      "a    99.100526\n",
      "b    64.968520\n",
      "c     6.794771\n",
      "d    10.798195\n",
      "Name: one, dtype: float64\n",
      "a    17.245993\n",
      "b     1.866107\n",
      "c    14.171236\n",
      "d    64.873416\n",
      "Name: four, dtype: float64\n",
      "单位置索引\n",
      "-----\n",
      "               a          b          c          d\n",
      "one    99.100526  64.968520   6.794771  10.798195\n",
      "three  94.393053  64.560589  46.401562  75.801925\n",
      "               a          b          c          d\n",
      "four   17.245993   1.866107  14.171236  64.873416\n",
      "three  94.393053  64.560589  46.401562  75.801925\n",
      "two    46.475771  29.261976   6.635119  79.770463\n",
      "多位置索引\n",
      "-----\n",
      "               a          b          c          d\n",
      "two    46.475771  29.261976   6.635119  79.770463\n",
      "three  94.393053  64.560589  46.401562  75.801925\n",
      "               a          b          c          d\n",
      "one    99.100526  64.968520   6.794771  10.798195\n",
      "three  94.393053  64.560589  46.401562  75.801925\n",
      "切片索引\n"
     ]
    }
   ],
   "source": [
    "# df.iloc[] - 按照整数位置（从轴的0到length-1）选择行\n",
    "# 类似list的索引，其顺序就是dataFrame的整数位置，从0开始计\n",
    "\n",
    "df = pd.DataFrame(np.random.rand(16).reshape(4,4)*100,\n",
    "                   index = ['one','two','three','four'],\n",
    "                   columns = ['a','b','c','d'])\n",
    "print(df)\n",
    "print(\"----------\")\n",
    "\n",
    "\n",
    "print(df.iloc[0])\n",
    "print(df.iloc[-1])\n",
    "# print(df.iloc[4])\n",
    "print('单位置索引\\n-----')\n",
    "# 单位置索引\n",
    "# 和loc索引不同，不能索引超出数据行数的整数位置\n",
    "\n",
    "print(df.iloc[[0,2]])\n",
    "print(df.iloc[[3,2,1]])\n",
    "print('多位置索引\\n-----')\n",
    "# 多位置索引\n",
    "# 顺序可变\n",
    "\n",
    "print(df.iloc[1:3])\n",
    "print(df.iloc[::2])\n",
    "print(\"切片索引\")\n",
    "# 切片索引\n",
    "# 末端不包含"
   ]
  },
  {
   "cell_type": "code",
   "execution_count": 52,
   "metadata": {},
   "outputs": [
    {
     "name": "stdout",
     "output_type": "stream",
     "text": [
      "               a          b          c          d\n",
      "one    91.733340  54.040234  24.693274  28.233348\n",
      "two    89.955183  54.343341  77.085158  63.693347\n",
      "three  99.512167  85.536543  70.578933  32.771113\n",
      "four   30.256432  50.062694  18.444229  29.335684\n",
      "------\n",
      "           a      b      c      d\n",
      "one    False  False  False  False\n",
      "two    False  False  False  False\n",
      "three  False  False  False  False\n",
      "four   False  False   True  False <class 'pandas.core.frame.DataFrame'>\n",
      "        a   b          c   d\n",
      "one   NaN NaN        NaN NaN\n",
      "two   NaN NaN        NaN NaN\n",
      "three NaN NaN        NaN NaN\n",
      "four  NaN NaN  18.444229 NaN\n",
      "----------\n",
      "one       True\n",
      "two       True\n",
      "three     True\n",
      "four     False\n",
      "Name: a, dtype: bool <class 'pandas.core.series.Series'>\n",
      "               a          b          c          d\n",
      "one    91.733340  54.040234  24.693274  28.233348\n",
      "two    89.955183  54.343341  77.085158  63.693347\n",
      "three  99.512167  85.536543  70.578933  32.771113\n",
      "------\n",
      "           a     b\n",
      "one     True  True\n",
      "two     True  True\n",
      "three   True  True\n",
      "four   False  True <class 'pandas.core.frame.DataFrame'>\n",
      "------\n",
      "           a      b      c     d\n",
      "one    False  False   True  True\n",
      "three  False  False  False  True <class 'pandas.core.frame.DataFrame'>\n",
      "        a   b          c          d\n",
      "one   NaN NaN  24.693274  28.233348\n",
      "two   NaN NaN        NaN        NaN\n",
      "three NaN NaN        NaN  32.771113\n",
      "four  NaN NaN        NaN        NaN\n",
      "----------\n"
     ]
    }
   ],
   "source": [
    "# 布尔型索引\n",
    "# 和Series原理相同\n",
    "\n",
    "df = pd.DataFrame(np.random.rand(16).reshape(4,4)*100,\n",
    "                   index = ['one','two','three','four'],\n",
    "                   columns = ['a','b','c','d'])\n",
    "print(df)\n",
    "print('------')\n",
    "\n",
    "b1 = df < 20\n",
    "print(b1, type(b1))\n",
    "print(df[b1]) # 也可以书写为 df[df < 20]\n",
    "print(\"----------\")\n",
    "# 不做索引则会对数据每个值进行判断\n",
    "# 索引结果保留 所有数据：True返回原数据，False返回值为NaN\n",
    "\n",
    "b2 = df[\"a\"] > 50\n",
    "print(b2, type(b2))\n",
    "print(df[b2])  # 也可以书写为 df[df['a'] > 50]\n",
    "print('------')\n",
    "# 单列做判断\n",
    "# 索引结果保留 单列判断为True的行数据，包括其他列\n",
    "\n",
    "b3 = df[[\"a\", \"b\"]] > 50\n",
    "print(b3, type(b3))\n",
    "# print(df[b3]) # 也可以书写为 df[df[['a','b']] > 50]\n",
    "print('------')\n",
    "# 多列做判断\n",
    "# 索引结果保留 所有数据：True返回原数据，False返回值为NaN\n",
    "\n",
    "b4 = df.loc[[\"one\", \"three\"]] < 50\n",
    "print(b4, type(b4))\n",
    "print(df[b4]) # 也可以书写为 df[df.loc[['one','three']] < 50]\n",
    "print(\"----------\")\n",
    "# 多行做判断\n",
    "# 索引结果保留 所有数据：True返回原数据，False返回值为NaN"
   ]
  },
  {
   "cell_type": "code",
   "execution_count": 55,
   "metadata": {},
   "outputs": [
    {
     "name": "stdout",
     "output_type": "stream",
     "text": [
      "               a          b          c          d\n",
      "one    41.424261  93.858188  31.989822  29.382966\n",
      "two    89.571862  25.789673  99.381680  67.309498\n",
      "three  60.077175  46.625050  47.212075   6.884013\n",
      "four   60.397913  91.795944  81.855745  31.558650\n",
      "------\n",
      "one      41.424261\n",
      "three    60.077175\n",
      "Name: a, dtype: float64\n",
      "               b          c          d\n",
      "one    93.858188  31.989822  29.382966\n",
      "three  46.625050  47.212075   6.884013\n",
      "             a          b          c          d\n",
      "one  41.424261  93.858188  31.989822  29.382966\n"
     ]
    }
   ],
   "source": [
    "# 多重索引：比如同时索引行和列\n",
    "# 先选择列再选择行   --- 相当于对于一个数据，先筛选字段，再选择数据量\n",
    "\n",
    "df = pd.DataFrame(np.random.rand(16).reshape(4,4)*100,\n",
    "                   index = ['one','two','three','four'],\n",
    "                   columns = ['a','b','c','d'])\n",
    "print(df)\n",
    "print('------')\n",
    "\n",
    "print(df[\"a\"].loc[[\"one\", \"three\"]]) # 选择a列的one，three行\n",
    "print(df[[\"b\", \"c\", \"d\"]].iloc[::2]) # 选择b，c，d列的one，three行\n",
    "print(df[df[\"a\"] < 50].iloc[:2]) # 选择满足判断索引的前两行数据"
   ]
  },
  {
   "cell_type": "code",
   "execution_count": null,
   "metadata": {
    "collapsed": true
   },
   "outputs": [],
   "source": [
    "'''\n",
    "【课程2.6】  Pandas数据结构Dataframe：基本技巧\n",
    "\n",
    "数据查看、转置 / 添加、修改、删除值 / 对齐 / 排序\n",
    "\n",
    "'''"
   ]
  },
  {
   "cell_type": "code",
   "execution_count": 18,
   "metadata": {},
   "outputs": [
    {
     "name": "stdout",
     "output_type": "stream",
     "text": [
      "           a          b\n",
      "0  62.377504  87.628347\n",
      "1  13.885229  92.266579\n",
      "           a          b\n",
      "3  22.225305  17.702451\n",
      "4  76.957918  17.976424\n",
      "5  23.932890   2.302789\n",
      "6  24.099962   8.003267\n",
      "7  66.616008  15.914400\n",
      "           0          1          2          3          4          5  \\\n",
      "a  62.377504  13.885229  80.096808  22.225305  76.957918  23.932890   \n",
      "b  87.628347  92.266579  60.449833  17.702451  17.976424   2.302789   \n",
      "\n",
      "           6          7  \n",
      "a  24.099962  66.616008  \n",
      "b   8.003267  15.914400  \n"
     ]
    }
   ],
   "source": [
    "# 数据查看、转置\n",
    "\n",
    "df = pd.DataFrame(np.random.rand(16).reshape(8,2)*100, columns = [\"a\", \"b\"])\n",
    "print(df.head(2))\n",
    "print(df.tail())\n",
    "# .head()查看头部数据\n",
    "# .tail()查看尾部数据\n",
    "# 默认查看5条\n",
    "\n",
    "print(df.T)\n",
    "# .T 转置"
   ]
  },
  {
   "cell_type": "code",
   "execution_count": 23,
   "metadata": {},
   "outputs": [
    {
     "name": "stdout",
     "output_type": "stream",
     "text": [
      "           a          b          c          d\n",
      "0  24.191786  45.934138  27.511341  79.855902\n",
      "1  19.127799  85.099684  22.420304  56.233190\n",
      "2  12.294581  25.676586  58.626029  63.315542\n",
      "3  15.635006  46.212661  53.963457  51.675384\n",
      "           a          b          c          d   e\n",
      "0  24.191786  45.934138  27.511341  79.855902  10\n",
      "1  19.127799  85.099684  22.420304  56.233190  10\n",
      "2  12.294581  25.676586  58.626029  63.315542  10\n",
      "3  15.635006  46.212661  53.963457  51.675384  10\n",
      "4  20.000000  20.000000  20.000000  20.000000  20\n",
      "     a          b    c          d   e\n",
      "0  100  45.934138  100  79.855902  20\n",
      "1  100  85.099684  100  56.233190  20\n",
      "2  100  25.676586  100  63.315542  20\n",
      "3  100  46.212661  100  51.675384  20\n",
      "4  100  20.000000  100  20.000000  20\n"
     ]
    }
   ],
   "source": [
    "# 添加与修改\n",
    "\n",
    "df = pd.DataFrame(np.random.rand(16).reshape(4,4)*100,\n",
    "                 columns = [\"a\", \"b\", \"c\", \"d\"])\n",
    "print(df)\n",
    "\n",
    "df[\"e\"] = 10\n",
    "df.loc[4] = 20\n",
    "print(df)\n",
    "# 新增列/行并赋值\n",
    "\n",
    "df[\"e\"] = 20\n",
    "df[[\"a\", \"c\"]] = 100\n",
    "print(df)\n",
    "# 索引后直接修改值"
   ]
  },
  {
   "cell_type": "code",
   "execution_count": 31,
   "metadata": {},
   "outputs": [
    {
     "name": "stdout",
     "output_type": "stream",
     "text": [
      "           a          b          c          d\n",
      "0  90.548792  13.242182   9.802476  62.061006\n",
      "1  72.655275  27.851798   1.766409   1.909322\n",
      "2  48.049667  45.855896  35.341821  67.567391\n",
      "3  17.131746  11.352275  19.333377  63.982112\n",
      "           b          c          d\n",
      "0  13.242182   9.802476  62.061006\n",
      "1  27.851798   1.766409   1.909322\n",
      "2  45.855896  35.341821  67.567391\n",
      "3  11.352275  19.333377  63.982112\n",
      "---------\n",
      "           b          c          d\n",
      "1  27.851798   1.766409   1.909322\n",
      "2  45.855896  35.341821  67.567391\n",
      "3  11.352275  19.333377  63.982112\n",
      "           b          c          d\n",
      "0  13.242182   9.802476  62.061006\n",
      "3  11.352275  19.333377  63.982112\n",
      "           b          c          d\n",
      "0  13.242182   9.802476  62.061006\n",
      "1  27.851798   1.766409   1.909322\n",
      "2  45.855896  35.341821  67.567391\n",
      "3  11.352275  19.333377  63.982112\n",
      "           b          c\n",
      "0  13.242182   9.802476\n",
      "1  27.851798   1.766409\n",
      "2  45.855896  35.341821\n",
      "3  11.352275  19.333377\n"
     ]
    }
   ],
   "source": [
    "# 删除 del / drop()\n",
    "\n",
    "df = pd.DataFrame(np.random.rand(16).reshape(4,4)*100,\n",
    "                 columns = [\"a\", \"b\", \"c\", \"d\"])\n",
    "print(df)\n",
    "\n",
    "del df[\"a\"]\n",
    "print(df)\n",
    "print(\"---------\")\n",
    "# del语句 - 删除列\n",
    "\n",
    "print(df.drop(0))\n",
    "print(df.drop([1,2]))\n",
    "print(df)\n",
    "# drop()删除行，inplace=False -> 删除后生成新的数据，不改变原数据\n",
    "\n",
    "print(df.drop([\"d\"], axis = 1))\n",
    "print(df)\n",
    "# drop()删除列，需要加上axis = 1, inplace = False -> 删除后生成新的数据，不改变原数据"
   ]
  },
  {
   "cell_type": "code",
   "execution_count": 34,
   "metadata": {},
   "outputs": [
    {
     "name": "stdout",
     "output_type": "stream",
     "text": [
      "          A         B         C   D\n",
      "0  3.915541 -1.262086  0.320513 NaN\n",
      "1  0.890254 -1.271860  0.473582 NaN\n",
      "2 -0.693966  0.696811  0.310805 NaN\n",
      "3  0.132194 -1.473019 -0.676593 NaN\n",
      "4  0.735912  2.224669 -1.434812 NaN\n",
      "5  1.373465 -1.727878  1.267626 NaN\n",
      "6  0.769009 -1.848404  0.725308 NaN\n",
      "7       NaN       NaN       NaN NaN\n",
      "8       NaN       NaN       NaN NaN\n",
      "9       NaN       NaN       NaN NaN\n"
     ]
    }
   ],
   "source": [
    "# 对齐\n",
    "\n",
    "df1 = pd.DataFrame(np.random.randn(10,4), columns=['A', 'B', 'C', 'D'])\n",
    "df2 = pd.DataFrame(np.random.randn(7,3), columns=['A', 'B', 'C'])\n",
    "print(df1 + df2)\n",
    "# DataFrame对象之间的数据自动按照列和索引（行标签）对齐"
   ]
  },
  {
   "cell_type": "code",
   "execution_count": 43,
   "metadata": {},
   "outputs": [
    {
     "name": "stdout",
     "output_type": "stream",
     "text": [
      "           a          b          c          d\n",
      "0  73.584927  63.387526   3.903934  81.727852\n",
      "1  38.454921  82.588278  92.843261  82.433146\n",
      "2  36.123836  63.555703  69.534022  27.465734\n",
      "3  52.886570  12.261071  94.666279  94.465140\n",
      "           a          b          c          d\n",
      "2  36.123836  63.555703  69.534022  27.465734\n",
      "1  38.454921  82.588278  92.843261  82.433146\n",
      "3  52.886570  12.261071  94.666279  94.465140\n",
      "0  73.584927  63.387526   3.903934  81.727852\n",
      "           a          b          c          d\n",
      "0  73.584927  63.387526   3.903934  81.727852\n",
      "3  52.886570  12.261071  94.666279  94.465140\n",
      "1  38.454921  82.588278  92.843261  82.433146\n",
      "2  36.123836  63.555703  69.534022  27.465734\n",
      "-------------\n",
      "   a  b  c\n",
      "0  1  0  8\n",
      "1  1  1  7\n",
      "2  1  2  6\n",
      "3  1  3  5\n",
      "4  2  4  4\n",
      "5  2  5  3\n",
      "6  2  6  2\n",
      "7  2  7  1\n",
      "   a  b  c\n",
      "3  1  3  5\n",
      "2  1  2  6\n",
      "1  1  1  7\n",
      "0  1  0  8\n",
      "7  2  7  1\n",
      "6  2  6  2\n",
      "5  2  5  3\n",
      "4  2  4  4\n"
     ]
    }
   ],
   "source": [
    "# 排序1 - 按值排序 .sort_values\n",
    "# 同样适用于Series\n",
    "\n",
    "df1 = pd.DataFrame(np.random.rand(16).reshape(4,4)*100,\n",
    "                  columns = [\"a\", \"b\", \"c\", \"d\"])\n",
    "print(df1)\n",
    "print(df1.sort_values([\"a\"], ascending = True)) # 升序\n",
    "print(df1.sort_values([\"a\"], ascending = False)) # 升序\n",
    "print(\"-------------\")\n",
    "# ascending参数：设置升序降序，默认升序\n",
    "# 单列排序\n",
    "\n",
    "df2 = pd.DataFrame({\"a\": [1,1,1,1,2,2,2,2],\n",
    "                   \"b\": list(range(8)),\n",
    "                   \"c\": list(range(8,0,-1))})\n",
    "print(df2)\n",
    "print(df2.sort_values([\"a\", \"c\"]))\n",
    "# 多列排序，按列顺序排序"
   ]
  },
  {
   "cell_type": "code",
   "execution_count": 49,
   "metadata": {},
   "outputs": [
    {
     "name": "stdout",
     "output_type": "stream",
     "text": [
      "           a          b          c          d\n",
      "5  27.721853   0.055001  78.427025  49.416884\n",
      "4  83.323310  25.209890   3.939345   0.169508\n",
      "3  90.523563  63.864451  85.613526  23.736381\n",
      "2  54.921548  69.258255  15.049575  69.261724\n",
      "           a          b          c          d\n",
      "2  54.921548  69.258255  15.049575  69.261724\n",
      "3  90.523563  63.864451  85.613526  23.736381\n",
      "4  83.323310  25.209890   3.939345   0.169508\n",
      "5  27.721853   0.055001  78.427025  49.416884\n",
      "           a          b          c          d\n",
      "h  51.854743   3.744013  18.194838  57.188342\n",
      "s  81.262353   8.064182  34.565437  81.076064\n",
      "x  63.246686  97.024770   7.310008  43.585541\n",
      "g  93.173418  96.763088  84.332792  17.839052\n",
      "           a          b          c          d\n",
      "g  93.173418  96.763088  84.332792  17.839052\n",
      "h  51.854743   3.744013  18.194838  57.188342\n",
      "s  81.262353   8.064182  34.565437  81.076064\n",
      "x  63.246686  97.024770   7.310008  43.585541\n"
     ]
    }
   ],
   "source": [
    "# 排序2 - 索引排序 .sort_index\n",
    "\n",
    "df1 = pd.DataFrame(np.random.rand(16).reshape(4,4)*100,\n",
    "                  index = [5, 4, 3, 2],\n",
    "                  columns = [\"a\", \"b\", \"c\", \"d\"])\n",
    "df2 = pd.DataFrame(np.random.rand(16).reshape(4,4)*100,\n",
    "                  index = [\"h\", \"s\", \"x\", \"g\"],\n",
    "                  columns = [\"a\", \"b\", \"c\", \"d\"])\n",
    "print(df1)\n",
    "print(df1.sort_index())\n",
    "print(df2)\n",
    "print(df2.sort_index())\n",
    "# 按照index排序\n",
    "# 默认 ascending=True, inplace=False"
   ]
  },
  {
   "cell_type": "code",
   "execution_count": null,
   "metadata": {
    "collapsed": true
   },
   "outputs": [],
   "source": []
  },
  {
   "cell_type": "code",
   "execution_count": null,
   "metadata": {
    "collapsed": true
   },
   "outputs": [],
   "source": []
  },
  {
   "cell_type": "code",
   "execution_count": null,
   "metadata": {
    "collapsed": true
   },
   "outputs": [],
   "source": []
  },
  {
   "cell_type": "code",
   "execution_count": null,
   "metadata": {
    "collapsed": true
   },
   "outputs": [],
   "source": []
  },
  {
   "cell_type": "code",
   "execution_count": null,
   "metadata": {
    "collapsed": true
   },
   "outputs": [],
   "source": []
  },
  {
   "cell_type": "code",
   "execution_count": null,
   "metadata": {
    "collapsed": true
   },
   "outputs": [],
   "source": []
  },
  {
   "cell_type": "code",
   "execution_count": null,
   "metadata": {
    "collapsed": true
   },
   "outputs": [],
   "source": []
  },
  {
   "cell_type": "code",
   "execution_count": null,
   "metadata": {
    "collapsed": true
   },
   "outputs": [],
   "source": []
  },
  {
   "cell_type": "code",
   "execution_count": null,
   "metadata": {
    "collapsed": true
   },
   "outputs": [],
   "source": []
  },
  {
   "cell_type": "code",
   "execution_count": null,
   "metadata": {
    "collapsed": true
   },
   "outputs": [],
   "source": []
  }
 ],
 "metadata": {
  "kernelspec": {
   "display_name": "Python 3",
   "language": "python",
   "name": "python3"
  },
  "language_info": {
   "codemirror_mode": {
    "name": "ipython",
    "version": 3
   },
   "file_extension": ".py",
   "mimetype": "text/x-python",
   "name": "python",
   "nbconvert_exporter": "python",
   "pygments_lexer": "ipython3",
   "version": "3.6.3"
  }
 },
 "nbformat": 4,
 "nbformat_minor": 2
}
