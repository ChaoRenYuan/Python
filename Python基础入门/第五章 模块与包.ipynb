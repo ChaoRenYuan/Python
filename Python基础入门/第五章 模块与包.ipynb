{
 "cells": [
  {
   "cell_type": "code",
   "execution_count": null,
   "metadata": {
    "collapsed": true
   },
   "outputs": [],
   "source": [
    "'''\n",
    "【课程5.1】  模块创建及import指令运用\n",
    "\n",
    "Python 模块(Module)，是一个 Python 文件，以 .py 结尾，包含了 Python 对象定义和Python语句\n",
    "\n",
    "'''"
   ]
  },
  {
   "cell_type": "code",
   "execution_count": 4,
   "metadata": {},
   "outputs": [],
   "source": [
    "# 模块路径问题\n",
    "\n",
    "import sys\n",
    "sys.path.append(\"/Users/zorn/Desktop/\")\n",
    "# 加载sys包，把新建的model1所在路径添加上"
   ]
  },
  {
   "cell_type": "code",
   "execution_count": null,
   "metadata": {
    "collapsed": true
   },
   "outputs": [],
   "source": [
    "# 在桌面用文本编辑或者sublime text新建一个model1.py文件，复制黏贴这一块的代码\n",
    "# 创建一个模块，包含一个阶乘函数f1(n)、一个列表删值函数f2(lst,x),一个等差数列求和函数f3(a,d,n)\n",
    "\n",
    "def f1(n):\n",
    "    y = 1\n",
    "    for i in range(1,n+1):\n",
    "        y = y * i\n",
    "    return y\n",
    "# 创建阶乘函数f1(n)\n",
    "\n",
    "def f2(lst,x):\n",
    "    while x in lst:\n",
    "        lst.remove(x)\n",
    "    return lst\n",
    "# 创建列表删值函数f2(lst,x)\n",
    "\n",
    "def f3(a,d,n):\n",
    "    an = a\n",
    "    s = 0\n",
    "    for i in range(n-1):\n",
    "        an = an + d\n",
    "        s = s + an\n",
    "    return s\n",
    "# 创建等差数列求和函数f3(a,d,n)\n",
    "# 创建模块testmodel2，包括三个函数"
   ]
  },
  {
   "cell_type": "code",
   "execution_count": 8,
   "metadata": {},
   "outputs": [
    {
     "name": "stdout",
     "output_type": "stream",
     "text": [
      "120\n",
      "[2, 3, 5, 5, 5, 6, 6]\n",
      "180\n"
     ]
    }
   ],
   "source": [
    "# 调用模块语句：import\n",
    "\n",
    "import model1\n",
    "\n",
    "print(model1.f1(5))\n",
    "print(model1.f2([2,3,4,5,5,5,6,6,4,4,4,4],4)) \n",
    "# 打开model1.py文件知道这个函数，表达输入一个序列和要删除的值，然后返回列表剩下的\n",
    "print(model1.f3(10,2,10)) \n",
    "\n",
    "\n",
    "        "
   ]
  },
  {
   "cell_type": "code",
   "execution_count": 76,
   "metadata": {},
   "outputs": [
    {
     "name": "stdout",
     "output_type": "stream",
     "text": [
      "120\n"
     ]
    }
   ],
   "source": [
    "# 简化模块名：import...as...\n",
    "\n",
    "import model1 as m1\n",
    "print(m1.f1(5))"
   ]
  },
  {
   "cell_type": "code",
   "execution_count": 10,
   "metadata": {},
   "outputs": [
    {
     "name": "stdout",
     "output_type": "stream",
     "text": [
      "[2, 3, 5, 5, 5, 6, 6]\n"
     ]
    }
   ],
   "source": [
    "# 调用部分模块语句：From...import 语句\n",
    "\n",
    "from model1 import f2\n",
    "\n",
    "print(f2([2,3,4,5,5,5,6,6,4,4,4,4],4))\n",
    "print(f3(10,3,10))\n",
    "# 单独导入模块的部分功能，但无法使用其他未导入模块功能"
   ]
  },
  {
   "cell_type": "code",
   "execution_count": 82,
   "metadata": {},
   "outputs": [
    {
     "name": "stdout",
     "output_type": "stream",
     "text": [
      "0.19186336036811158 0.6277547031223782\n",
      "1\n",
      "14 b\n",
      "[14, 4, 19, 15, 7]\n",
      "[13, 7, 9, 5, 3, 11, 1]\n"
     ]
    }
   ],
   "source": [
    "# python标准模块 -- random随机数\n",
    "\n",
    "import random\n",
    "\n",
    "x = random.random() \n",
    "y = random.random() \n",
    "print(x, y)\n",
    "# random.random()随机生成一个0~1的随机数,左闭右开 [0,1)\n",
    "\n",
    "m = random.randint(0, 10)\n",
    "print(m)\n",
    "# random.randint()随机生成一个[0,10]的整数,即0～10的随机数，都为闭区间，以下不再累赘\n",
    "\n",
    "st1 = random.choice(list(range(19)))\n",
    "st2 = random.choice(\"abcdefghijk\")\n",
    "print(st1, st2)\n",
    "# random.choice()随机获取()中的一个元素，()种必须是一个有序类型\n",
    "\n",
    "lst = list(range(20))\n",
    "sli = random.sample(lst, 5)\n",
    "print(sli)\n",
    "# random.sample(a, b)随机获取a中指定b长度的片段，不会改变原序列\n",
    "\n",
    "lst = [1, 3, 5, 7, 9, 11, 13]\n",
    "random.shuffle(lst)\n",
    "print(lst)\n",
    "# random.shuffle(list)将一个列表内的元素打乱"
   ]
  },
  {
   "cell_type": "code",
   "execution_count": 91,
   "metadata": {},
   "outputs": [
    {
     "name": "stdout",
     "output_type": "stream",
     "text": [
      "hello\n",
      "hello\n",
      "Wed Feb 14 17:12:57 2018\n",
      "<class 'time.struct_time'>\n",
      "2018-12-14 17:12:57\n"
     ]
    }
   ],
   "source": [
    "# python标准模块 —— time时间模块\n",
    "\n",
    "import time\n",
    "\n",
    "for i in range(2):\n",
    "    print(\"hello\")\n",
    "    time.sleep(0.1)\n",
    "# time.sleep()程序休息()秒\n",
    "\n",
    "print(time.ctime())\n",
    "print(type(time.localtime()))\n",
    "# 将当前时间转为当前时区的struct_time\n",
    "# wday 0-6表示周日到周六\n",
    "# ydat 1-366 一年中的第几天\n",
    "# isdst 是否为夏令时，默认为-1\n",
    "\n",
    "print(time.strftime(\"%Y-%M-%d %H:%M:%S\",time.localtime()))\n",
    "# time.strftime(a,b)\n",
    "# a为格式化字符串格式\n",
    "# b为时间戳，一般用localtime()"
   ]
  },
  {
   "cell_type": "code",
   "execution_count": null,
   "metadata": {
    "collapsed": true
   },
   "outputs": [],
   "source": [
    "%y 两位数的年份表示（00-99）\n",
    "%Y 四位数的年份表示（000-9999）\n",
    "%m 月份（01-12）\n",
    "%d 月内中的一天（0-31）\n",
    "%H 24小时制小时数（0-23）\n",
    "%I 12小时制小时数（01-12）\n",
    "%M 分钟数（00=59）\n",
    "%S 秒（00-59）\n",
    "%a 本地简化星期名称\n",
    "%A 本地完整星期名称\n",
    "%b 本地简化的月份名称\n",
    "%B 本地完整的月份名称\n",
    "%c 本地相应的日期表示和时间表示\n",
    "%j 年内的一天（001-366）\n",
    "%p 本地A.M.或P.M.的等价符\n",
    "%U 一年中的星期数（00-53）星期天为星期的开始\n",
    "%w 星期（0-6），星期天为星期的开始\n",
    "%W 一年中的星期数（00-53）星期一为星期的开始\n",
    "%x 本地相应的日期表示\n",
    "%X 本地相应的时间表示\n",
    "%Z 当前时区的名称\n",
    "%% %号本身"
   ]
  }
 ],
 "metadata": {
  "kernelspec": {
   "display_name": "Python 3",
   "language": "python",
   "name": "python3"
  },
  "language_info": {
   "codemirror_mode": {
    "name": "ipython",
    "version": 3
   },
   "file_extension": ".py",
   "mimetype": "text/x-python",
   "name": "python",
   "nbconvert_exporter": "python",
   "pygments_lexer": "ipython3",
   "version": "3.6.3"
  }
 },
 "nbformat": 4,
 "nbformat_minor": 2
}
