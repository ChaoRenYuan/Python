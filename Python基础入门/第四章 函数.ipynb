{
 "cells": [
  {
   "cell_type": "code",
   "execution_count": null,
   "metadata": {
    "collapsed": true
   },
   "outputs": [],
   "source": [
    "'''\n",
    "【课程4.1】  自定义函数\n",
    "\n",
    "如何创建函数？def语句\n",
    "\n",
    "'''"
   ]
  },
  {
   "cell_type": "code",
   "execution_count": 2,
   "metadata": {},
   "outputs": [
    {
     "name": "stdout",
     "output_type": "stream",
     "text": [
      "输入值大于等于5\n"
     ]
    }
   ],
   "source": [
    "# 定义函数\n",
    "\n",
    "def f(x):\n",
    "    if x < 5:\n",
    "        print(\"输入值小于5\")\n",
    "    else:\n",
    "        print(\"输入值大于等于5\") # 定义函数，其中x是参数（局部变量）\n",
    "f(10) # 运行函数"
   ]
  },
  {
   "cell_type": "code",
   "execution_count": 7,
   "metadata": {},
   "outputs": [
    {
     "name": "stdout",
     "output_type": "stream",
     "text": [
      "None 8\n"
     ]
    }
   ],
   "source": [
    "# 关于return\n",
    "\n",
    "def f1(x):\n",
    "    y = 2**x # 2的x次方，这里没有return\n",
    "    \n",
    "def f2(x):\n",
    "    y = 2**x\n",
    "    return y # 含有return\n",
    "\n",
    "print(f1(2), f2(3))\n",
    "# return语句退出函数，并返回一个表达式。不带return语句默认返回None"
   ]
  },
  {
   "cell_type": "code",
   "execution_count": 12,
   "metadata": {},
   "outputs": [
    {
     "name": "stdout",
     "output_type": "stream",
     "text": [
      "100\n",
      "1000\n"
     ]
    }
   ],
   "source": [
    "# 默认参数\n",
    "\n",
    "def f(x, n = 2):\n",
    "    return(x**n)\n",
    "print(f(10))\n",
    "print(f(10, 3))\n",
    "# n = 2,这里n的默认值为2，如果不输入则以默认值为主"
   ]
  },
  {
   "cell_type": "code",
   "execution_count": 4,
   "metadata": {},
   "outputs": [
    {
     "name": "stdout",
     "output_type": "stream",
     "text": [
      "(1,)\n",
      "('a', 'b')\n",
      "(1, 2, 3, [44, 33])\n",
      "('a', 'b')\n",
      "<class 'tuple'>\n"
     ]
    }
   ],
   "source": [
    "# 可变参数\n",
    "\n",
    "def f(*x):\n",
    "    print(x)\n",
    "    return x\n",
    "f(1)\n",
    "f('a', 'b')\n",
    "f(1, 2, 3, [44,33])\n",
    "print(type(f(\"a\", \"b\")))\n",
    "# 通过*来定义可变参数\n",
    "# 默认会把可变参数传入一个元祖！"
   ]
  },
  {
   "cell_type": "code",
   "execution_count": null,
   "metadata": {
    "collapsed": true
   },
   "outputs": [],
   "source": [
    "'''\n",
    "小作业（一）\n",
    "① 函数f（x），输入一个字符串，分别print出每个字母\n",
    "② f(x,y,z),函数内部算法：生成 ((x+y)(x-y))*z\n",
    "③ 编写一个求平均值的函数 f(*m)\n",
    "④ 定义一个函数，用于求矩形面积、圆形面积\n",
    "⑤ 定义一个函数，函数的作用是把输入的列表变成一连串字典的key，并生成字典，需要用input输入\n",
    "'''"
   ]
  },
  {
   "cell_type": "code",
   "execution_count": 5,
   "metadata": {},
   "outputs": [
    {
     "name": "stdout",
     "output_type": "stream",
     "text": [
      "h\n",
      "e\n",
      "l\n",
      "l\n",
      "o\n"
     ]
    }
   ],
   "source": [
    "# ① 函数f（x），输入一个字符串，分别print出每个字母\n",
    "def f(x):\n",
    "    for i in x:\n",
    "        print(i)\n",
    "f(\"hello\")"
   ]
  },
  {
   "cell_type": "code",
   "execution_count": 6,
   "metadata": {},
   "outputs": [
    {
     "name": "stdout",
     "output_type": "stream",
     "text": [
      "-9\n"
     ]
    }
   ],
   "source": [
    "# ② f(x,y,z),函数内部算法：生成 ((x+y)(x-y))*z\n",
    "\n",
    "def f(x, y, z):\n",
    "    return ((x+y)*(x-y))*z\n",
    "print(f(1, 2, 3))"
   ]
  },
  {
   "cell_type": "code",
   "execution_count": 7,
   "metadata": {},
   "outputs": [
    {
     "name": "stdout",
     "output_type": "stream",
     "text": [
      "30.75\n"
     ]
    }
   ],
   "source": [
    "# ③ 编写一个求平均值的函数 f(*m)\n",
    "\n",
    "def f(*m):\n",
    "    s = 0\n",
    "    for i in m:\n",
    "        s += i\n",
    "    return s/len(m)\n",
    "print(f(11, 22, 34, 56))"
   ]
  },
  {
   "cell_type": "code",
   "execution_count": 28,
   "metadata": {},
   "outputs": [
    {
     "name": "stdout",
     "output_type": "stream",
     "text": [
      "圆形的面积为：12.57\n",
      "12.57\n",
      "矩形的面积为：6.00\n",
      "6.00\n"
     ]
    }
   ],
   "source": [
    "# ④ 定义一个函数，用于求矩形面积、圆形面积\n",
    "# 矩形面积：S=ab=长x宽\n",
    "# 圆形面：S = π*r**2 公式中r为圆的半径。π乘于半径r的2次方\n",
    "\n",
    "def area(*s):\n",
    "    if len(s) == 1: # 输出圆形面积\n",
    "        num = 3.1415926 * s[0]**2\n",
    "        print(\"圆形的面积为：%.2f\" %num)\n",
    "        return \"%.2f\" %num\n",
    "    elif len(s) == 2:\n",
    "        num = s[0] * s[1]\n",
    "        print(\"矩形的面积为：%.2f\" %num)\n",
    "        return \"%.2f\" %num\n",
    "print(area(2))\n",
    "print(area(2,3))"
   ]
  },
  {
   "cell_type": "code",
   "execution_count": 45,
   "metadata": {},
   "outputs": [
    {
     "name": "stdout",
     "output_type": "stream",
     "text": [
      "请输入列表元素：1,2,3\n",
      "['1', '2', '3']\n",
      "{'1': None, '2': None, '3': None}\n"
     ]
    }
   ],
   "source": [
    "# ⑤ 定义一个函数，函数的作用是把输入的列表变成一连串字典的key，并生成字典，需要用input输入\n",
    "\n",
    "def f(*s):\n",
    "    lst = s[0].strip(',').split(',') # 将输入的首位元素转成list\n",
    "    print(lst)\n",
    "    lstDic = dict.fromkeys(lst)\n",
    "    return lstDic\n",
    "dic = input(\"请输入列表元素：\")\n",
    "print(f(dic))"
   ]
  },
  {
   "cell_type": "code",
   "execution_count": null,
   "metadata": {
    "collapsed": true
   },
   "outputs": [],
   "source": [
    "'''\n",
    "【课程4.2】  局部变量及全局变量\n",
    "\n",
    "定义在函数内部的变量拥有一个局部作用域，定义在函数外的拥有全局作用域。\n",
    "\n",
    "局部变量只能在其被声明的函数内部访问，而全局变量可以在整个程序范围内访问。\n",
    "调用函数时，所有在函数内声明的变量名称都将被加入到作用域中\n",
    "\n",
    "'''"
   ]
  },
  {
   "cell_type": "code",
   "execution_count": 46,
   "metadata": {},
   "outputs": [
    {
     "name": "stdout",
     "output_type": "stream",
     "text": [
      "请输入一个数字：22\n",
      "函数内为局部变量：呵呵哒\n",
      "函数外为全局变量：22\n"
     ]
    }
   ],
   "source": [
    "# 演示案例\n",
    "\n",
    "def f(m):\n",
    "    m = \"呵呵哒\" # 函数作用：把输入变量指向“呵呵哒”\n",
    "    print(\"函数内为局部变量：%s\" %m)\n",
    "a = input(\"请输入一个数字：\")\n",
    "f(a)\n",
    "print(\"函数外为全局变量：%s\" %a)\n",
    "# f（m）中，m是函数的参数，f(x)是吧x的值赋予了m，但x值自己本身不受影响，所以执行函数后，是在函数局部“变化”了x\n",
    "# 什么是局部变量？ → 当函数定义内声明变量的时候，它们与函数外具有相同名称的其他变量没有任何关系!\n",
    "# 即变量名称对于函数来说是“局部”的。\n",
    "# 这称为变量的作用域。所有变量的作用域是它们被定义的块，从它们的名称被定义的那点开始。"
   ]
  },
  {
   "cell_type": "code",
   "execution_count": 48,
   "metadata": {},
   "outputs": [
    {
     "name": "stdout",
     "output_type": "stream",
     "text": [
      "请输入一个数字：23\n",
      "函数内转为全局变量：呵呵哒\n"
     ]
    }
   ],
   "source": [
    "# global语句 -> 把局部变量变为全局变量\n",
    "\n",
    "def f():\n",
    "    global a\n",
    "    a = \"呵呵哒\"\n",
    "    print(\"函数内转为全局变量：%s\" %a)\n",
    "a = input(\"请输入一个数字：\")\n",
    "f()"
   ]
  },
  {
   "cell_type": "code",
   "execution_count": null,
   "metadata": {
    "collapsed": true
   },
   "outputs": [],
   "source": [
    "'''\n",
    "【课程4.3】  匿名函数Lambda\n",
    "\n",
    "lambda 语句创建匿名函数。\n",
    "\n",
    "'''"
   ]
  },
  {
   "cell_type": "code",
   "execution_count": 50,
   "metadata": {},
   "outputs": [
    {
     "name": "stdout",
     "output_type": "stream",
     "text": [
      "9\n",
      "9\n"
     ]
    }
   ],
   "source": [
    "# 示例\n",
    "\n",
    "def fun(a,b,c):\n",
    "    return a+b+c\n",
    "print(fun(2,3,4))\n",
    "# def创建自定义函数，求和\n",
    "\n",
    "f = lambda a,b,c:a+b+c\n",
    "print(f(2,3,4))\n",
    "# lambda作为匿名函数，是不需要函数名的 → 需要一个函数，又不想动脑筋去想名字，这就是匿名函数\n",
    "# lambda的主体是一个表达式，而不是一个代码块。\n",
    "# lambda只有一行，仅仅能在lambda表达式中封装有限的逻辑进去。"
   ]
  },
  {
   "cell_type": "code",
   "execution_count": null,
   "metadata": {
    "collapsed": true
   },
   "outputs": [],
   "source": [
    "'''\n",
    "小作业（二）\n",
    "① 用lambda创建一个求元素个数的匿名函数\n",
    "② 定义一个函数，可将输入的所有数字从大到小依次排序\n",
    "③ 定义一个函数，随机输入一个学生的成绩后，学习成绩>=90分的同学用A表示，60-89分之间的用B表示，60分以下的用C表示，最后输出成绩评分\n",
    "④ 定义一个函数，可统计出输入任意的字符中英文字母、空格、数字和其它字符的个数\n",
    "'''"
   ]
  },
  {
   "cell_type": "code",
   "execution_count": 75,
   "metadata": {},
   "outputs": [
    {
     "name": "stdout",
     "output_type": "stream",
     "text": [
      "6\n",
      "[55, 23, 17, 3, 1]\n",
      "['C', 'B', 'B', 'A', 'A', 'C']\n"
     ]
    },
    {
     "data": {
      "text/plain": [
       "'字母个数：5， 空格个数：2， 数字个数：4，其他字符个数：0'"
      ]
     },
     "execution_count": 75,
     "metadata": {},
     "output_type": "execute_result"
    }
   ],
   "source": [
    "# ① 用lambda创建一个求元素个数的匿名函数\n",
    "f = lambda *a:len(a)\n",
    "print(f(2,3,4,5,6,7))\n",
    "\n",
    "\n",
    "# ② 定义一个函数，可将输入的所有数字从大到小依次排序\n",
    "def f1(*s):\n",
    "    num = []\n",
    "    for i in s:\n",
    "        num.append(i)\n",
    "    return sorted(num, reverse=True)\n",
    "print(f1(17,23,3,55,1))\n",
    "\n",
    "\n",
    "# ③ 定义一个函数，输入一个学生的成绩后，学习成绩>=90分的同学用A表示\n",
    "# 60-89分之间的用B表示，60分以下的用C表示，最后输出成绩评分\n",
    "def f2(*s):\n",
    "    res = []\n",
    "    for i in s:\n",
    "        if i >= 90:\n",
    "           res.append(\"A\")\n",
    "        elif i > 60:\n",
    "            res.append(\"B\")\n",
    "        else:\n",
    "            res.append(\"C\")\n",
    "    return res\n",
    "print(f2(22, 66, 89, 90, 98, 2))\n",
    "\n",
    "\n",
    "# ④ 定义一个函数，可统计出输入任意的字符中英文字母、空格、数字和其它字符的个数\n",
    "def f3(s):\n",
    "    num = []\n",
    "    st = []\n",
    "    spa = []\n",
    "    oth = []\n",
    "    for i in s:\n",
    "        if i.isdigit():\n",
    "            num.append(i)\n",
    "        elif i.isspace():\n",
    "            spa.append(i)\n",
    "        elif i.isalpha:\n",
    "            st.append(i)\n",
    "        else:\n",
    "            oth.append(i)\n",
    "    return \"字母个数：{}， 空格个数：{}， 数字个数：{}，其他字符个数：{}\" .format(len(st), len(spa), len(num), len(oth))\n",
    "f3(\"3333 ddd 数字\")"
   ]
  }
 ],
 "metadata": {
  "kernelspec": {
   "display_name": "Python 3",
   "language": "python",
   "name": "python3"
  },
  "language_info": {
   "codemirror_mode": {
    "name": "ipython",
    "version": 3
   },
   "file_extension": ".py",
   "mimetype": "text/x-python",
   "name": "python",
   "nbconvert_exporter": "python",
   "pygments_lexer": "ipython3",
   "version": "3.6.3"
  }
 },
 "nbformat": 4,
 "nbformat_minor": 2
}
