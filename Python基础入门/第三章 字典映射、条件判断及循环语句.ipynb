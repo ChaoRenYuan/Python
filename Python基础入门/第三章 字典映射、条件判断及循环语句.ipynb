{
 "cells": [
  {
   "cell_type": "code",
   "execution_count": null,
   "metadata": {
    "collapsed": true
   },
   "outputs": [],
   "source": [
    "'''\n",
    "【课程3.1】  字典dict基本概念\n",
    "\n",
    "字典是另一种可变容器模型，且可存储任意类型对象。\n",
    "字典的每个键值(key=>value)对用冒号(:)分割，每个对之间用逗号(,)分割，整个字典包括在花括号({})中 \n",
    "\n",
    "键必须是唯一的，但值则不必。\n",
    "\n",
    "'''"
   ]
  },
  {
   "cell_type": "code",
   "execution_count": 8,
   "metadata": {},
   "outputs": [
    {
     "name": "stdout",
     "output_type": "stream",
     "text": [
      "{'大头儿子': 6, '小头爸爸': 35, '隔壁老王': 37} <class 'dict'>\n",
      "[{'name': 'zorn', 'age': 18}, {'name': 'Jack', 'age': 19}, {'name': 'Alex', 'age': 17}]\n"
     ]
    }
   ],
   "source": [
    "# 什么是映射？什么是地点dict？\n",
    "\n",
    "name = ['大头儿子', '小头爸爸', '隔壁老王']\n",
    "age = [6, 35, 38]\n",
    "# 首先虽然序列是有顺序的，但还是不能直接把名字和年龄关联起来。这里只是顺序对上，且并没有一对一的关系\n",
    "\n",
    "dic = {'大头儿子':6, '小头爸爸': 35, '隔壁老王':37}\n",
    "print(dic, type(dic))\n",
    "# 用{}来表示，按照key:value来表示字典中的元素，其中key是键，value是值，key-value也就是键值对\n",
    "# 这dic就是一个字典类型的变量\n",
    "\n",
    "dic = [{'name':'zorn', 'age':18}, {'name':'Jack', 'age':19}, {'name':'Alex', \"age\":17}]\n",
    "print(dic)\n",
    "# 一个以字典为元素的列表，有没有觉得键值对很像数据中的字段和字段值？\n"
   ]
  },
  {
   "cell_type": "code",
   "execution_count": 198,
   "metadata": {},
   "outputs": [
    {
     "name": "stdout",
     "output_type": "stream",
     "text": [
      "{'a': 2}\n",
      "{'var1': 1, 'var2': 'hello', 'var3': [1, 2, 3], 'var4': {'a': 1, 'b': 2}}\n",
      "{'var2': 'hello', 'var3': [1, 2, 3], 'var4': '任意修改其中一个值', 'var5': '添加一个值'}\n",
      "{}\n",
      "{'Jim': (1, 35), 'Leo': (2, 37), 'Bob': (3, 40)}\n"
     ]
    }
   ],
   "source": [
    "# 字典的特点\n",
    "\n",
    "dic = {'a':1,'b':2,'c':3}\n",
    "# 键值对，一定共同出现，不能只有一个\n",
    "\n",
    "dic = {'a':1,'a':2}\n",
    "print(dic)\n",
    "# 不允许同一个键出现两次：创建时如果同一个键被赋值两次，后一个值会被记住\n",
    "\n",
    "dic = {'var1':1, 'var2':'hello', 'var3':[1,2,3], 'var4':{'a':1,'b':2}}\n",
    "# key必须是字符串，value则可以是任意对象：数值，字符串，序列，字典\n",
    "\n",
    "print(dic)\n",
    "# 字典是一个无序集合,序列由于没有key来做对应，所以以顺序来对应值\n",
    "# 序列有顺序，字典没有！（PS：在python3 里字典也可以有序了！）\n",
    "\n",
    "dic['var5'] = '添加一个值'  # 任意添加元素\n",
    "dic['var4'] = '任意修改其中一个值'  # 任意修改元素\n",
    "del dic['var1']  # 任意删除元素\n",
    "print(dic)\n",
    "\n",
    "dic.clear()  # 清空词典所有条目\n",
    "print(dic)\n",
    "\n",
    "del dic  # 删除词典\n",
    "#print(dic)  "
   ]
  },
  {
   "cell_type": "code",
   "execution_count": 203,
   "metadata": {},
   "outputs": [
    {
     "name": "stdout",
     "output_type": "stream",
     "text": [
      "{'m': 10, 'n': 'aa', 'h': [1, 2, 3]}\n",
      "{'a': 'fff', 'b': 'ggg'} {'c': 1, 'd': 2} {'e': [1, 2], 'f': [3, 4]}\n",
      "{'a': None, 'b': None, 'c': None} {'a': 'hello', 'b': 'hello', 'c': 'hello'}\n"
     ]
    }
   ],
   "source": [
    "# 申明一个字典\n",
    "\n",
    "dic = {'a':1, 'b':2}\n",
    "# 最简单直接的方式，手动书写申明一个字典变量，中间用的是冒号‘:’, 而不是等号'='\n",
    "\n",
    "dic = dict(m = 10, n = 'aa', h = [1,2,3])\n",
    "print(dic)\n",
    "# dict()函数，如果你喜欢用等号的输入法，这个模式可以满足你\n",
    "\n",
    "lst1 = [(\"a\",\"fff\"), (\"b\",\"ggg\")]\n",
    "lst2 = [[\"c\",1], [\"d\",2]]\n",
    "lst3 = ((\"e\",[1,2]), (\"f\",[3,4]))\n",
    "dic1 = dict(lst1)\n",
    "dic2 = dict(lst2)\n",
    "dic3 = dict(lst3)\n",
    "print(dic1, dic2, dic3)\n",
    "# dict()由序列生成一个字典，嵌套序列，可以是list或者tuple\n",
    "\n",
    "keys = [\"a\", \"b\", \"c\"]\n",
    "dic1 = dict.fromkeys(keys) # 按shift+tab，可以知道默认值是None\n",
    "dic2 = dict.fromkeys(keys, \"hello\") # 生成的字典的value都为“hello”\n",
    "print(dic1, dic2)\n",
    "# 只有key，直接生成一个字典"
   ]
  },
  {
   "cell_type": "code",
   "execution_count": null,
   "metadata": {
    "collapsed": true
   },
   "outputs": [],
   "source": [
    "'''\n",
    "小作业\n",
    "① 用dict函数的时候，和直接申明一个字典，操作上什么区别？\n",
    "② 以dict()函数生成一个人的成绩单，包括语文，数学，外语，物理，化学几个元素\n",
    "'''"
   ]
  },
  {
   "cell_type": "code",
   "execution_count": 204,
   "metadata": {},
   "outputs": [
    {
     "name": "stdout",
     "output_type": "stream",
     "text": [
      "{'语文': 99, '数学': 100, '外语': 60, '物理': 98, '化学': 100}\n"
     ]
    }
   ],
   "source": [
    "# ① 用dict函数的时候，和直接申明一个字典，操作上什么区别？\n",
    "# 答：dict函数更加自由化，可以用等号表示键值对，可以用序列、元祖等生成字典。而直接申明一个字典，则需要用冒号来表示键值对\n",
    "# 其中③等符号 在Mac下用 option+ shift + b可以打出\n",
    "# 字典是无序的，但在python也可以有序\n",
    "\n",
    "\n",
    "# ② 以dict()函数生成一个人的成绩单，包括语文，数学，外语，物理，化学几个元素\n",
    "dic = {\"语文\":99, \"数学\":100, \"外语\":60, \"物理\":98, \"化学\":100}\n",
    "print(dic)\n",
    "# 这里有很多方式输出，但此处只用最容易理解的方式输出，读者可自行实验"
   ]
  },
  {
   "cell_type": "code",
   "execution_count": null,
   "metadata": {
    "collapsed": true
   },
   "outputs": [],
   "source": [
    "'''\n",
    "【课程3.2】  字典常用操作\n",
    "\n",
    "字典内置函数&方法\n",
    "\n",
    "'''"
   ]
  },
  {
   "cell_type": "code",
   "execution_count": 210,
   "metadata": {},
   "outputs": [
    {
     "name": "stdout",
     "output_type": "stream",
     "text": [
      "{'a': 1, 'b': 2, 'c': 3, 'd': 4} {'c': 3, 'd': 4}\n",
      "{'m': 1, 'n': 2, 'p': 3, 'q': 4} {'m': 1, 'n': 2, 'p': 3, 'q': 4}\n",
      "{'m': 1, 'n': 2, 'p': 3, 'q': 4} {'m': 1, 'n': 2, 'p': 3}\n",
      "4\n",
      "True\n",
      "False\n"
     ]
    }
   ],
   "source": [
    "# 字典常用操作\n",
    "\n",
    "dic1 = {\"a\":1, \"b\":2}\n",
    "dic2 = {\"c\":3, \"d\":4}\n",
    "dic1.update(dic2)\n",
    "print(dic1, dic2)\n",
    "# dict.update()方法：更新/合并一个字典，把第二个字典合并到第一个字典，改变了第一个字典\n",
    "\n",
    "a = {'m':1 , 'n':2 , 'p':3}\n",
    "b = a\n",
    "a.update({'q':4})\n",
    "print(a,b)\n",
    "# 和序列的原理一样，a和b指向同一个字典，所以会一起更新\n",
    "\n",
    "a = {\"m\":1, \"n\":2, \"p\":3}\n",
    "b = a.copy()\n",
    "a.update({\"q\":4})\n",
    "print(a, b)\n",
    "# 通过copy()方法，复制一个新的字典\n",
    "\n",
    "print(len(a))\n",
    "# 查看字典元素个数\n",
    "\n",
    "print(\"m\" in a)\n",
    "print(2 in a)\n",
    "# in / not in : 判断是否包含，字典的判断对象必须用key来使用"
   ]
  },
  {
   "cell_type": "code",
   "execution_count": null,
   "metadata": {
    "collapsed": true
   },
   "outputs": [],
   "source": [
    "'''\n",
    "【课程3.3】  字典的元素访问及遍历\n",
    "\n",
    "如何读取字典？\n",
    "\n",
    "'''"
   ]
  },
  {
   "cell_type": "code",
   "execution_count": 226,
   "metadata": {},
   "outputs": [
    {
     "name": "stdout",
     "output_type": "stream",
     "text": [
      "1\n",
      "somewhere\n",
      "zorn\n",
      "None\n",
      "nothing\n",
      "None\n",
      "dict_keys(['name', 'city', 'information']) <class 'dict_keys'>\n",
      "['name', 'city', 'information']\n",
      "dict_values(['zorn', 'shenzhen', {'address': 'somewhere', 'num': 66668888}]) <class 'dict_values'>\n",
      "['zorn', 'shenzhen', {'address': 'somewhere', 'num': 66668888}]\n",
      "dict_items([('name', 'zorn'), ('city', 'shenzhen'), ('information', {'address': 'somewhere', 'num': 66668888})]) <class 'dict_items'>\n",
      "[('name', 'zorn'), ('city', 'shenzhen'), ('information', {'address': 'somewhere', 'num': 66668888})]\n"
     ]
    }
   ],
   "source": [
    "# 字典的元素访问\n",
    "\n",
    "dic = {\"a\":1, \"b\":2, \"c\":3}\n",
    "print(dic[\"a\"])\n",
    "# print(dic[1]) \n",
    "# 字典不具备像序列一样的索引方式，索引的内容为key\n",
    "\n",
    "poi = {'name':'zorn', 'city':'shenzhen', 'information':{'address':'somewhere', 'num':66668888}}\n",
    "print(poi[\"information\"][\"address\"])\n",
    "# 对于嵌套字典，输出嵌套内容，通过重复指向来输出\n",
    "\n",
    "print(poi.get(\"name\")) # 返回key索引对应的值\n",
    "print(poi.get(\"type\")) # 因为没有这个key，故返回一个None\n",
    "print(poi.get(\"type\", print(\"nothing\"))) # 当没有这个key的时候，可以添加返回信息\n",
    "# 总结：.get(key)方法：直接查看key的value，如果没有相应key则返回None，添加print参数可以多返回一个值\n",
    "\n",
    "print(poi.keys(), type(poi.keys()))\n",
    "print(list(poi.keys())) # 通过.keys()方法将key的内容生成一个list序列\n",
    "# .keys()方法：输出字典所有key，注意这里的输出内容格式是视图，可以用list()得到key的列表，类似range()\n",
    "\n",
    "print(poi.values(), type(poi.values()))\n",
    "print(list(poi.values()))\n",
    "# .values()方法：输出字典所有values，原理同.keys()方法\n",
    "\n",
    "print(poi.items(), type(poi.items()))\n",
    "print(list(poi.items()))\n",
    "# .items()方法：输出字典所有items(元素)， 原理通.keys()方法"
   ]
  },
  {
   "cell_type": "code",
   "execution_count": 233,
   "metadata": {},
   "outputs": [
    {
     "name": "stdout",
     "output_type": "stream",
     "text": [
      "我是key: name\n",
      "我是key: city\n",
      "我是key: information\n",
      "__________________\n",
      "我是value: zorn\n",
      "我是value: shenzhen\n",
      "我是value: {'address': 'somewhere', 'num': 66668888}\n",
      "__________________\n",
      "key为：name, value为：zorn\n",
      "key为：city, value为：shenzhen\n",
      "key为：information, value为：{'address': 'somewhere', 'num': 66668888}\n"
     ]
    }
   ],
   "source": [
    "# 字典的元素遍历\n",
    "\n",
    "poi = {'name':'zorn', 'city':'shenzhen', 'information':{'address':'somewhere', 'num':66668888}}\n",
    "for key in poi.keys():\n",
    "    print(\"我是key:\", key)    \n",
    "print(\"__________________\")   \n",
    "\n",
    "for value in poi.values():\n",
    "    print(\"我是value:\", value)\n",
    "print(\"__________________\")  \n",
    "\n",
    "for (k,v) in poi.items():\n",
    "    print(\"key为：%s, value为：%s\" %(k,v))\n",
    "    "
   ]
  },
  {
   "cell_type": "code",
   "execution_count": 235,
   "metadata": {},
   "outputs": [
    {
     "data": {
      "text/plain": [
       "'\\n小作业\\n① dict.keys()生成的是不是列表？\\n② 如何判断一个value是否存在于字典中？\\n'"
      ]
     },
     "execution_count": 235,
     "metadata": {},
     "output_type": "execute_result"
    }
   ],
   "source": [
    "'''\n",
    "小作业\n",
    "① dict.keys()生成的是不是列表？\n",
    "② 如何判断一个value是否存在于字典中？\n",
    "'''"
   ]
  },
  {
   "cell_type": "code",
   "execution_count": 246,
   "metadata": {},
   "outputs": [
    {
     "name": "stdout",
     "output_type": "stream",
     "text": [
      "dict_keys(['name', 'city', 'information']) <class 'dict_keys'>\n",
      "dict_keys(['name', 'city', 'information'])\n",
      "True\n"
     ]
    }
   ],
   "source": [
    "# ① dict.keys()生成的是不是列表？\n",
    "poi = {'name':'zorn', 'city':'shenzhen', 'information':{'address':'somewhere', 'num':66668888}}\n",
    "print(poi.keys(), type(poi.keys()))\n",
    "lst = poi.keys()\n",
    "print(lst)\n",
    "# print(lst[1]) #不能用索引值来访问\n",
    "# print(list(poi.keys()), type(list(poi.keys())))\n",
    "# 总结：dict.keys()生成的dict_keys类型所返回来的列表，但不是一个list序列\n",
    "\n",
    "\n",
    "# ② 如何判断一个value是否存在于字典中？\n",
    "poi = {'name':'zorn', 'city':'shenzhen', 'information':{'address':'somewhere', 'num':66668888}}\n",
    "print(\"zorn\" in poi.values())\n"
   ]
  },
  {
   "cell_type": "code",
   "execution_count": null,
   "metadata": {
    "collapsed": true
   },
   "outputs": [],
   "source": [
    "'''\n",
    "【课程3.4】  条件判断：if语句\n",
    "\n",
    "Python条件语句是通过一条或多条语句的执行结果（True或者False）来决定执行的代码块。\n",
    "\n",
    "if 判断条件：\n",
    "    执行语句……\n",
    "else：\n",
    "    执行语句……\n",
    "    \n",
    "** 开始有缩进的概念\n",
    "\n",
    "'''"
   ]
  },
  {
   "cell_type": "code",
   "execution_count": 247,
   "metadata": {},
   "outputs": [
    {
     "name": "stdout",
     "output_type": "stream",
     "text": [
      "18岁以下不宜观看\n"
     ]
    }
   ],
   "source": [
    "# 基本判断语句\n",
    "\n",
    "age = 12\n",
    "if age < 18:\n",
    "    print(\"18岁以下不宜观看\")\n",
    "# if语句后面必须有冒号\":\"\n",
    "# 回车后，会自动缩进\n",
    "# if语句写完后，要退回原有缩进继续写\n",
    "# python代码的缩进规则：具有相同缩进的代码被视为代码块"
   ]
  },
  {
   "cell_type": "code",
   "execution_count": 248,
   "metadata": {},
   "outputs": [
    {
     "name": "stdout",
     "output_type": "stream",
     "text": [
      "请输入成绩：12\n",
      "该学生成绩为：12\n",
      "<class 'str'>\n"
     ]
    }
   ],
   "source": [
    "# 输入函数 input()\n",
    "\n",
    "score = input(\"请输入成绩：\")\n",
    "print(\"该学生成绩为：\" + score)\n",
    "print(type(score))\n",
    "# 注意：input()返回结果都为字符串，如果需要变为数字则用到int()/float()"
   ]
  },
  {
   "cell_type": "code",
   "execution_count": 250,
   "metadata": {},
   "outputs": [
    {
     "name": "stdout",
     "output_type": "stream",
     "text": [
      "zorn\n"
     ]
    }
   ],
   "source": [
    "# 两种条件判断：if-else\n",
    "\n",
    "flag = False\n",
    "name = \"zorn\"\n",
    "if name == \"python\":          # 判断变量是否为\"python\"\n",
    "    flag = True               \n",
    "    print(\"hello world\")      # 条件成立，则设置flag为真，并输出\n",
    "else:\n",
    "    print(name)               # 条件不成立时输出变量名称"
   ]
  },
  {
   "cell_type": "code",
   "execution_count": 251,
   "metadata": {},
   "outputs": [
    {
     "name": "stdout",
     "output_type": "stream",
     "text": [
      "user\n"
     ]
    }
   ],
   "source": [
    "# 多种条件判断：if-elif-...-else\n",
    "\n",
    "num = 2\n",
    "if num == 3:           # 判断num的值\n",
    "    print(\"boss\")\n",
    "elif num == 2:\n",
    "    print(\"user\")\n",
    "elif num == 1:\n",
    "    print(\"worker\")\n",
    "elif num < 0:\n",
    "    print(\"error\")\n",
    "else:\n",
    "    print(\"roadman\")"
   ]
  },
  {
   "cell_type": "code",
   "execution_count": 252,
   "metadata": {},
   "outputs": [
    {
     "name": "stdout",
     "output_type": "stream",
     "text": [
      "hello\n",
      "undefine\n",
      "undefine\n"
     ]
    }
   ],
   "source": [
    "# 单语句多条件判断： or and\n",
    "\n",
    "num = 5\n",
    "if num >= 0 and num <= 10:\n",
    "    print(\"hello\")\n",
    "# 判断值是否在0-10之间\n",
    "# 输出结果：hello\n",
    "\n",
    "num = 10\n",
    "if num < 0 or num > 10:\n",
    "    print(\"hello\")\n",
    "else:\n",
    "    print(\"undefine\")\n",
    "# 判断值是否在小于0或大于10\n",
    "# 输出结果：underfine\n",
    "\n",
    "num = 8\n",
    "if (num >= 0 and num <= 5) or (num >= 10 and num <= 15):\n",
    "    print(\"hello\")\n",
    "else:\n",
    "    print(\"undefine\")\n",
    "# 判断值是否在0-5或者10-15之间\n",
    "# 输出结果：undefine\n",
    "\n"
   ]
  },
  {
   "cell_type": "code",
   "execution_count": null,
   "metadata": {
    "collapsed": true
   },
   "outputs": [],
   "source": [
    "'''\n",
    "小作业\n",
    "① 编写一个简单的判断语句代码：输入某个成绩，如果成绩分数大于或等于60分，则返回及格，小于60分，则返回不及格\n",
    "② 编写猜数字小游戏的代码：输入一个数字，分别针对猜对数字、猜错数字、输入错误给予判断\n",
    "'''"
   ]
  },
  {
   "cell_type": "code",
   "execution_count": 257,
   "metadata": {},
   "outputs": [
    {
     "name": "stdout",
     "output_type": "stream",
     "text": [
      "请输入您的成绩:60\n",
      "您的成绩及格\n"
     ]
    }
   ],
   "source": [
    "# ① 编写一个简单的判断语句代码：输入某个成绩，如果成绩分数大于或等于60分，则返回及格，小于60分，则返回不及格\n",
    "score = int(input(\"请输入您的成绩:\"))\n",
    "if score >= 60:\n",
    "    print(\"您的成绩及格\")\n",
    "elif score < 60:\n",
    "    print(\"您的成绩不及格\")\n"
   ]
  },
  {
   "cell_type": "code",
   "execution_count": 315,
   "metadata": {},
   "outputs": [
    {
     "name": "stdout",
     "output_type": "stream",
     "text": [
      "请输入您的想要的数字:iii\n",
      "类型错误\n"
     ]
    }
   ],
   "source": [
    "# ② 编写猜数字小游戏的代码：输入一个数字，分别针对猜对数字、猜错数字、输入错误给予判断\n",
    "\n",
    "number = input(\"请输入您的想要的数字:\")\n",
    "if number.isnumeric():\n",
    "    print(\"输入的类型正确\")\n",
    "    if int(number) == 17:\n",
    "        print(\"猜对数字了\")\n",
    "    else:\n",
    "        print(\"猜错数字了\")\n",
    "else:\n",
    "    print(\"类型错误\")\n",
    "\n",
    "\n",
    "  "
   ]
  },
  {
   "cell_type": "code",
   "execution_count": null,
   "metadata": {
    "collapsed": true
   },
   "outputs": [],
   "source": [
    "'''\n",
    "【课程3.5】  循环语句：for循环\n",
    "\n",
    "for循环可以遍历任何序列的项目，如一个列表或者一个字符串。\n",
    "\n",
    "迭代\n",
    "'''"
   ]
  },
  {
   "cell_type": "code",
   "execution_count": 316,
   "metadata": {},
   "outputs": [
    {
     "name": "stdout",
     "output_type": "stream",
     "text": [
      "hello world!\n",
      "hello world!\n",
      "hello world!\n",
      "hello world!\n",
      "hello world!\n"
     ]
    }
   ],
   "source": [
    "# 想输出\"hello world\"5次怎么办？\n",
    "for i in range(5):\n",
    "    print('hello world!')"
   ]
  },
  {
   "cell_type": "code",
   "execution_count": 321,
   "metadata": {},
   "outputs": [
    {
     "name": "stdout",
     "output_type": "stream",
     "text": [
      "0\n",
      "2\n",
      "4\n",
      "6\n",
      "8\n",
      "_________________\n",
      "Zorn年龄为:18岁\n",
      "Jack年龄为:19岁\n",
      "Alex年龄为:17岁\n",
      "Mary年龄为:20岁\n"
     ]
    }
   ],
   "source": [
    "# 通过for遍历序列、映射\n",
    "\n",
    "lst = list(range(10))\n",
    "for i in lst[::2]:\n",
    "    print(i)\n",
    "print(\"_________________\")\n",
    "# 遍历list\n",
    "\n",
    "ageDic = {\"Zorn\":18, \"Jack\":19, \"Alex\":17, \"Mary\":20}\n",
    "for name in ageDic:\n",
    "    print(name + \"年龄为:%s岁\" % ageDic[name])"
   ]
  },
  {
   "cell_type": "code",
   "execution_count": 322,
   "metadata": {},
   "outputs": [
    {
     "name": "stdout",
     "output_type": "stream",
     "text": [
      "0 0\n",
      "0 1\n",
      "1 0\n",
      "1 1\n",
      "2 0\n",
      "2 1\n"
     ]
    }
   ],
   "source": [
    "# 嵌套循环\n",
    "\n",
    "for i in range(3):\n",
    "    for j in range(2):\n",
    "        print(i,j)\n",
    "# 循环套循环，注意：尽量不要多于3个嵌套"
   ]
  },
  {
   "cell_type": "code",
   "execution_count": null,
   "metadata": {
    "collapsed": true
   },
   "outputs": [],
   "source": [
    "'''\n",
    "小作业\n",
    "① 生成一个数值列表，用for循环打印出所有元素\n",
    "② 用for循环遍历一个字符串，打印出各个字母\n",
    "③ 生成一个字典，分别打印出key和value\n",
    "④ 用input输入一个循环次数n，打印hello world n遍\n",
    "⑤ 码一个等差数列，四个变量：首项a，项数n，公差d，求和s，这几个参数都可通过input()输入\n",
    "⑥ 两组列表[\"a\", \"b\", \"c\"],[1,2,3]，用for循环把它们组成一个字典，一一对应\n",
    "'''"
   ]
  },
  {
   "cell_type": "code",
   "execution_count": 335,
   "metadata": {},
   "outputs": [
    {
     "name": "stdout",
     "output_type": "stream",
     "text": [
      "1\n",
      "2\n",
      "3\n",
      "7\n",
      "8\n",
      "9\n",
      "w\n",
      "o\n",
      "a\n",
      "i\n",
      "n\n",
      "i\n",
      "z\n",
      "h\n",
      "o\n",
      "n\n",
      "g\n",
      "g\n",
      "u\n",
      "o\n",
      "name zorn\n",
      "age 18\n",
      "city shenzhen\n",
      "请输入您想要循环的次数：1\n",
      "hello\n",
      "请输入您的首项：1\n",
      "请输入您的项数：11\n",
      "请输入您的公差：1\n",
      "11\n",
      "{'a': 1, 'b': 2, 'c': 3}\n"
     ]
    }
   ],
   "source": [
    "# ① 生成一个数值列表，用for循环打印出所有元素\n",
    "numberList = [1, 2, 3, 7, 8, 9]\n",
    "for num in numberList:\n",
    "    print(num)\n",
    "  \n",
    "\n",
    "# ② 用for循环遍历一个字符串，打印出各个字母\n",
    "str1 = \"woainizhongguo\"\n",
    "for i in str1:\n",
    "    print(i)\n",
    "\n",
    "    \n",
    "#  ③ 生成一个字典，分别打印出key和value\n",
    "dic = {\"name\":\"zorn\", \"age\":18, \"city\":\"shenzhen\"}\n",
    "for (k,v) in dic.items():\n",
    "    print(k,v)\n",
    "\n",
    "    \n",
    "# ④ 用input输入一个循环次数n，打印hello world n遍\n",
    "num = int(input(\"请输入您想要循环的次数：\"))\n",
    "for i in range(num):\n",
    "    print(\"hello\")\n",
    "    \n",
    "    \n",
    "# ⑤ 码一个等差数列，四个变量：首项a，项数n，公差d，求和s，这几个参数都可通过input()输入\n",
    "a1 = int(input(\"请输入您的首项：\"))\n",
    "n = int(input(\"请输入您的项数：\"))\n",
    "d = int(input(\"请输入您的公差：\"))\n",
    "s = a1 + ((n-1)*d)\n",
    "print(s)\n",
    "\n",
    "\n",
    "# ⑥ 两组列表[\"a\", \"b\", \"c\"],[1,2,3]，用for循环把它们组成一个字典，一一对应\n",
    "lst1 = [\"a\", \"b\", \"c\"]\n",
    "lst2 = [1, 2, 3]\n",
    "m = []\n",
    "for i in range(len(lst1)):\n",
    "    x = lst1[i]\n",
    "    y = lst2[i]\n",
    "    m.append((x,y))\n",
    "dic = dict(m)\n",
    "print(dic)"
   ]
  },
  {
   "cell_type": "code",
   "execution_count": null,
   "metadata": {
    "collapsed": true
   },
   "outputs": [],
   "source": [
    "'''\n",
    "【课程3.6】  循环语句：while循环\n",
    "\n",
    "执行语句可以是单个语句或语句块\n",
    "\n",
    "判断条件可以是任何表达式，任何非零、或非空（null）的值均为true。\n",
    "\n",
    "当判断条件假false时，循环结束。\n",
    "\n",
    "'''"
   ]
  },
  {
   "cell_type": "code",
   "execution_count": 336,
   "metadata": {},
   "outputs": [
    {
     "name": "stdout",
     "output_type": "stream",
     "text": [
      "The count is: 0\n",
      "The count is: 1\n",
      "The count is: 2\n",
      "The count is: 3\n",
      "The count is: 4\n",
      "The count is: 5\n",
      "The count is: 6\n",
      "The count is: 7\n",
      "The count is: 8\n",
      "Good bye!\n"
     ]
    }
   ],
   "source": [
    "# 基本运行逻辑\n",
    "\n",
    "count = 0\n",
    "while count < 9:\n",
    "    print( 'The count is:', count)\n",
    "    count = count + 1\n",
    "print( \"Good bye!\")\n",
    "# 这里count<9是一个判断语句，当判断为True时，则继续运行"
   ]
  },
  {
   "cell_type": "code",
   "execution_count": 338,
   "metadata": {},
   "outputs": [
    {
     "name": "stdout",
     "output_type": "stream",
     "text": [
      "Good bye!\n"
     ]
    }
   ],
   "source": [
    "# 关于无限循环：如果条件判断语句永远为true，循环将会无限的执行下去\n",
    "\n",
    "var = 1\n",
    "while var == 1:\n",
    "    num = input(\"Enter a number:\")\n",
    "    print(\"You etered: \", num)\n",
    "print(\"Good bye!\")\n",
    "# 该条件永远为true，循环将无限执行下去\n",
    "# 一定要避免无限循环！！"
   ]
  },
  {
   "cell_type": "code",
   "execution_count": 339,
   "metadata": {},
   "outputs": [
    {
     "name": "stdout",
     "output_type": "stream",
     "text": [
      "0 is less than 5\n",
      "1 is less than 5\n",
      "2 is less than 5\n",
      "3 is less than 5\n",
      "4 is less than 5\n",
      "5 is not less than 5\n"
     ]
    }
   ],
   "source": [
    "# while-else语句\n",
    "\n",
    "count = 0\n",
    "while count < 5:\n",
    "    print(count, \"is less than 5\")\n",
    "    count += 1 # count = count + 1\n",
    "else:\n",
    "    print(count, \"is not less than 5\")\n",
    "# 逻辑和if-else一样"
   ]
  },
  {
   "cell_type": "code",
   "execution_count": null,
   "metadata": {
    "collapsed": true
   },
   "outputs": [],
   "source": [
    "'''\n",
    "【课程3.7】  循环控制语句\n",
    "\n",
    "break：在语句块执行过程中终止循环，并且跳出整个循环\n",
    "\n",
    "continue：在语句块执行过程中跳出该次循环，执行下一次循环\n",
    "\n",
    "pass：pass是空语句，是为了保持程序结构的完整性\n",
    "\n",
    "'''"
   ]
  },
  {
   "cell_type": "code",
   "execution_count": 344,
   "metadata": {},
   "outputs": [
    {
     "name": "stdout",
     "output_type": "stream",
     "text": [
      "190\n",
      "第0次计算\n",
      "第1次计算\n",
      "第2次计算\n",
      "第3次计算\n",
      "第4次计算\n",
      "第1次计算\n",
      "第2次计算\n",
      "第3次计算\n",
      "第4次计算\n",
      "第5次计算\n",
      "结果为10\n"
     ]
    }
   ],
   "source": [
    "# break语句\n",
    "\n",
    "s = 0\n",
    "n = 1\n",
    "while n > 0:\n",
    "    s = s + n\n",
    "    n = n + 1\n",
    "#     print(s)\n",
    "    if n == 20:\n",
    "        break\n",
    "print(s)\n",
    "# break语句用来终止循环语句，即便循环条件没有False条件或者序列还没被完全递归完，也会停止执行循环语句。\n",
    "\n",
    "s = 0\n",
    "for i in range(2):\n",
    "    for j in range(5):\n",
    "        s = s + (i*j)\n",
    "        print(\"第%i次计算\" %(i+j))\n",
    "    if s > 20:\n",
    "         break\n",
    "print(\"结果为%i\" %s)\n",
    "# 如果使用嵌套循环，break语句将停止执行最深层的循环，并开始执行下一行代码。"
   ]
  },
  {
   "cell_type": "code",
   "execution_count": 346,
   "metadata": {},
   "outputs": [
    {
     "name": "stdout",
     "output_type": "stream",
     "text": [
      "第0次计算\n",
      "第2次计算\n",
      "第4次计算\n",
      "第6次计算\n",
      "第8次计算\n",
      "第10次计算\n",
      "第12次计算\n",
      "第14次计算\n",
      "第16次计算\n",
      "第18次计算\n",
      "第20次计算\n",
      "第22次计算\n",
      "第24次计算\n",
      "第26次计算\n",
      "第28次计算\n",
      "第30次计算\n",
      "第32次计算\n",
      "第34次计算\n",
      "第36次计算\n",
      "第38次计算\n",
      "第40次计算\n",
      "第42次计算\n",
      "第44次计算\n",
      "第46次计算\n",
      "第48次计算\n",
      "结果为600\n"
     ]
    }
   ],
   "source": [
    "# continue语句\n",
    "\n",
    "s = 0\n",
    "for i in range(50):\n",
    "    if i%2 == 0:\n",
    "        s += i\n",
    "    else:\n",
    "        continue\n",
    "    print(\"第%i次计算\" %(i/2))\n",
    "print(\"结果为%i\" %s)\n",
    "# continue 语句用来告诉Python跳过当前循环的剩余语句，然后继续 进行下一轮循环。"
   ]
  },
  {
   "cell_type": "code",
   "execution_count": 361,
   "metadata": {},
   "outputs": [
    {
     "name": "stdout",
     "output_type": "stream",
     "text": [
      "当前字母：h被pass了\n",
      "Good bye!\n"
     ]
    }
   ],
   "source": [
    "# pass语句\n",
    "\n",
    "for letter in \"Python\":\n",
    "    if letter == \"h\":\n",
    "        pass\n",
    "        print(\"当前字母：%s被pass了\" %letter)\n",
    "#     print(\"当前字母: %s\"letter)\n",
    "print(\"Good bye!\")\n",
    "# pass是空语句，是为了保持程序结构的完整性。（不中断也不跳过）"
   ]
  }
 ],
 "metadata": {
  "kernelspec": {
   "display_name": "Python 3",
   "language": "python",
   "name": "python3"
  },
  "language_info": {
   "codemirror_mode": {
    "name": "ipython",
    "version": 3
   },
   "file_extension": ".py",
   "mimetype": "text/x-python",
   "name": "python",
   "nbconvert_exporter": "python",
   "pygments_lexer": "ipython3",
   "version": "3.6.3"
  }
 },
 "nbformat": 4,
 "nbformat_minor": 2
}
