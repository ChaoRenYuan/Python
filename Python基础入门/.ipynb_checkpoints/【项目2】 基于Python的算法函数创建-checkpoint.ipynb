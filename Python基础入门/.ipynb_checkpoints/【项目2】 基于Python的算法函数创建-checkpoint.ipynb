{
 "cells": [
  {
   "cell_type": "code",
   "execution_count": null,
   "metadata": {
    "collapsed": true
   },
   "outputs": [],
   "source": [
    "'''\n",
    "【项目02】  基于Python的算法函数创建\n",
    "\n",
    "作业要求：\n",
    "根据不同题目，完成代码书写并成功运行\n",
    "\n",
    "'''"
   ]
  },
  {
   "cell_type": "code",
   "execution_count": null,
   "metadata": {
    "collapsed": true
   },
   "outputs": [],
   "source": [
    "# 题目1：有1、2、3、4个数字，能组成多少个互不相同且无重复数字的两位数？都是多少？\n",
    "# 该题目不用创建函数"
   ]
  },
  {
   "cell_type": "code",
   "execution_count": 3,
   "metadata": {},
   "outputs": [
    {
     "name": "stdout",
     "output_type": "stream",
     "text": [
      "1 2\n",
      "1 3\n",
      "1 4\n",
      "2 1\n",
      "2 3\n",
      "2 4\n",
      "3 1\n",
      "3 2\n",
      "3 4\n",
      "4 1\n",
      "4 2\n",
      "4 3\n"
     ]
    }
   ],
   "source": [
    "for x in range(1,5):\n",
    "    for y in range(1,5):\n",
    "            if x != y:\n",
    "                print(x,y)"
   ]
  },
  {
   "cell_type": "code",
   "execution_count": null,
   "metadata": {
    "collapsed": true
   },
   "outputs": [],
   "source": [
    "# 题目2：输入三个整数x,y,z，请把这三个数由小到大输出，可调用input()。（需要加判断：判断输入数据是否为数字）\n",
    "# 提示：判断是否为数字：.isdigit()\n",
    "# 该题目需要创建函数"
   ]
  },
  {
   "cell_type": "code",
   "execution_count": 18,
   "metadata": {},
   "outputs": [
    {
     "name": "stdout",
     "output_type": "stream",
     "text": [
      "请输入三个整数1,3,2,4,0\n",
      "<class 'str'> 1,3,2,4,0\n",
      "1是整数\n",
      "3是整数\n",
      "2是整数\n",
      "4是整数\n",
      "0是整数\n",
      "[0, 1, 2, 3, 4]\n"
     ]
    }
   ],
   "source": [
    "num = input(\"请输入三个整数\")\n",
    "result = []\n",
    "print(type(num), num)\n",
    "\n",
    "for s in num:\n",
    "    if s.isdigit():\n",
    "        result.append(int(s))\n",
    "        print(\"%s是整数\" %s)\n",
    "print(sorted(result))"
   ]
  },
  {
   "cell_type": "code",
   "execution_count": null,
   "metadata": {
    "collapsed": true
   },
   "outputs": [],
   "source": [
    "# 题目3：输入一行字符，分别统计出其中英文字母、空格、数字和其它字符的个数。\n",
    "# 该题目不需要创建函数"
   ]
  },
  {
   "cell_type": "code",
   "execution_count": 1,
   "metadata": {},
   "outputs": [
    {
     "name": "stdout",
     "output_type": "stream",
     "text": [
      "<class 'int'>\n",
      "数字的个数：3\n",
      "中文的个数：4\n",
      "英文的个数：4\n",
      "空格的个数：3\n",
      "其他字符的个数：2\n",
      "\n"
     ]
    }
   ],
   "source": [
    "\n",
    "st = \"我爱中国 abcd 123 &*\"\n",
    "num = []\n",
    "zh = []\n",
    "en = []\n",
    "other = []\n",
    "space = []\n",
    "dic = {}\n",
    "\n",
    "for s in st:\n",
    "    if s.isdigit():\n",
    "        num.append(s)\n",
    "    elif s.isspace():\n",
    "        space.append(s)\n",
    "    elif s >= u'\\u4e00' and s<=u'\\u9fa5':\n",
    "        zh.append(s)\n",
    "    elif (s >= u'\\u0041' and s <= u'\\u005a') or (s >= u'\\u0061' and s <= u'\\u007a'):\n",
    "        en.append(s)\n",
    "    else:\n",
    "        other.append(s)\n",
    "print(type(len(num)))\n",
    "print(\"数字的个数：{}\\n中文的个数：{}\\n英文的个数：{}\\n空格的个数：{}\\n其他字符的个数：{}\\n\" .format(str(len(num)), str(len(zh)), str(len(en)), str(len(space)), str(len(other))))"
   ]
  },
  {
   "cell_type": "code",
   "execution_count": null,
   "metadata": {
    "collapsed": true
   },
   "outputs": [],
   "source": [
    "# 题目4：猴子吃桃问题\n",
    "# 猴子第一天摘下若干个桃子，当即吃了一半，还不瘾，又多吃了一个,\n",
    "# 第二天早上又将剩下的桃子吃掉一半，又多吃了一个。\n",
    "# 以后每天早上都吃了前一天剩下的一半零一个。到第10天早上想再吃时，见只剩下一个桃子了。求第一天共摘了多少?\n",
    "# 提示：采取逆向思维的方法，从后往前推断。\n",
    "# 该题目不需要创建函数"
   ]
  },
  {
   "cell_type": "code",
   "execution_count": 80,
   "metadata": {},
   "outputs": [
    {
     "name": "stdout",
     "output_type": "stream",
     "text": [
      "第10天早上想再吃时，见只剩下一个桃子了。\n",
      "第9天吃之前还有4个桃子\n",
      "第8天吃之前还有10个桃子\n",
      "第7天吃之前还有22个桃子\n",
      "第6天吃之前还有46个桃子\n",
      "第5天吃之前还有94个桃子\n",
      "第4天吃之前还有190个桃子\n",
      "第3天吃之前还有382个桃子\n",
      "第2天吃之前还有766个桃子\n",
      "第1天吃之前还有1534个桃子\n",
      "第1天共摘了1534个桃子\n"
     ]
    }
   ],
   "source": [
    "peach = 1\n",
    "print(\"第10天早上想再吃时，见只剩下一个桃子了。\")\n",
    "\n",
    "for i in range(9, 0, -1): # range(9, 0, -1) 倒序，从9到0，左闭右开\n",
    "    peach = (peach+1) * 2\n",
    "    print('第%i天吃之前还有%i个桃子' % (i, peach))\n",
    "print('第1天共摘了%i个桃子' %peach)"
   ]
  },
  {
   "cell_type": "code",
   "execution_count": null,
   "metadata": {
    "collapsed": true
   },
   "outputs": [],
   "source": [
    "# 题目5：猜数字问题，要求如下：\n",
    "# ① 随机生成一个整数\n",
    "# ② 猜一个数字并输入\n",
    "# ③ 判断是大是小，直到猜正确\n",
    "# ④ 判断时间\n",
    "# 提示：需要用time模块、random模块\n",
    "# 该题目不需要创建函数"
   ]
  },
  {
   "cell_type": "code",
   "execution_count": 125,
   "metadata": {},
   "outputs": [
    {
     "name": "stdout",
     "output_type": "stream",
     "text": [
      "2018-02-24 14:26:56\n",
      "随机数为:89\n",
      "\n",
      "请输入一个数字\n",
      "23\n",
      "小了\n",
      "\n",
      "请输入一个数字\n",
      "34\n",
      "小了\n",
      "\n",
      "请输入一个数字\n",
      "90\n",
      "大了\n",
      "\n",
      "请输入一个数字\n",
      "89\n",
      "恭喜你答案正确\n"
     ]
    }
   ],
   "source": [
    "import time\n",
    "import random\n",
    "\n",
    "currentTime = time.strftime('%Y-%m-%d %H:%M:%S',time.localtime(time.time()))\n",
    "print(currentTime)\n",
    "\n",
    "num = random.randint(0, 100) \n",
    "# .randint(x, y) 都为闭区间，\n",
    "# 总结：random.randint(0, 100)，指随机生成0～100之间的值\n",
    "print(\"随机数为:%i\\n\" %num)\n",
    "\n",
    "guess = input(\"请输入一个数字\\n\")\n",
    "\n",
    "    \n",
    "while guess.isnumeric():\n",
    "    if float(guess) > num:\n",
    "        print(\"大了\\n\")\n",
    "        guess = input(\"请输入一个数字\\n\")\n",
    "    elif float(guess) < num:\n",
    "        print(\"小了\\n\")\n",
    "        guess = input(\"请输入一个数字\\n\")\n",
    "    else:\n",
    "        print(\"恭喜你答案正确\")\n",
    "        break\n"
   ]
  }
 ],
 "metadata": {
  "kernelspec": {
   "display_name": "Python 3",
   "language": "python",
   "name": "python3"
  },
  "language_info": {
   "codemirror_mode": {
    "name": "ipython",
    "version": 3
   },
   "file_extension": ".py",
   "mimetype": "text/x-python",
   "name": "python",
   "nbconvert_exporter": "python",
   "pygments_lexer": "ipython3",
   "version": "3.6.3"
  }
 },
 "nbformat": 4,
 "nbformat_minor": 2
}
