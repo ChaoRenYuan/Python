{
 "cells": [
  {
   "cell_type": "code",
   "execution_count": 2,
   "metadata": {},
   "outputs": [
    {
     "data": {
      "text/plain": [
       "'\\n【基础1.1】 数据类型概述\\n\\nPython标准数据类型有：Numbers数字，String字符串， List列表，Tuple元组，Dict字典\\n\\n'"
      ]
     },
     "execution_count": 2,
     "metadata": {},
     "output_type": "execute_result"
    }
   ],
   "source": [
    "'''\n",
    "【基础1.1】 数据类型概述\n",
    "\n",
    "Python标准数据类型有：Numbers数字，String字符串， List列表，Tuple元组，Dict字典\n",
    "\n",
    "'''"
   ]
  },
  {
   "cell_type": "code",
   "execution_count": 4,
   "metadata": {},
   "outputs": [
    {
     "name": "stdout",
     "output_type": "stream",
     "text": [
      "<class 'int'> <class 'float'>\n"
     ]
    }
   ],
   "source": [
    "# Numbers数字分为：int整型，long长整型，float浮点型，complex复数\n",
    "\n",
    "n1 = 10 \n",
    "n2 = 10.0 \n",
    "print(type(n1), type(n2))\n",
    "\n",
    "# print()函数，用于输出/打印内容\n",
    "# type()函数，用于查看数据类型\n",
    "# 总结：n1为int整型，n2为float浮点型"
   ]
  },
  {
   "cell_type": "code",
   "execution_count": 11,
   "metadata": {},
   "outputs": [
    {
     "name": "stdout",
     "output_type": "stream",
     "text": [
      "hello world! <class 'str'>\n",
      "hahaha <class 'str'>\n",
      "What your name? <class 'str'>\n",
      "My name is chaoren. <class 'str'>\n"
     ]
    }
   ],
   "source": [
    "# String字符串由数字、字母、下划线组成的一串字符，用于表示文本的数据类型\n",
    "\n",
    "s1 = \"hello world!\"\n",
    "s2 = 'hahaha'\n",
    "s3 = '''What your name?'''\n",
    "s4 = \"\"\"My name is chaoren.\"\"\"\n",
    "print(s1, type(s1))\n",
    "print(s2, type(s2))\n",
    "print(s3, type(s3))\n",
    "print(s4, type(s4))\n",
    "\n",
    "# 总结：字符串要用英文标点符号表达，单引号('') 和双引号(\"\")一样，但是三引号(''''''或\"\"\"\"\"\")表示多行的字符串"
   ]
  },
  {
   "cell_type": "code",
   "execution_count": 33,
   "metadata": {},
   "outputs": [
    {
     "name": "stdout",
     "output_type": "stream",
     "text": [
      "True <class 'bool'>\n",
      "True\n",
      "True\n",
      "100\n"
     ]
    }
   ],
   "source": [
    "# bool布尔型：True, False, 用于做判断\n",
    "\n",
    "b1 = True\n",
    "print(b1, type(b1))\n",
    "\n",
    "print(True == 1)\n",
    "print(False == 0)\n",
    "print(True * 100)\n",
    "\n",
    "# 总结：True 实际值是1，False实际值是0"
   ]
  },
  {
   "cell_type": "code",
   "execution_count": 34,
   "metadata": {},
   "outputs": [
    {
     "name": "stdout",
     "output_type": "stream",
     "text": [
      "['chaoren', 1, 3.1415926, [1, 2, 3]] <class 'list'>\n"
     ]
    }
   ],
   "source": [
    "# List列表，支持字符，数字，字符串以包含列表（即嵌套），用[]标识，有序对象\n",
    "\n",
    "lis1 = [\"chaoren\", 1, 3.1415926, [1, 2, 3]]\n",
    "print(lis1, type(lis1))\n",
    "\n",
    "# 总结：List列表是有序的并且属性还可以再嵌套List"
   ]
  },
  {
   "cell_type": "code",
   "execution_count": 35,
   "metadata": {},
   "outputs": [
    {
     "name": "stdout",
     "output_type": "stream",
     "text": [
      "(1, 2, 3.1415927, 'hello') <class 'tuple'>\n"
     ]
    }
   ],
   "source": [
    "# Tuple元祖，用（）标识，有序对象，不能二次赋值，可以理解成不可变的列表（只读列表）\n",
    "\n",
    "tup1 = (1, 2, 3.1415927, 'hello')\n",
    "# tup1[0] = 2\n",
    "print(tup1, type(tup1))\n"
   ]
  },
  {
   "cell_type": "code",
   "execution_count": 36,
   "metadata": {},
   "outputs": [
    {
     "name": "stdout",
     "output_type": "stream",
     "text": [
      "{'name': 'chaoren', 'city': 'shenzhen', 'tel': 666666666} <class 'dict'>\n"
     ]
    }
   ],
   "source": [
    "# Dict 字典，用{}标识，由索引（key）和它对应的值（value）组成，无序对象\n",
    "\n",
    "dic1 = {\"name\": \"chaoren\", \"city\": \"shenzhen\", \"tel\": 666666666}\n",
    "print(dic1, type(dic1))\n"
   ]
  },
  {
   "cell_type": "code",
   "execution_count": 40,
   "metadata": {},
   "outputs": [
    {
     "name": "stdout",
     "output_type": "stream",
     "text": [
      "10.8 <class 'float'>\n",
      "10 <class 'int'>\n",
      "----------\n",
      "10 <class 'int'>\n",
      "10.0 <class 'float'>\n",
      "----------\n",
      "10.0 <class 'float'>\n",
      "10.0 <class 'str'>\n",
      "10.0 <class 'float'>\n"
     ]
    }
   ],
   "source": [
    "# 数组类型转换方法 先举int, float, str三者\n",
    "\n",
    "var1 = 10.8\n",
    "var2 = int(var1)\n",
    "print(var1, type(var1))\n",
    "print(var2, type(var2))\n",
    "print('----------')\n",
    "# int(x)函数：将x转为整数，不受数学“四舍五入”的影响，这里还是输出为10\n",
    "\n",
    "var3 = 10\n",
    "var4 = float(var3)\n",
    "print(var3, type(var3))\n",
    "print(var4, type(var4))\n",
    "print('----------')\n",
    "# float(x)函数：将x转为浮点数\n",
    "\n",
    "\n",
    "var5 = 10.0\n",
    "var6 = str(var5)\n",
    "var7 = float(var6)\n",
    "print(var5, type(var5))\n",
    "print(var6, type(var6))\n",
    "print(var7, type(var7))\n",
    "# str(x)函数，将x转为字符串"
   ]
  },
  {
   "cell_type": "code",
   "execution_count": null,
   "metadata": {
    "collapsed": true
   },
   "outputs": [],
   "source": []
  }
 ],
 "metadata": {
  "kernelspec": {
   "display_name": "Python 3",
   "language": "python",
   "name": "python3"
  },
  "language_info": {
   "codemirror_mode": {
    "name": "ipython",
    "version": 3
   },
   "file_extension": ".py",
   "mimetype": "text/x-python",
   "name": "python",
   "nbconvert_exporter": "python",
   "pygments_lexer": "ipython3",
   "version": "3.6.3"
  }
 },
 "nbformat": 4,
 "nbformat_minor": 2
}
