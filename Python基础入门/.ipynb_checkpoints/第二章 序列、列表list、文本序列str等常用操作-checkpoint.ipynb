{
 "cells": [
  {
   "cell_type": "code",
   "execution_count": null,
   "metadata": {
    "collapsed": true
   },
   "outputs": [],
   "source": [
    "'''\n",
    "【课程2.1】  序列通用操作\n",
    "\n",
    "序列分类：可变序列list，不可变序列tuple、str\n",
    "\n",
    "'''"
   ]
  },
  {
   "cell_type": "code",
   "execution_count": 5,
   "metadata": {},
   "outputs": [
    {
     "name": "stdout",
     "output_type": "stream",
     "text": [
      "True\n",
      "False\n"
     ]
    }
   ],
   "source": [
    "# 判断值是否属于序列\n",
    "\n",
    "lst = [1, 2, 3, 4, 5, 6]\n",
    "a, b = 1, 10\n",
    "print(a in lst) # a 是否在lst序列中，如果在，则返回True \n",
    "print(b in lst) # b 是否在lst序列中，如果不在，则返回False\n"
   ]
  },
  {
   "cell_type": "code",
   "execution_count": 8,
   "metadata": {},
   "outputs": [
    {
     "name": "stdout",
     "output_type": "stream",
     "text": [
      "[1, 2, 3, 'a', 'b', 'c']\n",
      "[1, 2, 3, 1, 2, 3, 1, 2, 3] ['a', 'b', 'c', 'a', 'b', 'c']\n"
     ]
    }
   ],
   "source": [
    "# 序列链接与重复\n",
    "\n",
    "lst1 = [1, 2, 3]\n",
    "lst2 = ['a', 'b', 'c']\n",
    "print(lst1 + lst2) # \"+\": 表达序列的链接\n",
    "print(lst1*3, lst2*2) # \"*\": 序列的重复"
   ]
  },
  {
   "cell_type": "code",
   "execution_count": 14,
   "metadata": {},
   "outputs": [
    {
     "name": "stdout",
     "output_type": "stream",
     "text": [
      "1 4 0\n",
      "0\n"
     ]
    }
   ],
   "source": [
    "# 下标索引\n",
    "\n",
    "lst3 = [1, 2, 3, 4, 5, 6, 7, 8, 9, 0]\n",
    "print(lst3[0], lst3[3], lst3[9]) \n",
    "# 索引从0开始，eg: lst[3]中，下标索引是3，指向lst3的第三个值'4'。\n",
    "# 即索引 0 1 2 3 对应序列lst3 -> 1 2 3 4\n",
    "\n",
    "print(lst3[-1]) # 索引-1代表最后一个值\n",
    "# print(lst[10]) # 这里一共有10个值，所以最大索引是9"
   ]
  },
  {
   "cell_type": "code",
   "execution_count": 23,
   "metadata": {},
   "outputs": [
    {
     "name": "stdout",
     "output_type": "stream",
     "text": [
      "[3, 4, 5]\n",
      "[1, 2, 3, 4, 5]\n",
      "[6, 7, 8, 9]\n",
      "[7, 8, 9, 0]\n"
     ]
    }
   ],
   "source": [
    "# 切片\n",
    "\n",
    "lst4 = [1, 2, 3, 4, 5, 6, 7, 8, 9, 0]\n",
    "print(lst4[2:5]) \n",
    "# 切片可以理解成列表的值区间，且是一个左闭右开区间\n",
    "# 可以这么理解：拿到索引2到索引5的值，即 3,4,5,6。其中因为公式定义为左闭右开，所以不取6。答案为[3, 4, 5]\n",
    "\n",
    "print(lst4[:5]) \n",
    "# 左边无索引值，代表左边从索引0开始。类似于lst4[0:5] 获得的值为1,2,3,4,5,6。\n",
    "# 其中因为公式定义为左闭右开，所以不取6\n",
    "\n",
    "print(lst4[5:-1]) \n",
    "# 意义：索引5的值～倒数最后一个值，即lst4[5:9]，拿到的值为6, 7, 8, 9, 0\n",
    "# 其中因为公式定义为左闭右开，所以不取0\n",
    "\n",
    "print(lst4[6:]) \n",
    "# 右边无索引值，代表以最后一个值结束，公式都为闭区间 即 lst4[6:9]。\n",
    "# 注意这里比较特殊，答案为 [7, 8, 9, 0]  ⚠️这是一个特殊的切片"
   ]
  },
  {
   "cell_type": "code",
   "execution_count": 37,
   "metadata": {},
   "outputs": [
    {
     "name": "stdout",
     "output_type": "stream",
     "text": [
      "[1, 3, 5]\n",
      "[1, 3, 5, 7, 9]\n"
     ]
    }
   ],
   "source": [
    "# 步长\n",
    "\n",
    "lst5 = [1, 2, 3, 4, 5, 6, 7, 8, 9, 0]\n",
    "print(lst5[0:5:2]) \n",
    "# List[x:y:z] 意义：索引x ～ 索引y，以z为步长\n",
    "# 可以这么理解：运用切片知识，lst5[0:5]左闭右开，即 [1, 2, 3, 4, 5]\n",
    "# 以2为步长: [1, 2, 3, 4, 5] 我们就需要取索引0和索引2索引4的值，依次以2的倍数增长...\n",
    "# 因为lst5[0:5] = [1, 2, 3, 4, 5] 没有索引6的值，所以不再倍数增长。lst5[0:5:2]最终答案为 [1, 3, 5]\n",
    "\n",
    "print(lst5[::2]) \n",
    "# 意义：以2为步长，从第一个值开始到最后一个值截取lst5数据。\n",
    "# 由于右边是: 所以⚠️这是一个特殊的切片 这里都是闭区间取值 即lst5[::] = [1, 2, 3, 4, 5, 6, 7, 8, 9, 0]\n",
    "# 以2为步长：根据上面的解释马上可得出答案为：[1, 3, 5, 7, 9]"
   ]
  },
  {
   "cell_type": "code",
   "execution_count": 58,
   "metadata": {},
   "outputs": [
    {
     "name": "stdout",
     "output_type": "stream",
     "text": [
      "12\n",
      "22 0 68\n",
      "10\n",
      "0\n"
     ]
    }
   ],
   "source": [
    "# 序列的基本内置全局函数\n",
    "\n",
    "lst6 = [1, 2, 3, 4, 5, 6, 7, 8, 9, 0, 22, 1]\n",
    "print(len(lst6)) # 计算列表元素个数\n",
    "print(max(lst6), min(lst6), sum(lst6)) # 返回列表的最大值、最小值、求和。这三个函数都只针对\"数字的list\"\n",
    "\n",
    "print(lst6.index(22))\n",
    "print(lst6.index(1))\n",
    "# .index(obj)方法：从列表中找出某个值第一个匹配项的索引位置 \n",
    "# eg：lst6[10] = 22, 则lst6.index(22) = 10, 但是如果你输入lst6.index(1), 答案是0\n",
    "# 因为所匹配的值为 “第一个匹配项的索引位置”"
   ]
  },
  {
   "cell_type": "code",
   "execution_count": null,
   "metadata": {
    "collapsed": true
   },
   "outputs": [],
   "source": [
    "'''\n",
    "小作业\n",
    "① x=[1,2,3,1,[1],[1,1]]，请问x.count(1)为多少？\n",
    "② x=[1,2,5,1,“1”，“1”]，请问x.count(1)为多少？\n",
    "③ y=[45,67,89,45,34,22,1],请问y.index(45)等于多少？\n",
    "④ 创建一个列表，用type函数判断list[1]和list[2:5]的区别\n",
    "'''"
   ]
  },
  {
   "cell_type": "code",
   "execution_count": 73,
   "metadata": {},
   "outputs": [
    {
     "name": "stdout",
     "output_type": "stream",
     "text": [
      "2\n"
     ]
    }
   ],
   "source": [
    "# ① x=[1,2,3,1,[1],[1,1]]，请问x.count(1)为多少？\n",
    "x = [1, 2, 3, 1, [1], [1,1]]\n",
    "print(x.count(1))\n",
    "# 这里调用的方法解释下：x.count(i) 代表x列表中 i 的次数\n",
    "\n",
    "\n",
    "\n",
    "# ② x=[1,2,5,1,“1”，“1”]，请问x.count(1)为多少？\n",
    "x = [1, 2, 5, 1, \"1\", \"1\"]\n",
    "print(x.count(1))\n",
    "# 总结：不可被 \"1\" 误导，因为 \"1\"是字符串 和 1整型 是不一样的\n",
    "\n",
    "\n",
    "\n",
    "# ③ y=[45,67,89,45,34,22,1],请问y.index(45)等于多少？\n",
    "y = [45, 67, 89, 45, 34, 22, 1]\n",
    "print(y.index(45))\n",
    "# 总结：.index(obj)方法 -> 从列表中找出某个值第一个匹配项的索引位置 ,记住是第一个匹配项的索引位置\n",
    "\n",
    "\n",
    "\n",
    "# ④ 创建一个列表，用type函数判断list[1]和list[2:5]的区别\n",
    "lst = [0, 1, 2, 3, 4, 5, 6, 7, 8, 9]\n",
    "print(lst[1], type(lst[1]))\n",
    "print(lst[2:5], type(lst[2:5]))\n",
    "# 总结：一个是整型，一个是列表\n"
   ]
  },
  {
   "cell_type": "code",
   "execution_count": 1,
   "metadata": {},
   "outputs": [
    {
     "data": {
      "text/plain": [
       "'\\n【课程2.2】  列表list常用操作\\n\\n序列是Python中最基本的数据结构，它支持字符，数字，字符串甚至可以包含列表（即嵌套）\\n列表用 [ ] 标识，是 python 最通用的复合数据类型。\\n列表中值的切片也可以用到变量 [头下标:尾下标] ，就可以截取相应的列表，从左到右索引默认 0 开始，从右到左索引默认 -1 开始，下标可以为空表示取到头或尾。\\n加号 + 是列表连接运算符，星号 * 是重复操作\\n\\n'"
      ]
     },
     "execution_count": 1,
     "metadata": {},
     "output_type": "execute_result"
    }
   ],
   "source": [
    "'''\n",
    "【课程2.2】  列表list常用操作\n",
    "\n",
    "序列是Python中最基本的数据结构，它支持字符，数字，字符串甚至可以包含列表（即嵌套）\n",
    "列表用 [ ] 标识，是 python 最通用的复合数据类型。\n",
    "列表中值的切片也可以用到变量 [头下标:尾下标] ，就可以截取相应的列表，从左到右索引默认 0 开始，从右到左索引默认 -1 开始，下标可以为空表示取到头或尾。\n",
    "加号 + 是列表连接运算符，星号 * 是重复操作\n",
    "\n",
    "'''"
   ]
  },
  {
   "cell_type": "code",
   "execution_count": 8,
   "metadata": {},
   "outputs": [
    {
     "name": "stdout",
     "output_type": "stream",
     "text": [
      "143 43 43\n",
      "[1, 2, 3, 1, 2, 3, 1, 2, 3]\n",
      "[10, 101, 102]\n"
     ]
    }
   ],
   "source": [
    "# 列表的特征\n",
    "\n",
    "lst1 = [1, 2, 3, 'a', 'b', 'c', [1,2,3]]\n",
    "# 可包含任意类型的对象：数值、字符串、列表等\n",
    "\n",
    "lst2 = [143, 56, 894, 67, 43]\n",
    "print(lst2[0],lst2[4],lst2[-1])\n",
    "# 通过下标索引访问序列中的值 → 序列的顺序是不能改变的,通过索引来定位列表的元素\n",
    "\n",
    "lst3 = [1, 2, 3]\n",
    "lst3 = lst3 * 3\n",
    "print(lst3)\n",
    "# 可随意变换列表长度，相当于随意指定新的列表\n",
    "\n",
    "lst4 = [1, 2, ['a','b']]\n",
    "# 可嵌套\n",
    "\n",
    "lst5 = [100, 101, 102]\n",
    "lst5[0] = 10\n",
    "print(lst5)\n",
    "# 可原位改变"
   ]
  },
  {
   "cell_type": "code",
   "execution_count": null,
   "metadata": {
    "collapsed": true
   },
   "outputs": [],
   "source": [
    "'''\n",
    "小作业\n",
    "① [1,2,3]和[“1”, “2”, “3”]什么区别\n",
    "② 创建一个列表，包括3个人的数学成绩100，89,78\n",
    "③ 创建一个列表，包括5个中国城市名称\n",
    "④ 现有一个列表name = ['小明', '小红'] ,增加“团支书”的名字上去\n",
    "⑤ 现有一个列表m=[3.1,5.5,4,3,77,8]，用print分别输出第2、4个元素\n",
    "'''"
   ]
  },
  {
   "cell_type": "code",
   "execution_count": 26,
   "metadata": {},
   "outputs": [
    {
     "name": "stdout",
     "output_type": "stream",
     "text": [
      "[1, 2, 3] <class 'int'> <class 'list'>\n",
      "['1', '2', '3'] <class 'str'> <class 'list'>\n",
      "['深圳', '广州', '上海', '北京', '成都']\n",
      "['小明', '小红', '团支书']\n",
      "4 77\n"
     ]
    }
   ],
   "source": [
    "# ① [1,2,3]和[“1”, “2”, “3”]什么区别\n",
    "x1 = [1, 2, 3]\n",
    "x2 = [\"1\", \"2\", \"3\"]\n",
    "print(x1, type(x1[0]), type(x1))\n",
    "print(x2, type(x2[0]), type(x2))\n",
    "# 总结：区别在于list列表里面的元素是不同的，一个是int型，一个是str型\n",
    "\n",
    "\n",
    "# ② 创建一个列表，包括3个人的数学成绩100，89,78\n",
    "x3 = [100, 89, 78] # 不多说\n",
    "\n",
    "\n",
    "# ③ 创建一个列表，包括5个中国城市名称\n",
    "x4 = [\"深圳\", \"广州\", \"上海\", \"北京\", \"成都\"]\n",
    "print(x4)\n",
    "\n",
    "\n",
    "# ④ 现有一个列表name = ['小明', '小红'] ,增加“团支书”的名字上去\n",
    "name = ['小明', '小红']\n",
    "name.append('团支书')\n",
    "print(name)\n",
    "\n",
    "# ⑤ 现有一个列表m=[3.1,5.5,4,3,77,8]，用print分别输出索引2、4的值\n",
    "m = [3.1, 5.5, 4, 3, 77, 8]\n",
    "print(m[2], m[4])"
   ]
  },
  {
   "cell_type": "code",
   "execution_count": 28,
   "metadata": {},
   "outputs": [
    {
     "name": "stdout",
     "output_type": "stream",
     "text": [
      "range(0, 5) <class 'range'>\n",
      "[0, 1, 2, 3, 4]\n"
     ]
    }
   ],
   "source": [
    "#  列表与生成器\n",
    "\n",
    "print(range(5), type(range(5)))\n",
    "# range()是生成器，指向一个范围\n",
    "# range(5)代表指向了0, 1, 2, 3, 4这几个值\n",
    "# range(2, 5)代表了指向了2, 3, 4这几个值， 注意这里不是使用:\n",
    "# range(0, 10, 2) 代表指向了0, 2, 4, 6, 8这几个值，最后的2代表步长\n",
    "\n",
    "lst = list(range(5))\n",
    "print(lst)\n",
    "# 通过list()函数生成列表"
   ]
  },
  {
   "cell_type": "code",
   "execution_count": null,
   "metadata": {
    "collapsed": true
   },
   "outputs": [],
   "source": [
    "'''\n",
    "小作业\n",
    "① range()生成的是不是都是整数?\n",
    "② 创建一个range，用type()函数查看其类型\n",
    "③ 哪种方式书写正确：x=range(5), x=range(4:7), x=range(4,8)\n",
    "④ 创建一个range，用print输出其值，看一下输出结果\n",
    "⑤ 用list()函数，将一个range范围变为列表\n",
    "⑥ m=range(10),请问m[2],m[-1],m[5]是多少\n",
    "'''"
   ]
  },
  {
   "cell_type": "code",
   "execution_count": 38,
   "metadata": {},
   "outputs": [
    {
     "name": "stdout",
     "output_type": "stream",
     "text": [
      "range(0, 2) <class 'range'>\n",
      "range(0, 5)\n",
      "range(4, 8)\n",
      "range(0, 3)\n",
      "[0, 1, 2]\n",
      "2 9 5\n"
     ]
    }
   ],
   "source": [
    "# ① range()生成的是不是都是整数?\n",
    "# print(range(5.2)) 非特殊情况下range()函数生成的都是整数\n",
    "\n",
    "\n",
    "# ② 创建一个range，用type()函数查看\n",
    "x = range(2)\n",
    "print(x, type(x))\n",
    "\n",
    "\n",
    "# ③ 哪种方式书写正确：x=range(5), x=range(4:7), x=range(4,8)\n",
    "x = range(5)\n",
    "print(x)\n",
    "# x = range(4:7) # 这里是错误的\n",
    "# print(x)\n",
    "x = range(4,8)\n",
    "print(x)\n",
    "\n",
    "\n",
    "# ④ 创建一个range，用print输出其值，看一下输出结果\n",
    "x1 = range(3)\n",
    "print(x1)\n",
    "\n",
    "\n",
    "# ⑤ 用list()函数，将一个range范围变为列表\n",
    "x2 = list(range(3))\n",
    "print(x2)\n",
    "\n",
    "\n",
    "# ⑥ m=range(10),请问m[2],m[-1],m[5]是多少\n",
    "m = range(10)\n",
    "print(m[2], m[-1], m[5])\n",
    "# 总结：range(10) 可以根据索引取元素值，但输出range(10),没有具体的罗列值"
   ]
  },
  {
   "cell_type": "code",
   "execution_count": 46,
   "metadata": {},
   "outputs": [
    {
     "name": "stdout",
     "output_type": "stream",
     "text": [
      "[0, 1, 2, 3, 4, 5, 6, 7, 8, 9, 'hello']\n",
      "[0, 1, 2, 3, 4, 5, 6, 7, 8, 9, 'hello', ['a', 'b', 'c']]\n",
      "[0, 1, 2, 3, 4, 5, 6, 7, 8, 9, 'hello', ['a', 'b', 'c'], 'a', 'b', 'c']\n"
     ]
    }
   ],
   "source": [
    "# 可变列表list常用操作 - 添加元素\n",
    "\n",
    "lst = list(range(10))\n",
    "lst.append(\"hello\")\n",
    "print(lst)\n",
    "# list.append() 添加元素\n",
    "\n",
    "lst.append(['a', 'b', 'c'])\n",
    "print(lst)\n",
    "lst.extend(['a', 'b', 'c'])\n",
    "print(lst)\n",
    "# lst.extend(a)\n",
    "# print(lst)\n",
    "# 总结：添加多个元素用.extend()方法,用新列表扩展原来的列表 注意和append()方法的区别\n",
    "# 这里要强调下list.extend()方法适用于扩展列表，不适用于扩展非列表的元素"
   ]
  },
  {
   "cell_type": "code",
   "execution_count": 52,
   "metadata": {},
   "outputs": [
    {
     "name": "stdout",
     "output_type": "stream",
     "text": [
      "['Jack', 'Tom', 'Tracy', 'Alex', 'White']\n",
      "['Jack', 'Tom', 'Tracy']\n",
      "[]\n"
     ]
    }
   ],
   "source": [
    "# 可变列表list常用操作 - 删除元素\n",
    "\n",
    "lst = ['Jack', 'Jack', 'Tom', 'Tracy', 'Alex', 'White']\n",
    "lst.remove(\"Jack\")\n",
    "print(lst)\n",
    "# 总结：.remove方法：移除的是列表中某个值的第一个匹配项\n",
    "\n",
    "\n",
    "del lst[3:5]\n",
    "print(lst)\n",
    "# del语句：删除list的相应索引值\n",
    "\n",
    "\n",
    "lst.clear()\n",
    "print(lst)\n",
    "# clear()方法：移除所有值\n",
    "\n"
   ]
  },
  {
   "cell_type": "code",
   "execution_count": 56,
   "metadata": {},
   "outputs": [
    {
     "name": "stdout",
     "output_type": "stream",
     "text": [
      "[0, 1, 2, 3, 4, 5, 6, 7, 8, 9]\n",
      "[0, 1, 2, 'a', 3, 4, 5, 6, 7, 8, 9]\n",
      "[0, 1, 2, 'a', 3, [1, 2, 3], 4, 5, 6, 7, 8, 9]\n"
     ]
    }
   ],
   "source": [
    "# 可变列表list常用操作 - 插入元素\n",
    "\n",
    "lst = list(range(10))\n",
    "print(lst)\n",
    "lst.insert(3, \"a\")\n",
    "print(lst)\n",
    "# x.insert(i,m)方法：在索引i处插入m\n",
    "\n",
    "lst.insert(5, [1,2,3])\n",
    "print(lst)\n",
    "# 插入一个列表元素"
   ]
  },
  {
   "cell_type": "code",
   "execution_count": 61,
   "metadata": {},
   "outputs": [
    {
     "name": "stdout",
     "output_type": "stream",
     "text": [
      "[0, 1, 'hello', 3, 4, 5, 6, 7, 8, 9] [0, 1, 'hello', 3, 4, 5, 6, 7, 8, 9]\n",
      "[0, 1, 2, 3, 4, 5, 6, 7, 8, 9] [0, 1, 'hello', 3, 4, 5, 6, 7, 8, 9]\n"
     ]
    }
   ],
   "source": [
    "# 可变列表list常用操作 - 复制\n",
    "\n",
    "lst = list(range(10))\n",
    "lst1 = lst\n",
    "lst1[2] = 'hello'\n",
    "print(lst, lst1)\n",
    "# lst, lst1指向同一个列表（地址）。即 lst1改变，相应的指向同一个列表（地址）的lst也会改变\n",
    "\n",
    "\n",
    "lst = list(range(10))\n",
    "lst2 = lst.copy()\n",
    "lst2[2] = 'hello'\n",
    "print(lst, lst2)\n",
    "# list.copy()方法：复制一个新的列表，lst，lst2指向两个列表（虽然两个列表值相同）。也就是我们所说的深复制\n"
   ]
  },
  {
   "cell_type": "code",
   "execution_count": 65,
   "metadata": {},
   "outputs": [
    {
     "name": "stdout",
     "output_type": "stream",
     "text": [
      "[1, 12, 32, 45, 66, 95] ['asdf', 'b', 'dddd']\n",
      "[95, 66, 45, 32, 12, 1] ['dddd', 'b', 'asdf']\n",
      "[95, 66, 45, 32, 12, 1] [1, 12, 32, 45, 66, 95, 'hello']\n"
     ]
    }
   ],
   "source": [
    "# 可变列表list常用操作 - 排序\n",
    "\n",
    "lst1 = [12, 45, 32, 1, 95, 66]\n",
    "lst2 = ['asdf', 'dddd', 'b']\n",
    "lst1.sort()\n",
    "lst2.sort()\n",
    "print(lst1, lst2)\n",
    "# 默认升序排序/字母顺序\n",
    "\n",
    "lst1.sort(reverse = True)\n",
    "lst2.sort(reverse = True)\n",
    "print(lst1, lst2)\n",
    "# 参数reverse: 反向排序，针对数字。 \n",
    "# 这里list.sort(reverse = True)的使用：光标定位到lst1.sort()后面，然后用快捷键shift + tab发现这个文档，默认为list.sort(reverse = False)\n",
    "\n",
    "\n",
    "lst3 = sorted(lst1)\n",
    "lst3.append('hello')\n",
    "print(lst1, lst3)\n",
    "# 函数sorted():排序并复制"
   ]
  },
  {
   "cell_type": "code",
   "execution_count": 77,
   "metadata": {},
   "outputs": [
    {
     "name": "stdout",
     "output_type": "stream",
     "text": [
      "1997 ('a', 'b')\n",
      "4\n",
      "('physics', 'chemistry', 1997, 2000, 1, 2, 3, 4, 5)\n",
      "(50, 50, 50)\n",
      "5 1\n",
      "(0, 1, 2, 3, 4, 5, 6, 7, 8, 9) <class 'tuple'>\n"
     ]
    }
   ],
   "source": [
    "# 讲一讲元祖tuple ：不可变的“列表”\n",
    "\n",
    "tup1 = ('physics', 'chemistry', 1997, 2000)\n",
    "tup2 = (1, 2, 3, 4, 5)\n",
    "tup3 = 'a', 'b', 'c', 'd' # 可以不加括号\n",
    "tup4 = (50,) # 元祖中只包含一个元素时，需要在元素后面添加逗号\n",
    "print(tup1[2], tup3[:2]) # 索引，切片和list一样\n",
    "\n",
    "\n",
    "del tup3 # ⚠️元祖不能单独删除内部元素（不可变性），但可以del语句来删除整个元祖，要么不删，要删就要删除全部\n",
    "# print(tup3)\n",
    "\n",
    "print(len(tup1))\n",
    "print(tup1 + tup2)\n",
    "print(tup4 * 3)\n",
    "print(max(tup2), min(tup2))\n",
    "# 序列通用的函数元祖也可用\n",
    "\n",
    "lst = list(range(10))\n",
    "tup5 = tuple(lst)\n",
    "print(tup5, type(tup5))\n",
    "# 强转类型"
   ]
  },
  {
   "cell_type": "code",
   "execution_count": null,
   "metadata": {
    "collapsed": true
   },
   "outputs": [],
   "source": [
    "'''\n",
    "小作业\n",
    "① 分别用append、extend方法，给一个序列增加一个元素1\n",
    "② x.append([1,2,3])和x.extend([1,2,3])的区别\n",
    "③ x.append('abc')和x.extend('abc')的区别\n",
    "④ 创建某一列表，在列表中间插入一个值\n",
    "⑤ 创建一个随机数值列表，按照降序排列\n",
    "⑥ sort()和sorted()什么区别\n",
    "⑦ s=[32,45,63,12,45,89,77], s.remove(45), del s[2], s.pop(4)分别什么区别\n",
    "⑧ m=[4,5,6,73,4,4,4,4,2]，删除2，删除所有的4\n",
    "'''"
   ]
  },
  {
   "cell_type": "code",
   "execution_count": 229,
   "metadata": {},
   "outputs": [
    {
     "name": "stdout",
     "output_type": "stream",
     "text": [
      "['a', 'b', 'c', 1]\n",
      "['a', 'b', 'c', 1]\n",
      "[0, [1, 2, 3]]\n",
      "[0, 1, 2, 3]\n",
      "[0, 'abc']\n",
      "[0, 'a', 'b', 'c']\n",
      "[1, 456, 2]\n",
      "[10, 9, 7, 5, 4, 4, 3, 2, 1, 1]\n",
      "[1, 2, 3] [1, 2, 3]\n",
      "[32, 63, 12, 45, 89, 77]\n",
      "[32, 45, 12, 45, 89, 77]\n",
      "45\n",
      "[4, 5, 6, 73, 4, 4, 4, 4]\n",
      "[5, 6, 73]\n"
     ]
    }
   ],
   "source": [
    "# ① 分别用append、extend方法，给一个序列增加一个元素1\n",
    "lst = ['a', 'b', 'c']\n",
    "lst.append(1)\n",
    "print(lst)\n",
    "# lst.extend(1) 记得extend()方法针对列表\n",
    "\n",
    "lst = ['a', 'b', 'c'] # 复原\n",
    "lst1 = [1]\n",
    "lst.extend(lst1)\n",
    "print(lst)\n",
    "\n",
    "\n",
    "\n",
    "# ② x.append([1,2,3])和x.extend([1,2,3])的区别\n",
    "x = [0]\n",
    "x.append([1,2,3])\n",
    "print(x)\n",
    "\n",
    "\n",
    "x = [0] # 复原\n",
    "x.extend([1,2,3])\n",
    "print(x)\n",
    "# extend()方法，是将列表中的元素一个个往里头添加\n",
    "\n",
    "\n",
    "\n",
    "# ③ x.append('abc')和x.extend('abc')的区别\n",
    "x = [0]\n",
    "x.append('abc')\n",
    "print(x)\n",
    "\n",
    "x = [0]\n",
    "x.extend('abc')\n",
    "print(x)\n",
    "#  extend()方法，是将字符串中的字符一个个往里头添加\n",
    "\n",
    "\n",
    "# ④ 创建某一列表，在列表中间插入一个值\n",
    "lst = [1, 2]\n",
    "lst.insert(1, 456)\n",
    "print(lst)\n",
    "\n",
    "\n",
    "\n",
    "# ⑤ 创建一个随机数值列表，按照降序排列\n",
    "name = []\n",
    "for i in range(10):\n",
    "        name.append(random.randint(0, 10))\n",
    "\n",
    "name.sort(reverse = True)\n",
    "print (name)\n",
    "# 总结：random.randint(0, 10)，指随机生成0～10之间的值\n",
    "\n",
    "\n",
    "\n",
    "# ⑥ sort()和sorted()什么区别\n",
    "lst = [1, 3, 2]\n",
    "lst.sort()\n",
    "lst1 = sorted(lst)\n",
    "print(lst, lst1)\n",
    "# sorted():排序并复制\n",
    "\n",
    "\n",
    "# ⑦ s=[32,45,63,12,45,89,77], s.remove(45), del s[2], s.pop(4)分别什么区别\n",
    "s = [32, 45, 63, 12, 45, 89, 77]\n",
    "s.remove(45)\n",
    "print(s)\n",
    "# .remove方法：移除的是列表中某个值的第一个匹配项\n",
    "\n",
    "s = [32, 45, 63, 12, 45, 89, 77]\n",
    "del s[2]\n",
    "print(s)\n",
    "# del: 删除list的相应索引值\n",
    "\n",
    "s = [32, 45, 63, 12, 45, 89, 77]\n",
    "print(s.pop(4))\n",
    "# 该方法返回从列表中移除的元素对象\n",
    "\n",
    "\n",
    "\n",
    "# ⑧ m=[4,5,6,73,4,4,4,4,2]，删除2，删除所有的4\n",
    "m = [4, 5, 6, 73, 4, 4, 4, 4, 2]\n",
    "m.remove(2)\n",
    "print(m)\n",
    "\n",
    "m1 = []\n",
    "for i in m:\n",
    "    if i != 4:\n",
    "        m1.append(i)\n",
    "        \n",
    "print(m1)\n",
    "\n",
    "# 这里有很多方法可以实现，其他方法对新手还不是很友好，故我用这个最容易理解的方法展示出来\n",
    "\n"
   ]
  },
  {
   "cell_type": "code",
   "execution_count": null,
   "metadata": {
    "collapsed": true
   },
   "outputs": [],
   "source": [
    "'''\n",
    "【课程2.3】  文本序列str常用操作\n",
    "\n",
    "字符串是 Python 中最常用的数据类型。我们可以使用引号('或\")来创建字符串\n",
    "字符串也是序列：文本序列\n",
    "\n",
    "'''"
   ]
  },
  {
   "cell_type": "code",
   "execution_count": 3,
   "metadata": {},
   "outputs": [
    {
     "name": "stdout",
     "output_type": "stream",
     "text": [
      "abc abc my name is \"zorn\"\n",
      "hello! how are you? \n",
      "        I'm fine, thank you.\n"
     ]
    }
   ],
   "source": [
    "# 字符串引号\n",
    "\n",
    "str1 = 'abc'\n",
    "str2 = \"abc\"\n",
    "str3 = 'my name is \"zorn\"' # zorn 是我的英文名，这里介绍下\n",
    "print(str1, str2, str3)\n",
    "# 双引号单引号无区别，但文本中有引导号的时候要相互交替使用\n",
    "\n",
    "str4 = '''hello! how are you? \n",
    "        I'm fine, thank you.'''\n",
    "# 需要多行字符串的时候用三引号 '''''' 或者 \"\"\"\"\"\"\n",
    "print(str4)\n"
   ]
  },
  {
   "cell_type": "code",
   "execution_count": 8,
   "metadata": {},
   "outputs": [
    {
     "name": "stdout",
     "output_type": "stream",
     "text": [
      "' \"\n",
      "hello\n",
      "how do you do?\n",
      "\\\n"
     ]
    }
   ],
   "source": [
    "# 转义字符：\\\n",
    "\n",
    "print('\\'', '\\\"')  # \\',\\\" ：分别输出单引号，双引号\n",
    "print('hello\\nhow do you do?')  # \\n：空行\n",
    "print('\\\\')  # 输出\\，所以文件路径用“/”或者“\\\\”\n"
   ]
  },
  {
   "cell_type": "code",
   "execution_count": 19,
   "metadata": {},
   "outputs": [
    {
     "name": "stdout",
     "output_type": "stream",
     "text": [
      "True\n",
      "我很酷是的\n",
      "handsome handsome handsome handsome \n",
      "c g\n",
      "ab\n",
      "aceg\n",
      "6\n",
      "st长度为： 7\n"
     ]
    }
   ],
   "source": [
    "# 序列通用功能\n",
    "\n",
    "print('a' in 'abc') # in/not in : 判断是否存在\n",
    "print('我很酷' + '是的') # 文本链接\n",
    "print('handsome ' * 4)\n",
    "\n",
    "st = 'abcdefg'\n",
    "print(st[2], st[-1]) \n",
    "print(st[:2])\n",
    "print(st[::2])\n",
    "# 跟list列表表达一致 索引、切片、步长\n",
    "\n",
    "print(st.index('g')) # .index(x)方法：x代表st里的元素，st.index(x) 返回一个索引值\n",
    "print('st长度为：', len(st)) # 计算字符串长度（思考这里能否把逗号换为\"+\"） 这里是不能相加的，一个是字符串一个整型，故不能相加\n"
   ]
  },
  {
   "cell_type": "code",
   "execution_count": 40,
   "metadata": {},
   "outputs": [
    {
     "name": "stdout",
     "output_type": "stream",
     "text": [
      "I'm handsome handsome!\n",
      "I'm ugly ugly!\n",
      "hehehaha\n",
      "['poi01', '116.446238', '39.940166']\n",
      "poi01-116.446238-39.940166\n",
      "True False\n",
      "ABDEAJC KLM\n",
      "abdeajc klm\n",
      "AbdeaJC Klm\n",
      "Abdeajc klm\n",
      "False\n",
      "False\n",
      "avd\n"
     ]
    }
   ],
   "source": [
    "# 字符串常用功能\n",
    "\n",
    "st = \"I'm handsome handsome!\"\n",
    "st2 = st.replace('handsome', 'ugly') # .replace(x, y): x是指st里面的值，y是新值，替代x\n",
    "print(st)\n",
    "print(st2)\n",
    "st = 'hahahaha'\n",
    "st2 = st.replace('ha', 'he', 2) # .replace(x, y, z): 其中z说的是要替代的个数\n",
    "print(st2)\n",
    "# 总结：可以这么理解 ->      str.replace(old,new,count)：修改字符串，count：更换几个\n",
    "\n",
    "\n",
    "st = \"poi01,116.446238,39.940166\"\n",
    "lst = st.split(',')\n",
    "print(lst)\n",
    "# str.split(obj)：拆分字符串，生成列表\n",
    "\n",
    "lst = ['poi01', '116.446238', '39.940166']\n",
    "m = '-'\n",
    "st = m.join(lst)\n",
    "print(st)\n",
    "# str.join()：连接字符串，对象为列表\n",
    "\n",
    "\n",
    "st = 'abcdefg'\n",
    "print(st.startswith('a'), st.endswith('f'))\n",
    "# str.startswith(“a”)  判断是否以“a”开头；str.endswith (“b”)  判断是否以“b”结尾\n",
    "\n",
    "st = 'aBDEAjc kLM'\n",
    "print(st.upper())  # 全部大写\n",
    "print(st.lower())  # 全部小写\n",
    "print(st.swapcase())  # 大小写互换\n",
    "print(st.capitalize())  # 首字母大写\n",
    "\n",
    "st = '1234567a'\n",
    "print(st.isnumeric())  # 如果 string 只包含数字则返回 True,否则返回 False.\n",
    "\n",
    "st = 'DNVAK2'\n",
    "print(st.isalpha()) # 如果 string 至少有一个字符并且所有字符都是字母则返回 True,否则返回 False\n",
    "\n",
    "st = 'avd   '\n",
    "print(st.rstrip())  # 删除字符末尾的空格"
   ]
  },
  {
   "cell_type": "code",
   "execution_count": 43,
   "metadata": {},
   "outputs": [
    {
     "name": "stdout",
     "output_type": "stream",
     "text": [
      "Zorn is 好人\n",
      "this is 4\n",
      "this is hehe\n",
      "this is 4.200000\n"
     ]
    }
   ],
   "source": [
    "# 格式化字符：在字符串中插入变量\n",
    "\n",
    "name = \"Zorn\"\n",
    "truth = '%s is 好人' %name\n",
    "print(truth)\n",
    "# %s 表示我们这里要插入一个变量（字符串），%name代表这里我们插入name → 所以，两个%解决问题\n",
    "\n",
    "x = 4   \n",
    "y = \"hehe\"  \n",
    "z = 4.2\n",
    "print(\"this is %i\" %x)\n",
    "print(\"this is %s\" %y)\n",
    "print(\"this is %f\" %z)\n",
    "# %s的s有什么含义：%s %z %f都是格式化字符串，s/i/f分别代表插入字符串的源数据类型：字符型/整型/浮点型"
   ]
  },
  {
   "cell_type": "code",
   "execution_count": 59,
   "metadata": {},
   "outputs": [
    {
     "name": "stdout",
     "output_type": "stream",
     "text": [
      "pi is 3.141593\n",
      "pi is 3.14\n",
      "pi is 10\n",
      "pi is 11\n",
      "have fun +100\n",
      "have fun -100.00\n",
      "have fun  100\n",
      "have fun +100\n",
      "have fun -0.01\n",
      "have fun 1.23e+02\n",
      "have fun 1.2312E+02\n",
      "have fun 123.123\n",
      "have fun 1.2\n"
     ]
    }
   ],
   "source": [
    "# 格式化字符：数字格式化的那些坑\n",
    "\n",
    "m = 3.1415926 \n",
    "print(\"pi is %f\"  %m)\n",
    "print(\"pi is %.2f\" %m)\n",
    "# 我只想输出2位小数:%.2f，⚠️此处是四舍五入！\n",
    "\n",
    "m = 10.6\n",
    "print(\"pi is %i\"  %m) # 区别：⚠️%i 不四舍五入\n",
    "print(\"pi is %.0f\" %m) # ⚠️此处是四舍五入！直接切掉小数部分\n",
    "\n",
    "m = 100 \n",
    "print(\"have fun %+i\"  %m)\n",
    "print(\"have fun %.2f\"  %-m)\n",
    "# 显示正号，负号根据数字直接显示\n",
    "\n",
    "m = 100 \n",
    "print(\"have fun % i\"  %m)\n",
    "print(\"have fun % +i\"  %m)\n",
    "print(\"have fun % .2f\"  %-0.01)\n",
    "# 加空格， 空格 和 +    正好只能显示一个\n",
    "\n",
    "m = 123.123123123 \n",
    "print(\"have fun %.2e\"  %m)\n",
    "print(\"have fun %.4E\"  %m)\n",
    "# 科学计数法 %e  %E\n",
    "\n",
    "m1 = 123.123123123\n",
    "m2 = 1.2\n",
    "print(\"have fun %g\"  %m1)\n",
    "print(\"have fun %g\"  %m2)\n",
    "# 小数位数少的时候自动识别用浮点数，数据复杂的时候自动识别用科学计数法"
   ]
  },
  {
   "cell_type": "code",
   "execution_count": 65,
   "metadata": {},
   "outputs": [
    {
     "name": "stdout",
     "output_type": "stream",
     "text": [
      "User ID: root\n",
      "a 呵呵 b\n",
      "abc \n",
      " abca \n",
      "\n",
      "我的工作是设计\n",
      "abcdef abc{}\n",
      "4.123000 \n",
      " 4.12 \n",
      " 4.123000e+00 \n",
      " 100 \n",
      " 412.300000% \n",
      " 10\n"
     ]
    }
   ],
   "source": [
    "# 更强大的格式化方法.format\n",
    "\n",
    "print(\"User ID: {0}\".format(\"root\"))\n",
    "print(\"{} 呵呵 {}\".format(\"a\",\"b\"))\n",
    "# {} 这里代表占位符，其中可以有数字也可以没有\n",
    "\n",
    "print(\"{}{}{}\".format('a','b','c'),'\\n',\n",
    "     \"{0}{1}{2}{0}\".format('a','b','c'),'\\n')\n",
    "#print(\"{}{}{}{}\".format('a','b','c'))  这里会报错因为{}的数量超过了后面所要显示的数量\n",
    "# {}和{0}的区别:都是占位符，后者有了明确指定\n",
    "\n",
    "print(\"我的工作是{work}\".format(work = '设计'))\n",
    "# 也可以用变量来指示\n",
    "\n",
    "x = \"abc{}\"\n",
    "a = x.format(\"def\")\n",
    "print(a, x)\n",
    "# .format()生成新的值吗？？\n",
    "\n",
    "print(\"{:f}\".format(4.123),'\\n',\n",
    " \"{:.2f}\".format(4.123),'\\n',\n",
    " \"{:e}\".format(4.123),'\\n',\n",
    " \"{:.0f}\".format(99.9),'\\n',\n",
    " \"{:%}\".format(4.123),'\\n',\n",
    " \"{:d}\".format(10))"
   ]
  },
  {
   "cell_type": "code",
   "execution_count": null,
   "metadata": {
    "collapsed": true
   },
   "outputs": [],
   "source": [
    "'''\n",
    "小作业\n",
    "① 三引号创建一个有提行的文本，print()函数输出\n",
    "② 申明一个字符串变量，值为一个文件路径，注意操作习惯\n",
    "③ 以下输出分别是多少：33+\"22\"; 33+int(\"22\"); \"22\" + str(55);\n",
    "④ m=“a,b,c”,m.split()会输出什么结果？（不加\",\"）\n",
    "⑤ 再回想一下：.split和.join的输出分别是什么类型的数据\n",
    "⑥ 如果我想打%怎么办？\n",
    "⑦ 这样书写正确吗，为什么？ print(\"abc%s\") % \"nn\"\n",
    "⑧ 这样书写正确吗，为什么？ print(245%f % 123)\n",
    "⑨ \"我的工作是…我喜欢…\" 把…替换成正确的内容\n",
    "'''"
   ]
  },
  {
   "cell_type": "code",
   "execution_count": 84,
   "metadata": {},
   "outputs": [
    {
     "name": "stdout",
     "output_type": "stream",
     "text": [
      "deee\n",
      "eee\n",
      "/Users/Zorn/Python/MyLove\n",
      "\\you\\and\\I\n",
      "55\n",
      "2255\n",
      "['a,b,c']\n",
      "['a', 'b', 'c']\n",
      "%\n",
      "abcnn\n",
      "245123.000000\n"
     ]
    }
   ],
   "source": [
    "# ① 三引号创建一个有提行的文本，print()函数输出\n",
    "st = '''deee\\neee'''\n",
    "print(st)\n",
    "\n",
    "\n",
    "# ② 申明一个字符串变量，值为一个文件路径，注意操作习惯\n",
    "st1 = '/Users/Zorn/Python/MyLove'\n",
    "st2 = '\\\\you\\\\and\\\\I' \n",
    "print(st1)\n",
    "print(st2)\n",
    "\n",
    "\n",
    "# ③ 以下输出分别是多少：33+\"22\"; 33+int(\"22\"); \"22\" + str(55);\n",
    "# print(33+\"22\") 这里会报错 -> 整型和字符串不可相加\n",
    "print(33+int(\"22\")) \n",
    "print(\"22\" + str(55))\n",
    "# 总结：强制转换成相同的类型就可以了\n",
    "\n",
    "\n",
    "# ④ m=“a,b,c”,m.split()会输出什么结果？（不加\",\"）\n",
    "m = \"a,b,c\"\n",
    "print(m.split())\n",
    "print(m.split(\",\"))\n",
    "# 不加，直接把\"a,b,c\"当一个元素创建成列表，加了，取“,”的左右值，分隔成一个个元素\n",
    "\n",
    "\n",
    "# ⑤ 再回想一下：.split和.join的输出分别是什么类型的数据\n",
    "# str.split(x)：拆分字符串，生成列表\n",
    "# str.join(x)：连接字符串，对象为列表\n",
    "\n",
    "\n",
    "# ⑥ 如果我想打%怎么办？\n",
    "print('%')\n",
    "\n",
    "\n",
    "# ⑦ 这样书写正确吗，为什么？ print(\"abc%s\") % \"nn\"\n",
    "#  print(\"abc%s\") % \"nn\"\n",
    "m = \"abc%s\" % \"nn\"\n",
    "print(m) # 正确的书写应该这样。\n",
    "\n",
    "\n",
    "# ⑧ 这样书写正确吗，为什么？ print(245%f % 123)\n",
    "# print(245%f % 123)\n",
    "print('245%f' %123) # 正确的书写，为什么？这是书写规定，不用太过于纠结，难道需要表明 我爱你 改成 你我爱？？？\n"
   ]
  },
  {
   "cell_type": "code",
   "execution_count": null,
   "metadata": {
    "collapsed": true
   },
   "outputs": [],
   "source": []
  },
  {
   "cell_type": "code",
   "execution_count": null,
   "metadata": {
    "collapsed": true
   },
   "outputs": [],
   "source": []
  },
  {
   "cell_type": "code",
   "execution_count": null,
   "metadata": {
    "collapsed": true
   },
   "outputs": [],
   "source": []
  },
  {
   "cell_type": "code",
   "execution_count": null,
   "metadata": {
    "collapsed": true
   },
   "outputs": [],
   "source": []
  },
  {
   "cell_type": "code",
   "execution_count": null,
   "metadata": {
    "collapsed": true
   },
   "outputs": [],
   "source": []
  },
  {
   "cell_type": "code",
   "execution_count": null,
   "metadata": {
    "collapsed": true
   },
   "outputs": [],
   "source": []
  },
  {
   "cell_type": "code",
   "execution_count": null,
   "metadata": {
    "collapsed": true
   },
   "outputs": [],
   "source": []
  },
  {
   "cell_type": "code",
   "execution_count": null,
   "metadata": {
    "collapsed": true
   },
   "outputs": [],
   "source": []
  }
 ],
 "metadata": {
  "kernelspec": {
   "display_name": "Python 3",
   "language": "python",
   "name": "python3"
  },
  "language_info": {
   "codemirror_mode": {
    "name": "ipython",
    "version": 3
   },
   "file_extension": ".py",
   "mimetype": "text/x-python",
   "name": "python",
   "nbconvert_exporter": "python",
   "pygments_lexer": "ipython3",
   "version": "3.6.3"
  }
 },
 "nbformat": 4,
 "nbformat_minor": 2
}
