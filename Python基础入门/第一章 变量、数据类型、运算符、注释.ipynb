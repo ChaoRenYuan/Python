{
 "cells": [
  {
   "cell_type": "code",
   "execution_count": 2,
   "metadata": {},
   "outputs": [
    {
     "data": {
      "text/plain": [
       "'\\n【基础1.1】 数据类型概述\\n\\nPython标准数据类型有：Numbers数字，String字符串， List列表，Tuple元组，Dict字典\\n\\n'"
      ]
     },
     "execution_count": 2,
     "metadata": {},
     "output_type": "execute_result"
    }
   ],
   "source": [
    "'''\n",
    "【课程1.1】 认识变量\n",
    "\n",
    "什么是变量？ —— 方程式“=”左边的，就是变量\n",
    "1、给变量赋值即创建该变量，并且同时赋予该变量\n",
    "① 变量名\n",
    "② 变量类型\n",
    "等号（=）用来给变量赋值\n",
    "\n",
    "2、变量命名规则：\n",
    "① 变量名第一个字符必须是字母（大小写均可）或者下划线（“_”），不能数字开头；\n",
    "② 变量名不能和关键字重叠，例如print，if，for\n",
    "③ 不要有空格\n",
    "\n",
    "'''"
   ]
  },
  {
   "cell_type": "code",
   "execution_count": 41,
   "metadata": {},
   "outputs": [
    {
     "name": "stdout",
     "output_type": "stream",
     "text": [
      "100\n",
      "1000.0\n",
      "Chaoren\n"
     ]
    }
   ],
   "source": [
    "# 变量赋值\n",
    "\n",
    "counter = 100 # 赋值整型变量\n",
    "miles = 1000.0 # 浮点型\n",
    "name = \"Chaoren\" # 字符串\n",
    " \n",
    "print(counter)\n",
    "print(miles)\n",
    "print(name)\n"
   ]
  },
  {
   "cell_type": "code",
   "execution_count": 42,
   "metadata": {},
   "outputs": [
    {
     "name": "stdout",
     "output_type": "stream",
     "text": [
      "1 1 1 1 2 hello\n"
     ]
    }
   ],
   "source": [
    "# 多变量赋值\n",
    "\n",
    "a = b = c = 1\n",
    "d, e, f = 1, 2, \"hello\"\n",
    "print(a, b, c, d, e, f)\n"
   ]
  },
  {
   "cell_type": "code",
   "execution_count": 43,
   "metadata": {},
   "outputs": [
    {
     "name": "stdout",
     "output_type": "stream",
     "text": [
      "10\n",
      "20\n"
     ]
    }
   ],
   "source": [
    "# 动态变量 -> 变量的值是可更改的，或者说，变量可以随时指向任意值\n",
    "\n",
    "var1 = 10\n",
    "print(var1)\n",
    "var1 = 20\n",
    "print(var1)\n"
   ]
  },
  {
   "cell_type": "code",
   "execution_count": null,
   "metadata": {
    "collapsed": true
   },
   "outputs": [],
   "source": [
    "'''\n",
    "【基础1.2】 数据类型概述\n",
    "\n",
    "Python标准数据类型有：Numbers数字，String字符串， List列表，Tuple元组，Dict字典\n",
    "\n",
    "'''"
   ]
  },
  {
   "cell_type": "code",
   "execution_count": 4,
   "metadata": {},
   "outputs": [
    {
     "name": "stdout",
     "output_type": "stream",
     "text": [
      "<class 'int'> <class 'float'>\n"
     ]
    }
   ],
   "source": [
    "# Numbers数字分为：int整型，long长整型，float浮点型，complex复数\n",
    "\n",
    "n1 = 10 \n",
    "n2 = 10.0 \n",
    "print(type(n1), type(n2))\n",
    "\n",
    "# print()函数，用于输出/打印内容\n",
    "# type()函数，用于查看数据类型\n",
    "# 总结：n1为int整型，n2为float浮点型"
   ]
  },
  {
   "cell_type": "code",
   "execution_count": 11,
   "metadata": {},
   "outputs": [
    {
     "name": "stdout",
     "output_type": "stream",
     "text": [
      "hello world! <class 'str'>\n",
      "hahaha <class 'str'>\n",
      "What your name? <class 'str'>\n",
      "My name is chaoren. <class 'str'>\n"
     ]
    }
   ],
   "source": [
    "# String字符串由数字、字母、下划线组成的一串字符，用于表示文本的数据类型\n",
    "\n",
    "s1 = \"hello world!\"\n",
    "s2 = 'hahaha'\n",
    "s3 = '''What your name?'''\n",
    "s4 = \"\"\"My name is chaoren.\"\"\"\n",
    "print(s1, type(s1))\n",
    "print(s2, type(s2))\n",
    "print(s3, type(s3))\n",
    "print(s4, type(s4))\n",
    "\n",
    "# 总结：字符串要用英文标点符号表达，单引号('') 和双引号(\"\")一样，但是三引号(''''''或\"\"\"\"\"\")表示多行的字符串"
   ]
  },
  {
   "cell_type": "code",
   "execution_count": 33,
   "metadata": {},
   "outputs": [
    {
     "name": "stdout",
     "output_type": "stream",
     "text": [
      "True <class 'bool'>\n",
      "True\n",
      "True\n",
      "100\n"
     ]
    }
   ],
   "source": [
    "# bool布尔型：True, False, 用于做判断\n",
    "\n",
    "b1 = True\n",
    "print(b1, type(b1))\n",
    "\n",
    "print(True == 1)\n",
    "print(False == 0)\n",
    "print(True * 100)\n",
    "\n",
    "# 总结：True 实际值是1，False实际值是0"
   ]
  },
  {
   "cell_type": "code",
   "execution_count": 34,
   "metadata": {},
   "outputs": [
    {
     "name": "stdout",
     "output_type": "stream",
     "text": [
      "['chaoren', 1, 3.1415926, [1, 2, 3]] <class 'list'>\n"
     ]
    }
   ],
   "source": [
    "# List列表，支持字符，数字，字符串以包含列表（即嵌套），用[]标识，有序对象\n",
    "\n",
    "lis1 = [\"chaoren\", 1, 3.1415926, [1, 2, 3]]\n",
    "print(lis1, type(lis1))\n",
    "\n",
    "# 总结：List列表是有序的并且属性还可以再嵌套List"
   ]
  },
  {
   "cell_type": "code",
   "execution_count": 35,
   "metadata": {},
   "outputs": [
    {
     "name": "stdout",
     "output_type": "stream",
     "text": [
      "(1, 2, 3.1415927, 'hello') <class 'tuple'>\n"
     ]
    }
   ],
   "source": [
    "# Tuple元祖，用（）标识，有序对象，不能二次赋值，可以理解成不可变的列表（只读列表）\n",
    "\n",
    "tup1 = (1, 2, 3.1415927, 'hello')\n",
    "# tup1[0] = 2\n",
    "print(tup1, type(tup1))\n"
   ]
  },
  {
   "cell_type": "code",
   "execution_count": 36,
   "metadata": {},
   "outputs": [
    {
     "name": "stdout",
     "output_type": "stream",
     "text": [
      "{'name': 'chaoren', 'city': 'shenzhen', 'tel': 666666666} <class 'dict'>\n"
     ]
    }
   ],
   "source": [
    "# Dict 字典，用{}标识，由索引（key）和它对应的值（value）组成，无序对象\n",
    "\n",
    "dic1 = {\"name\": \"chaoren\", \"city\": \"shenzhen\", \"tel\": 666666666}\n",
    "print(dic1, type(dic1))\n"
   ]
  },
  {
   "cell_type": "code",
   "execution_count": 40,
   "metadata": {},
   "outputs": [
    {
     "name": "stdout",
     "output_type": "stream",
     "text": [
      "10.8 <class 'float'>\n",
      "10 <class 'int'>\n",
      "----------\n",
      "10 <class 'int'>\n",
      "10.0 <class 'float'>\n",
      "----------\n",
      "10.0 <class 'float'>\n",
      "10.0 <class 'str'>\n",
      "10.0 <class 'float'>\n"
     ]
    }
   ],
   "source": [
    "# 数组类型转换方法 先举int, float, str三者\n",
    "\n",
    "var1 = 10.8\n",
    "var2 = int(var1)\n",
    "print(var1, type(var1))\n",
    "print(var2, type(var2))\n",
    "print('----------')\n",
    "# int(x)函数：将x转为整数，不受数学“四舍五入”的影响，这里还是输出为10\n",
    "\n",
    "var3 = 10\n",
    "var4 = float(var3)\n",
    "print(var3, type(var3))\n",
    "print(var4, type(var4))\n",
    "print('----------')\n",
    "# float(x)函数：将x转为浮点数\n",
    "\n",
    "\n",
    "var5 = 10.0\n",
    "var6 = str(var5)\n",
    "var7 = float(var6)\n",
    "print(var5, type(var5))\n",
    "print(var6, type(var6))\n",
    "print(var7, type(var7))\n",
    "# str(x)函数，将x转为字符串"
   ]
  },
  {
   "cell_type": "code",
   "execution_count": null,
   "metadata": {
    "collapsed": true
   },
   "outputs": [],
   "source": [
    "'''\n",
    "【课程1.3】  运算符\n",
    "\n",
    "什么是运算符？\n",
    "1 +2 = 3 的例子中，1 和 2 被称为操作数，\"+\" 称为运算符\n",
    "'''"
   ]
  },
  {
   "cell_type": "code",
   "execution_count": 50,
   "metadata": {},
   "outputs": [
    {
     "name": "stdout",
     "output_type": "stream",
     "text": [
      "a加b 的值为： 31\n",
      "a减b 的值为： 11\n",
      "a乘b 的值为： 210\n",
      "a除b 的值为： 2.1\n",
      "a取b的模为： 1\n",
      "2的3次方的值为： 8\n",
      "10除4的整除数为： 2\n"
     ]
    }
   ],
   "source": [
    "# 算数运算符\n",
    "\n",
    "a, b, c = 21, 10, 0\n",
    " \n",
    "c = a + b  # 加法\n",
    "print (\"a加b 的值为：\", c)\n",
    "\n",
    "c = a - b # 减法\n",
    "print( \"a减b 的值为：\", c )\n",
    "\n",
    "c = a * b  # 乘法\n",
    "print( \"a乘b 的值为：\", c )\n",
    "\n",
    "c = a / b  # 除法\n",
    "print( \"a除b 的值为：\", c )\n",
    "\n",
    "c = a % b  # 取模，返回除法的余数\n",
    "print( \"a取b的模为：\", c)\n",
    "\n",
    "# 修改变量 a 、b 、c\n",
    "a, b, = 2, 3\n",
    "c = a**b   # 幂\n",
    "print( \"2的3次方的值为：\", c)\n",
    "\n",
    "a, b = 10, 4\n",
    "c = a//b  # 取整除数 \n",
    "print( \"10除4的整除数为：\", c)"
   ]
  },
  {
   "cell_type": "code",
   "execution_count": 51,
   "metadata": {},
   "outputs": [
    {
     "name": "stdout",
     "output_type": "stream",
     "text": [
      "False\n",
      "True\n",
      "True\n",
      "False\n",
      "True\n",
      "False\n"
     ]
    }
   ],
   "source": [
    "# 比较运算符\n",
    "\n",
    "a, b = 21, 10\n",
    "print(a == b)  # 等于\n",
    "print(a != b)  # 不等于\n",
    "print(a > b)  # 大于\n",
    "print(a < b)  # 小于\n",
    "print(a >= 21)  # 大于等于\n",
    "print(a <= 2)  # 小于等于"
   ]
  },
  {
   "cell_type": "code",
   "execution_count": 57,
   "metadata": {},
   "outputs": [
    {
     "name": "stdout",
     "output_type": "stream",
     "text": [
      "False\n",
      "True\n",
      "False\n",
      "-----\n",
      "True\n",
      "-----\n",
      "False True True True\n"
     ]
    }
   ],
   "source": [
    "# 逻辑运算符\n",
    "\n",
    "print(True and False) # and: 且\n",
    "print(True or False) # or: 或\n",
    "print(not True) # not: 非\n",
    "print('-----')\n",
    "\n",
    "# 布尔值的本质：True的值等于1，False的值等于0\n",
    "print(True>0)\n",
    "print('-----')\n",
    "\n",
    "print(bool(0), bool(1), bool(-1), bool([1, 2, 3]))\n",
    "\n",
    "# 总结：\n",
    "# 1.且的语句必须成员值都为真，才会返回为真，否者返回假。 \n",
    "# 2.或的语句有一个为真，则返回真，否者返回假。    \n",
    "# 3.非的语句，顾名思义，非真为假，非假为真。\n"
   ]
  },
  {
   "cell_type": "code",
   "execution_count": 59,
   "metadata": {},
   "outputs": [
    {
     "name": "stdout",
     "output_type": "stream",
     "text": [
      "True\n",
      "True\n"
     ]
    }
   ],
   "source": [
    "# 成员运算符\n",
    "\n",
    "lst = [1, 2, 3, 4, 5]\n",
    "a, b = 1, 10\n",
    "print(a in lst) # 意思是说 a 在不在 lst 列表中，如果在则返回True\n",
    "print(b not in lst) # 意思是说 b 是否不在 lst 列表中，如果是则返回True"
   ]
  },
  {
   "cell_type": "code",
   "execution_count": 60,
   "metadata": {},
   "outputs": [
    {
     "data": {
      "text/plain": [
       "'\\n【课程1.4】  注释#\\n\\n注释是用来说明代码\\n程序运行的时候，Python解释器会直接忽略掉注释\\n有没有注释不影响程序的执行结果，但是影响到别人能不能看懂你的代码。\\n\\n'"
      ]
     },
     "execution_count": 60,
     "metadata": {},
     "output_type": "execute_result"
    }
   ],
   "source": [
    "'''\n",
    "【课程1.4】  注释#\n",
    "\n",
    "注释是用来说明代码\n",
    "程序运行的时候，Python解释器会直接忽略掉注释\n",
    "有没有注释不影响程序的执行结果，但是影响到别人能不能看懂你的代码。\n",
    "\n",
    "'''"
   ]
  },
  {
   "cell_type": "code",
   "execution_count": 61,
   "metadata": {},
   "outputs": [
    {
     "name": "stdout",
     "output_type": "stream",
     "text": [
      "hello world!\n"
     ]
    }
   ],
   "source": [
    "print('hello world!')\n",
    "# print('I love python')"
   ]
  },
  {
   "cell_type": "code",
   "execution_count": 62,
   "metadata": {},
   "outputs": [
    {
     "name": "stdout",
     "output_type": "stream",
     "text": [
      "1\n",
      "2\n",
      "3\n",
      "4\n"
     ]
    }
   ],
   "source": [
    "a = [1, 2, 3, 4]\n",
    "#a = {'name': 'chaoren', 'city':'深圳', 'tel':666666666}\n",
    "for i in a:\n",
    "    print(i)\n",
    "\n",
    "# 注释也可以用于标记暂不运行语句"
   ]
  },
  {
   "cell_type": "code",
   "execution_count": null,
   "metadata": {
    "collapsed": true
   },
   "outputs": [],
   "source": []
  }
 ],
 "metadata": {
  "kernelspec": {
   "display_name": "Python 3",
   "language": "python",
   "name": "python3"
  },
  "language_info": {
   "codemirror_mode": {
    "name": "ipython",
    "version": 3
   },
   "file_extension": ".py",
   "mimetype": "text/x-python",
   "name": "python",
   "nbconvert_exporter": "python",
   "pygments_lexer": "ipython3",
   "version": "3.6.3"
  }
 },
 "nbformat": 4,
 "nbformat_minor": 2
}
